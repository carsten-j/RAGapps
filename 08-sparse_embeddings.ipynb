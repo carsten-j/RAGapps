{
 "cells": [
  {
   "cell_type": "code",
   "execution_count": 1,
   "metadata": {},
   "outputs": [],
   "source": [
    "import os\n",
    "\n",
    "import polars as pl\n",
    "import qdrant_client\n",
    "from fastembed import SparseEmbedding, SparseTextEmbedding\n",
    "from langchain_community.document_loaders import PyMuPDFLoader\n",
    "from langchain_text_splitters import RecursiveCharacterTextSplitter\n",
    "from qdrant_client.models import (\n",
    "    Distance,\n",
    "    NamedSparseVector,\n",
    "    PointStruct,\n",
    "    SearchRequest,\n",
    "    SparseIndexParams,\n",
    "    SparseVector,\n",
    "    SparseVectorParams,\n",
    "    VectorParams,\n",
    ")\n",
    "from tqdm import tqdm"
   ]
  },
  {
   "cell_type": "code",
   "execution_count": 2,
   "metadata": {},
   "outputs": [],
   "source": [
    "rootdir = \"/Users/carsten/Documents/Science\"\n",
    "docs = []"
   ]
  },
  {
   "cell_type": "code",
   "execution_count": 3,
   "metadata": {},
   "outputs": [
    {
     "name": "stdout",
     "output_type": "stream",
     "text": [
      "/Users/carsten/Documents/Science/MCMC from Scratch a Practical Introduction to Markov Chain Monte Carlo.pdf\n",
      "/Users/carsten/Documents/Science/An Introduction to Sequential Monte Carlo.pdf\n",
      "/Users/carsten/Documents/Science/Mastering Probabilistic Graphical Models using Python.pdf\n",
      "/Users/carsten/Documents/Science/Machine Learning Algorithms in Depth.pdf\n",
      "/Users/carsten/Documents/Science/StatProofBook.pdf\n",
      "/Users/carsten/Documents/Science/Hamiltonian Monte Carlo Methods in Machine Learning.pdf\n",
      "/Users/carsten/Documents/Science/An Introduction to MCMC for Machine Learning.pdf\n",
      "/Users/carsten/Documents/Science/An Introduction to Probabilistic Programming.pdf\n",
      "/Users/carsten/Documents/Science/Statistics/Think Stats 2nd ed.pdf\n",
      "/Users/carsten/Documents/Science/Statistics/Introduction to Statistics at DTU.pdf\n",
      "/Users/carsten/Documents/Science/Statistics/OpenIntro Statistics.pdf\n",
      "/Users/carsten/Documents/Science/Statistics/Python for Probability Statistics and Machine learning 2nd ed.pdf\n",
      "/Users/carsten/Documents/Science/Statistics/Modern Statistics A Computer-Based Approach with Python.pdf\n",
      "/Users/carsten/Documents/Science/Statistics/Introduction to Modern Statistics 2e.pdf\n",
      "/Users/carsten/Documents/Science/Statistics/Industrial Statistics a Computer-Based Approach with Python.pdf\n",
      "/Users/carsten/Documents/Science/Statistics/All Of Statistics.pdf\n",
      "/Users/carsten/Documents/Science/Statistics/Monte Carlo Statistical Methods.pdf\n",
      "/Users/carsten/Documents/Science/Statistics/Introduction to Probability.pdf\n",
      "/Users/carsten/Documents/Science/Statistics/Introduction to Modern Statistics.pdf\n",
      "/Users/carsten/Documents/Science/Statistics/Advanced Statistical Computing.pdf\n",
      "/Users/carsten/Documents/Science/Statistics/Modern Mathematical Statistics with Applications 3rd edition.pdf\n",
      "/Users/carsten/Documents/Science/Statistics/Generalized Linear Models.pdf\n",
      "/Users/carsten/Documents/Science/Statistics/Statistics/Statistical Regression and Classification From Linear Models to Machine Learning.pdf\n",
      "/Users/carsten/Documents/Science/Statistics/Statistics/probability_cheatsheet.pdf\n",
      "/Users/carsten/Documents/Science/Statistics/Statistics/Essential Medical Statistics 2nd ed.pdf\n",
      "/Users/carsten/Documents/Science/Statistics/Statistics/Introduction to Probability and Statistics for Engineers and Scientists.pdf\n",
      "/Users/carsten/Documents/Science/Statistics/Statistics/What are the most important statistical ideas of the past 50 years.pdf\n",
      "/Users/carsten/Documents/Science/Statistics/Statistics/Regression and other Stories.pdf\n",
      "/Users/carsten/Documents/Science/Statistics/Statistics/What is a P-Value Anyway_Vickers_Andrew.pdf\n",
      "/Users/carsten/Documents/Science/Statistics/Statistics/seeing-theory.pdf\n",
      "/Users/carsten/Documents/Science/Statistics/Statistics/Computer Age Statistical Inference.pdf\n",
      "/Users/carsten/Documents/Science/Statistics/Statistics/Advanced High School Statistics.pdf\n",
      "/Users/carsten/Documents/Science/Statistics/Statistics/Statistics in a Nutshell.pdf\n",
      "/Users/carsten/Documents/Science/Statistics/Statistics/Statistics Done Wrong.pdf\n",
      "/Users/carsten/Documents/Science/Statistics/Statistics/Сumming2012.pdf\n",
      "/Users/carsten/Documents/Science/Statistics/Statistics/All of Nonparametric Statistics.pdf\n",
      "/Users/carsten/Documents/Science/Statistics/Statistics/Introduction to Statistics in Metrology.pdf\n",
      "/Users/carsten/Documents/Science/Statistics/Statistics/What If.pdf\n",
      "/Users/carsten/Documents/Science/Statistics/Statistics/Mathematical Statistics and Data Analysis 3ed.pdf\n",
      "/Users/carsten/Documents/Science/Statistics/Statistics/nonparametric_statistics_a_step-by-step_approach.pdf\n",
      "/Users/carsten/Documents/Science/Statistics/Statistics/Practical Statistics for Data Scientists 2nd ed.pdf\n",
      "/Users/carsten/Documents/Science/Statistics/Artikler/Bayesian workflow.pdf\n",
      "/Users/carsten/Documents/Science/Statistics/Artikler/Warning of a forthcoming collapse of the Atlantic meridional overturning circulation.pdf\n",
      "/Users/carsten/Documents/Science/Statistics/Artikler/Statistical errors (p-values).pdf\n",
      "/Users/carsten/Documents/Science/Statistics/Artikler/Using sequences of life-events to predict human lives.pdf\n",
      "/Users/carsten/Documents/Science/Statistics/Artikler/Statistical Significance, p-Values, and the Reporting of Uncertainty.pdf\n",
      "/Users/carsten/Documents/Science/Statistics/Artikler/Non-Experimental Data, Hypothesis Testing, and the Likelihood Principle. A Social Science Perspective.pdf\n",
      "/Users/carsten/Documents/Science/TeX/ChkTeX.pdf\n",
      "/Users/carsten/Documents/Science/TeX/The LaTeX Companion.pdf\n",
      "/Users/carsten/Documents/Science/TeX/symbols-a4.pdf\n",
      "/Users/carsten/Documents/Science/TeX/The Not So Short Introduction to LaTeX.pdf\n",
      "/Users/carsten/Documents/Science/TeX/A Guide to LaTeX.pdf\n",
      "/Users/carsten/Documents/Science/LLM/The Hundred-page Language Models Book.pdf\n",
      "/Users/carsten/Documents/Science/LLM/Foundations of Large Language Models.pdf\n",
      "/Users/carsten/Documents/Science/LLM/Generative Deep Learning Teaching Machines to Paint Write Compose and Play 2nd ed.pdf\n",
      "/Users/carsten/Documents/Science/LLM/DeepSeek_R1.pdf\n",
      "/Users/carsten/Documents/Science/LLM/Build a Large Language Model.pdf\n",
      "/Users/carsten/Documents/Science/LLM/MemGPT Towards LLMs as Operating Systems.pdf\n",
      "/Users/carsten/Documents/Science/LLM/Learn Generative AI with PyTorch.pdf\n",
      "/Users/carsten/Documents/Science/Springer/Statistics/2014_Book_ProbabilityTheory.pdf\n",
      "/Users/carsten/Documents/Science/Springer/Statistics/2005_Book_AModernIntroductionToProbabili.pdf\n",
      "/Users/carsten/Documents/Science/Springer/Statistics/2013_Book_ProbabilityTheory.pdf\n",
      "/Users/carsten/Documents/Science/Springer/Statistics/2009_Book_TheElementsOfStatisticalLearni.pdf\n",
      "/Users/carsten/Documents/Science/Springer/Statistics/2016_Book_BrownianMotionMartingalesAndSt.pdf\n",
      "/Users/carsten/Documents/Science/Springer/Statistics/2018_Book_PhilosophicalAndMathematicalLo.pdf\n",
      "/Users/carsten/Documents/Science/Springer/Mathematics/2016_Book_IntroductionToPartialDifferent.pdf\n",
      "/Users/carsten/Documents/Science/Springer/Mathematics/2015_Book_UnderstandingAnalysis.pdf\n",
      "/Users/carsten/Documents/Science/Springer/Mathematics/2015_Book_LinearAlgebra.pdf\n",
      "/Users/carsten/Documents/Science/Springer/Mathematics/2018_Book_AppliedLinearAlgebra.pdf\n",
      "/Users/carsten/Documents/Science/Springer/Mathematics/2018_Book_APythagoreanIntroductionToNumb.pdf\n",
      "/Users/carsten/Documents/Science/Springer/Mathematics/2014_Book_CalculusWithApplications.pdf\n",
      "/Users/carsten/Documents/Science/Springer/Mathematics/2016_Book_APrimerOnScientificProgramming.pdf\n",
      "/Users/carsten/Documents/Science/Springer/Mathematics/2015_Book_RealAnalysis.pdf\n",
      "/Users/carsten/Documents/Science/Springer/Mathematics/2015_Book_MethodsOfMathematicalModelling.pdf\n",
      "/Users/carsten/Documents/Science/Springer/Mathematics/2015_Book_AppliedPartialDifferentialEqua.pdf\n",
      "/Users/carsten/Documents/Science/Springer/Mathematics/2017_Book_ModelingLife.pdf\n",
      "/Users/carsten/Documents/Science/Springer/Mathematics/2018_Book_AbstractAlgebra.pdf\n",
      "/Users/carsten/Documents/Science/Springer/Mathematics/2014_Book_MultivariateCalculusAndGeometr.pdf\n",
      "/Users/carsten/Documents/Science/Springer/Mathematics/2013_Book_ElementaryAnalysis.pdf\n",
      "/Users/carsten/Documents/Science/Springer/Philosophy/2018_Book_MathematicalLogic.pdf\n",
      "/Users/carsten/Documents/Science/Springer/Philosophy/2018_Book_IntroductionToFormalPhilosophy.pdf\n",
      "/Users/carsten/Documents/Science/Springer/Philosophy/2016_Book_PhilosophyOfScienceForScientis.pdf\n",
      "/Users/carsten/Documents/Science/Springer/Philosophy/2016_Book_TheNatureOfScientificKnowledge.pdf\n",
      "/Users/carsten/Documents/Science/Springer/Philosophy/2018_Book_PhilosophicalAndMathematicalLo.pdf\n",
      "/Users/carsten/Documents/Science/Springer/Physics/2016_Book_BasicConceptsInComputationalPh.pdf\n",
      "/Users/carsten/Documents/Science/Springer/Physics/2018_Book_QuantumMechanicsForPedestrians_2.pdf\n",
      "/Users/carsten/Documents/Science/Springer/Physics/2018_Book_QuantumMechanicsForPedestrians_1.pdf\n",
      "/Users/carsten/Documents/Science/Springer/Physics/2017_Book_StatisticsAndAnalysisOfScienticData.pdf\n",
      "/Users/carsten/Documents/Science/Springer/Physics/2017_Book_ComputationalPhysics.pdf\n",
      "/Users/carsten/Documents/Science/Springer/Physics/2017_Book_FoundationsOfQuantumMechanics.pdf\n",
      "/Users/carsten/Documents/Science/Springer/Physics/2015_Book_IntermediatePhysicsForMedicine.pdf\n",
      "/Users/carsten/Documents/Science/Springer/Physics/2014_Book_DataAnalysis.pdf\n",
      "/Users/carsten/Documents/Science/Springer/Physics/2018_Book_LinearAlgebraAndAnalyticGeomet.pdf\n",
      "/Users/carsten/Documents/Science/Springer/Physics/2018_Book_AFirstIntroductionToQuantumPhy.pdf\n",
      "/Users/carsten/Documents/Science/Springer/Physics/2017_Book_MechanicsAndThermodynamics.pdf\n",
      "/Users/carsten/Documents/Science/Springer/Physics/2018_Book_IntroductoryQuantumMechanics.pdf\n",
      "/Users/carsten/Documents/Science/Springer/Physics/2015_Book_ElementaryMechanicsUsingPython.pdf\n",
      "/Users/carsten/Documents/Science/Springer/Physics/2015_Book_FluidDynamics.pdf\n",
      "/Users/carsten/Documents/Science/Springer/Physics/2018_Book_IntroductionToGeneralRelativit.pdf\n",
      "/Users/carsten/Documents/Science/Springer/ComputerScience/2016_Book_GuideToDiscreteMathematics.pdf\n",
      "/Users/carsten/Documents/Science/Springer/ComputerScience/2017_Book_EyeTrackingMethodology.pdf\n",
      "/Users/carsten/Documents/Science/Springer/ComputerScience/2018_Book_IntroductionToParallelComputin.pdf\n",
      "/Users/carsten/Documents/Science/Springer/ComputerScience/2018_Book_IntroductionToDeepLearning.pdf\n",
      "/Users/carsten/Documents/Science/Springer/ComputerScience/2018_Book_NeuralNetworksAndDeepLearning.pdf\n",
      "/Users/carsten/Documents/Science/Springer/ComputerScience/2019_Book_AdvancedGuideToPython3Programm.pdf\n",
      "/Users/carsten/Documents/Science/Springer/ComputerScience/2015_Book_DataStructuresAndAlgorithmsWit.pdf\n",
      "/Users/carsten/Documents/Science/Springer/ComputerScience/2018_Book_AnalysisForComputerScientists.pdf\n",
      "/Users/carsten/Documents/Science/Python/Python for Data Analysis 3rd Edition.pdf\n",
      "/Users/carsten/Documents/Science/Python/Fluent Python.pdf\n",
      "/Users/carsten/Documents/Science/Python/A Primer on Scientific Programming with Python.pdf\n",
      "/Users/carsten/Documents/Science/Python/Data Science from Scratch First Principles with Python.pdf\n",
      "/Users/carsten/Documents/Science/Python/Python Crash Course.pdf\n",
      "/Users/carsten/Documents/Science/Python/Hypermodern Python Tooling.pdf\n",
      "/Users/carsten/Documents/Science/Python/Numerical Python.pdf\n",
      "/Users/carsten/Documents/Science/Python/Scientific Visualization Python and Matplotlib.pdf\n",
      "/Users/carsten/Documents/Science/Python/Programming for Computations - Python.pdf\n",
      "/Users/carsten/Documents/Science/Python/Introducing Python Modern Computing in Simple Packages.pdf\n",
      "/Users/carsten/Documents/Science/Python/Automate The Boring Stuff With Python Practical Programming.pdf\n",
      "/Users/carsten/Documents/Science/Python/PyTorch/Mastering PyTorch.pdf\n",
      "/Users/carsten/Documents/Science/Python/PyTorch/Modern Computer Vision with PyTorch - Second Edition.pdf\n",
      "/Users/carsten/Documents/Science/Python/PyTorch/Programming Pytorch for Deep Learning.pdf\n",
      "/Users/carsten/Documents/Science/DeepLearning/Probabilistic Machine Learning An Introduction.pdf\n",
      "/Users/carsten/Documents/Science/DeepLearning/Probabilistic Machine Learning Advanced Topics Supplement.pdf\n",
      "/Users/carsten/Documents/Science/DeepLearning/Neural Networks and Deep Learning.pdf\n",
      "/Users/carsten/Documents/Science/DeepLearning/Machine Learning A Probabilistic Perspective.pdf\n",
      "/Users/carsten/Documents/Science/DeepLearning/Pattern Recognition And Machine Learning.pdf\n",
      "/Users/carsten/Documents/Science/DeepLearning/Probabilistic Machine Learning Advanced Topics.pdf\n",
      "/Users/carsten/Documents/Science/DeepLearning/Deep Learning for Coders with fastai and PyTorch.pdf\n",
      "/Users/carsten/Documents/Science/DeepLearning/Understanding Deep Learning.pdf\n",
      "/Users/carsten/Documents/Science/DeepLearning/Deep Learning with Python 3rd Edition.pdf\n",
      "/Users/carsten/Documents/Science/DeepLearning/Dive into Deep Learning.pdf\n",
      "/Users/carsten/Documents/Science/DeepLearning/Deep Learning with Python 2nd Edition.pdf\n",
      "/Users/carsten/Documents/Science/DeepLearning/Deep Learning Book.pdf\n",
      "/Users/carsten/Documents/Science/DeepLearning/Artikler/Learning representations by back-propagating errors.pdf\n",
      "/Users/carsten/Documents/Science/DeepLearning/Artikler/An overview of gradient descent optimization algorithms.pdf\n",
      "/Users/carsten/Documents/Science/Science/Probability Theory - The Science of Logic.pdf\n",
      "/Users/carsten/Documents/Science/Science/Fooled by Randomness.pdf\n",
      "/Users/carsten/Documents/Science/Science/Human Compatible.pdf\n",
      "/Users/carsten/Documents/Science/Science/The Alignment Problem.pdf\n",
      "/Users/carsten/Documents/Science/Science/The History of Statistics.pdf\n",
      "/Users/carsten/Documents/Science/Science/Thinking, Fast and Slow.pdf\n",
      "/Users/carsten/Documents/Science/Science/Bernoullis Fallacy Statistical Illogic and the Crisis of Modern Science.pdf\n",
      "/Users/carsten/Documents/Science/Science/The Theory that would not Die.pdf\n",
      "/Users/carsten/Documents/Science/NotCategorized/Graphical-Models-with-R.pdf\n",
      "/Users/carsten/Documents/Science/NotCategorized/Scientific Computing.pdf\n",
      "/Users/carsten/Documents/Science/NotCategorized/The New Statistics with R.pdf\n",
      "/Users/carsten/Documents/Science/NotCategorized/Bayesian Optimization.pdf\n",
      "/Users/carsten/Documents/Science/NotCategorized/Bayesian Optimization in Action.pdf\n",
      "/Users/carsten/Documents/Science/NotCategorized/Modeling Social Behavior Mathematical and Agent-based-Models of Social Dynamics and Cultural Evolution.pdf\n",
      "/Users/carsten/Documents/Science/NotCategorized/A First Course in Probability (10th Edition)-Pearson (2018).pdf\n",
      "/Users/carsten/Documents/Science/NotCategorized/Foundations of Deep Reinforcement Learning.pdf\n",
      "/Users/carsten/Documents/Science/NotCategorized/Statistical Methods for Machine Learning.pdf\n",
      "/Users/carsten/Documents/Science/NotCategorized/Probability and statistics for engineers and scientists - Ross.pdf\n",
      "/Users/carsten/Documents/Science/NotCategorized/Bayesian Applications in Environmental and Ecological Studies with R and Stan.pdf\n",
      "/Users/carsten/Documents/Science/NotCategorized/Statistical Mechanics Algorithms and Computations.pdf\n",
      "/Users/carsten/Documents/Science/NotCategorized/Applied Regression Analysis and Generalized LinearM odels.pdf\n",
      "/Users/carsten/Documents/Science/NotCategorized/Applied Multivariate Statistical Analysis 6th Edition.pdf\n",
      "/Users/carsten/Documents/Science/NotCategorized/Python Machine Learning.pdf\n",
      "/Users/carsten/Documents/Science/NotCategorized/definettiwasright.pdf\n",
      "/Users/carsten/Documents/Science/NotCategorized/Main_Day1.pdf\n",
      "/Users/carsten/Documents/Science/NotCategorized/telling-stories-with-data-with-applications-in-r-9.pdf\n",
      "/Users/carsten/Documents/Science/NotCategorized/Data Science on AWS.pdf\n",
      "/Users/carsten/Documents/Science/NotCategorized/Sequential Decision Analytics and Modeling Modeling with Python.pdf\n",
      "/Users/carsten/Documents/Science/NotCategorized/Probabilistic Machine Learning for Finance and Investing.pdf\n",
      "/Users/carsten/Documents/Science/NotCategorized/Artificial Intelligence A Modern Approach (3rd Edition).pdf\n",
      "/Users/carsten/Documents/Science/NotCategorized/Golub, Van Loan - Matrix Computations.pdf\n",
      "/Users/carsten/Documents/Science/NotCategorized/Ten simple rules for writing and sharing computational analyses in Jupyter Notebooks.pdf\n",
      "/Users/carsten/Documents/Science/NotCategorized/Information Theory, Inference, and Learning Algorithms.pdf\n",
      "/Users/carsten/Documents/Science/NotCategorized/Functional Differential Geometry.pdf\n",
      "/Users/carsten/Documents/Science/NotCategorized/An Introduction to Generalized Linear Models.pdf\n",
      "/Users/carsten/Documents/Science/NotCategorized/Designing Machine Learning Systems.pdf\n",
      "/Users/carsten/Documents/Science/Bayes/Bayesian Statistics The Fun Way.pdf\n",
      "/Users/carsten/Documents/Science/Bayes/A First Course in Bayesian Statistical Methods.pdf\n",
      "/Users/carsten/Documents/Science/Bayes/Bayesian Analysis with Python.pdf\n",
      "/Users/carsten/Documents/Science/Bayes/Doing Bayesian Data Analysis.pdf\n",
      "/Users/carsten/Documents/Science/Bayes/Think Bayes. Bayesian Statistics in Python.pdf\n",
      "/Users/carsten/Documents/Science/Bayes/Data Analysis. A Bayesian Tutorial 2nd ed.pdf\n",
      "/Users/carsten/Documents/Science/Bayes/Statistical Rethinking Solutions.pdf\n",
      "/Users/carsten/Documents/Science/Bayes/Statistical Rethinking 1st Ed.pdf\n",
      "/Users/carsten/Documents/Science/Bayes/Bayesian Methods for Hackers.pdf\n",
      "/Users/carsten/Documents/Science/Bayes/Statistical Rethinking.pdf\n",
      "/Users/carsten/Documents/Science/Bayes/Baysian Data Analysis 3rd ed.pdf\n",
      "/Users/carsten/Documents/Science/Bayes/Probabilistic Numerics.pdf\n",
      "/Users/carsten/Documents/Science/Bayes/An Introduction to MCMC for Machine Learning.pdf\n",
      "/Users/carsten/Documents/Science/Bayes/The Bayesian Choice 2nd ed.pdf\n",
      "/Users/carsten/Documents/Science/MachineLearning/Applied Machine Learning.pdf\n",
      "/Users/carsten/Documents/Science/MachineLearning/The Elements of Statistical Learning.pdf\n",
      "/Users/carsten/Documents/Science/MachineLearning/Machine Learning with PyTorch and Scikit-Learn.pdf\n",
      "/Users/carsten/Documents/Science/MachineLearning/An Introduction to Statistical Learning.pdf\n",
      "/Users/carsten/Documents/Science/MachineLearning/Hands-On Machine Learning with Scikit-Learn, Keras, and TensorFlow.pdf\n",
      "/Users/carsten/Documents/Science/MachineLearning/The Hundred-Page Machine Learning Book.pdf\n",
      "/Users/carsten/Documents/Science/MachineLearning/Artikler/LightGBM A Highly Efficient Gradient Boosting Decision Tree.pdf\n",
      "/Users/carsten/Documents/Science/MachineLearning/Artikler/XGBoost A Scalable Tree Boosting System.pdf\n",
      "/Users/carsten/Documents/Science/Math/Mat 3AL.pdf\n",
      "/Users/carsten/Documents/Science/Math/Mathematics for Machine Learning.pdf\n",
      "/Users/carsten/Documents/Science/Math/Mat 3AL forside.pdf\n",
      "/Users/carsten/Documents/Science/Math/Optimization/Learning Theory from First Principles.pdf\n",
      "/Users/carsten/Documents/Science/Math/Optimization/Algorithms for Optimization.pdf\n",
      "/Users/carsten/Documents/Science/Math/Optimization/Convex Optimization.pdf\n",
      "/Users/carsten/Documents/Science/Math/MeasureTheory/Measure, Integration and Real Analysis.pdf\n",
      "/Users/carsten/Documents/Science/Math/MeasureTheory/An Introduction to Measure Theory.pdf\n",
      "/Users/carsten/Documents/Science/Math/MeasureTheory/Probability, Theory and Examples.pdf\n",
      "/Users/carsten/Documents/Science/Math/MeasureTheory/Measure Theory.pdf\n",
      "/Users/carsten/Documents/Science/Math/LinearAlgebra/Linear Algebra.pdf\n",
      "/Users/carsten/Documents/Science/Math/LinearAlgebra/Introduction to Linear Algebra.pdf\n",
      "/Users/carsten/Documents/Science/Math/LinearAlgebra/Linear Algebra Done Right.pdf\n",
      "/Users/carsten/Documents/Science/Math/Calculus/Analysis Now.pdf\n",
      "/Users/carsten/Documents/Science/Math/Calculus/Analysis 2.pdf\n",
      "/Users/carsten/Documents/Science/Math/Calculus/Analysis 1.pdf\n",
      "/Users/carsten/Documents/Science/NLP/Natural Language Processing with Transformers revised edition.pdf\n",
      "/Users/carsten/Documents/Science/AppliedStatistics2023/Data Reduction and Error Analysis.pdf\n",
      "/Users/carsten/Documents/Science/AppliedStatistics2023/Statistics a Guide to the Use of Statistical Methods in the Physical Sciences.pdf\n",
      "/Users/carsten/Documents/Science/AppliedStatistics2023/Statistical Data Analysis.pdf\n",
      "/Users/carsten/Documents/Science/AppliedStatistics2023/Fischer.pdf\n",
      "/Users/carsten/Documents/Science/AppliedStatistics2023/Project_Group6_ChristineJakobMakitoNiels.pdf\n",
      "/Users/carsten/Documents/Science/AppliedStatistics2023/Project_Group5_CarstenDavidSebastianSimon.pdf\n",
      "/Users/carsten/Documents/Science/AppliedStatistics2023/An Introduction to Error Analysis.pdf\n",
      "/Users/carsten/Documents/Science/AppliedStatistics2023/Practical Statistics for Particle Physics.pdf\n",
      "/Users/carsten/Documents/Science/AppliedStatistics2023/AS2023_LABscheduleV2.0_27nov.pdf\n",
      "/Users/carsten/Documents/Science/AppliedStatistics2023/MLE/Testing Goodness of Fit.pdf\n",
      "/Users/carsten/Documents/Science/AppliedStatistics2023/MLE/master.pdf\n",
      "/Users/carsten/Documents/Science/AppliedStatistics2023/MLE/Statistics_Fitting_II.pdf\n",
      "/Users/carsten/Documents/Science/AppliedStatistics2023/MLE/statistics-ii.pdf\n",
      "/Users/carsten/Documents/Science/AppliedStatistics2023/MLE/statistik_15.06.10.pdf\n",
      "/Users/carsten/Documents/Science/PML2024/Frequentism and Bayesianism. A Python-driven Primer.pdf\n",
      "/Users/carsten/Documents/Science/PML2024/Probabilistic Graphical Models.pdf\n",
      "/Users/carsten/Documents/Science/PML2024/Trefethen-Bau.pdf\n",
      "/Users/carsten/Documents/Science/PML2024/Self Assessment.pdf\n",
      "/Users/carsten/Documents/Science/PML2024/Machine Learning The Science of Selection under Uncertainty.pdf\n",
      "/Users/carsten/Documents/Science/PML2024/the-two-schools-of-probability-theory.pdf\n",
      "/Users/carsten/Documents/Science/PML2024/Monte Carlo Gradient Estimation in Machine Learning.pdf\n",
      "/Users/carsten/Documents/Science/PML2024/Variational Inference Foundations and Modern Methods.pdf\n",
      "/Users/carsten/Documents/Science/PML2024/two-schools.pdf\n",
      "/Users/carsten/Documents/Science/PML2024/Machine Learning Algorithms in Depth.pdf\n",
      "/Users/carsten/Documents/Science/PML2024/Axiomatic Characterizations of Information Measures.pdf\n",
      "/Users/carsten/Documents/Science/PML2024/cox.pdf\n",
      "/Users/carsten/Documents/Science/PML2024/A Mathematical Theory of Communication.pdf\n",
      "/Users/carsten/Documents/Science/PML2024/ProbabilityFrequencyReasonableExpectation.pdf\n",
      "/Users/carsten/Documents/Science/PML2024/Probability and Computing.pdf\n",
      "/Users/carsten/Documents/Science/PML2024/Probability and Statistics for Computer Science.pdf\n",
      "/Users/carsten/Documents/Science/PML2024/Assignments/PML_Group5_A1.pdf\n",
      "/Users/carsten/Documents/Science/PML2024/Assignments/PML_Group5_A3.pdf\n",
      "/Users/carsten/Documents/Science/PML2024/Assignments/PML_Group5_A2.pdf\n",
      "/Users/carsten/Documents/Science/PML2024/Week6/Slides.pdf\n",
      "/Users/carsten/Documents/Science/PML2024/Week6/DDPM_and_score_matching.pdf\n",
      "/Users/carsten/Documents/Science/PML2024/Week1/PML_Week1_Interpretation.pdf\n",
      "/Users/carsten/Documents/Science/PML2024/Week1/Notes_PML_Oswin.pdf\n",
      "/Users/carsten/Documents/Science/PML2024/Week1/PML_23_graphical_models.pdf\n",
      "/Users/carsten/Documents/Science/PML2024/Week1/The Matrix Cookbook.pdf\n",
      "/Users/carsten/Documents/Science/PML2024/Week1/PML_Week1_GLM.pdf\n",
      "/Users/carsten/Documents/Science/PML2024/Week7/Slides.pdf\n",
      "/Users/carsten/Documents/Science/PML2024/Week7/Aleatoric and epistemic uncertainty in machine learning: an introduction to concepts and methods.pdf\n",
      "/Users/carsten/Documents/Science/PML2024/Examl/PML2024_Project.pdf\n",
      "/Users/carsten/Documents/Science/PML2024/Examl/PML___Exam_project_2024_2025.pdf\n",
      "/Users/carsten/Documents/Science/PML2024/Week2/Slides1.pdf\n",
      "/Users/carsten/Documents/Science/PML2024/Week2/Slides2.pdf\n",
      "/Users/carsten/Documents/Science/PML2024/GP/Gaussian Processes for Machine Learning.pdf\n",
      "/Users/carsten/Documents/Science/PML2024/GP/A Survey of Constrained Gaussian Process Regression- Approaches and Implementation Challenges.pdf\n",
      "/Users/carsten/Documents/Science/PML2024/GP/Automatic Model Construction with Gaussian Processes.pdf\n",
      "/Users/carsten/Documents/Science/PML2024/GP/Introduction to Gaussian Processes.pdf\n",
      "/Users/carsten/Documents/Science/PML2024/Week5/PML_Diffusion.pdf\n",
      "/Users/carsten/Documents/Science/PML2024/Week5/PML_Random_Fields.pdf\n",
      "/Users/carsten/Documents/Science/PML2024/Week4/Rank-normalization, folding, and localization.pdf\n",
      "/Users/carsten/Documents/Science/PML2024/Week4/A Conceptual Introduction to Hamiltonian Monte Carlo.pdf\n",
      "/Users/carsten/Documents/Science/PML2024/Week4/PML_HMC.pdf\n",
      "/Users/carsten/Documents/Science/PML2024/Week4/PML_GP2.pdf\n",
      "/Users/carsten/Documents/Science/PML2024/Week3/Slides.pdf\n",
      "/Users/carsten/Documents/Science/PML2024/Week3/PML_Pyro.pdf\n",
      "/Users/carsten/Documents/Science/PML2024/Week3/Pyro Deep Universal Probabilistic Programming.pdf\n",
      "/Users/carsten/Documents/Science/PML2024/Week3/Importance Sampling.pdf\n",
      "/Users/carsten/Documents/Science/PML2024/DDPM/Score-based Generative Modeling Through\n",
      "Stochastic Differential Equations.pdf\n",
      "/Users/carsten/Documents/Science/PML2024/DDPM/Inference-Time Scaling for Diffusion Models beyond Scaling Denoising Steps.pdf\n",
      "/Users/carsten/Documents/Science/PML2024/DDPM/Variational Diffusion Models.pdf\n",
      "/Users/carsten/Documents/Science/PML2024/DDPM/Tutorial on Diffusion Models for Imaging and Vision.pdf\n",
      "/Users/carsten/Documents/Science/PML2024/DDPM/TabDDPM Modelling Tabular Data with Diffusion Models.pdf\n",
      "/Users/carsten/Documents/Science/PML2024/DDPM/Denoising Diffusion Probabilistic Models.pdf\n",
      "/Users/carsten/Documents/Science/PML2024/DDPM/Improved Denoising Diffusion Probabilistic Models.pdf\n",
      "/Users/carsten/Documents/Science/PML2024/DDPM/Denoising Diffusion Implicit Models.pdf\n",
      "/Users/carsten/Documents/Science/PML2024/PRML/PRML_Solution_Manual.pdf\n",
      "/Users/carsten/Documents/Science/PML2024/PRML/bishop_solutions.pdf\n",
      "/Users/carsten/Documents/Science/PML2024/PRML/prml-web-sol-2009-09-08.pdf\n",
      "/Users/carsten/Documents/Science/PML2024/VAE/Variational Inference A Review for Statisticians.pdf\n",
      "/Users/carsten/Documents/Science/PML2024/VAE/cont_bern_aux.pdf\n",
      "/Users/carsten/Documents/Science/PML2024/VAE/An Introduction to Variational Autoencoders.pdf\n",
      "/Users/carsten/Documents/Science/PML2024/VAE/Autoencoders and their applications in machine learning - a survey.pdf\n",
      "/Users/carsten/Documents/Science/PML2024/VAE/The continuous Bernoulli - fixing a pervasive error in variational autoencoders.pdf\n",
      "/Users/carsten/Documents/Science/PML2024/VAE/Stochastic Variational Inference.pdf\n",
      "/Users/carsten/Documents/Science/PML2024/VAE/Auto-Encoding Variational Bayes.pdf\n",
      "/Users/carsten/Documents/Science/PML2024/VAE/Variational Methods for Machine Learning with Applications to Deep Networks.pdf\n",
      "/Users/carsten/Documents/Science/PML2024/VAE/Variational Bayesian Learning Theory.pdf\n",
      "/Users/carsten/Documents/Science/PML2024/VAE/A Tutorial on Variational Bayesian inference.pdf\n",
      "/Users/carsten/Documents/Science/PML2024/VAE/Variational Inference.pdf\n",
      "/Users/carsten/Documents/Science/ReinforcementLearning/A Little Bit of Reinforcement Learning from Human Feedback.pdf\n",
      "/Users/carsten/Documents/Science/ReinforcementLearning/Reinforcement Learning An introduction.pdf\n",
      "/Users/carsten/Documents/Science/ReinforcementLearning/Deep Reinforcement Learning Hands-On.pdf\n"
     ]
    }
   ],
   "source": [
    "for subdir, dirs, files in os.walk(rootdir):\n",
    "    for file in files:\n",
    "        if file.endswith(\".pdf\"):\n",
    "            file_path = os.path.join(subdir, file)\n",
    "            print(file_path)\n",
    "            loader = PyMuPDFLoader(\n",
    "                file_path=file_path,\n",
    "                mode=\"page\",\n",
    "            )\n",
    "            docs_lazy = loader.lazy_load()\n",
    "            for doc in docs_lazy:\n",
    "                docs.append(doc)"
   ]
  },
  {
   "cell_type": "code",
   "execution_count": 4,
   "metadata": {},
   "outputs": [],
   "source": [
    "text_splitter = RecursiveCharacterTextSplitter(\n",
    "    chunk_size=512, chunk_overlap=0, add_start_index=True\n",
    ")"
   ]
  },
  {
   "cell_type": "code",
   "execution_count": 5,
   "metadata": {},
   "outputs": [
    {
     "data": {
      "text/plain": [
       "457477"
      ]
     },
     "execution_count": 5,
     "metadata": {},
     "output_type": "execute_result"
    }
   ],
   "source": [
    "chunks = text_splitter.split_documents(docs)\n",
    "len(chunks)"
   ]
  },
  {
   "cell_type": "code",
   "execution_count": 6,
   "metadata": {},
   "outputs": [
    {
     "data": {
      "text/plain": [
       "Document(metadata={'producer': 'iText® 5.5.13.2 ©2000-2020 iText Group NV (AGPL-version); modified using iText® 7.1.14 ©2000-2020 iText Group NV (AGPL-version)', 'creator': '', 'creationdate': '2023-03-21T08:13:09+05:30', 'source': '/Users/carsten/Documents/Science/MCMC from Scratch a Practical Introduction to Markov Chain Monte Carlo.pdf', 'file_path': '/Users/carsten/Documents/Science/MCMC from Scratch a Practical Introduction to Markov Chain Monte Carlo.pdf', 'total_pages': 198, 'format': 'PDF 1.4', 'title': '', 'author': '', 'subject': '', 'keywords': '', 'moddate': '2023-03-21T08:28:46+05:30', 'trapped': '', 'modDate': \"D:20230321082846+05'30'\", 'creationDate': \"D:20230321081309+05'30'\", 'page': 0, 'start_index': 0}, page_content='Masanori\\xa0Hanada\\nSo\\xa0Matsuura\\nMCMC \\nfrom\\xa0Scratch\\nA\\xa0Practical Introduction to\\xa0Markov Chain \\nMonte Carlo')"
      ]
     },
     "execution_count": 6,
     "metadata": {},
     "output_type": "execute_result"
    }
   ],
   "source": [
    "chunks[0]"
   ]
  },
  {
   "cell_type": "code",
   "execution_count": 7,
   "metadata": {},
   "outputs": [],
   "source": [
    "sparse_model_name = \"Qdrant/bm25\""
   ]
  },
  {
   "cell_type": "code",
   "execution_count": 8,
   "metadata": {},
   "outputs": [],
   "source": [
    "sparse_model = SparseTextEmbedding(model_name=sparse_model_name, batch_size=32)"
   ]
  },
  {
   "cell_type": "code",
   "execution_count": 9,
   "metadata": {},
   "outputs": [],
   "source": [
    "qdrant_client = qdrant_client.QdrantClient(\"localhost:6333\")"
   ]
  },
  {
   "cell_type": "code",
   "execution_count": 18,
   "metadata": {},
   "outputs": [
    {
     "name": "stdout",
     "output_type": "stream",
     "text": [
      "Creating collection\n"
     ]
    }
   ],
   "source": [
    "collection_name = \"PDFs\"\n",
    "\n",
    "exists = qdrant_client.collection_exists(collection_name=collection_name)\n",
    "\n",
    "if not exists:\n",
    "    print(\"Creating collection\")\n",
    "    qdrant_client.create_collection(\n",
    "        collection_name,\n",
    "        vectors_config={\n",
    "            \"text-dense\": VectorParams(\n",
    "                size=1024,\n",
    "                distance=Distance.COSINE,\n",
    "            )\n",
    "        },\n",
    "        sparse_vectors_config={\n",
    "            \"text-sparse\": SparseVectorParams(\n",
    "                index=SparseIndexParams(\n",
    "                    on_disk=False,\n",
    "                )\n",
    "            )\n",
    "        },\n",
    "    )"
   ]
  },
  {
   "cell_type": "code",
   "execution_count": 11,
   "metadata": {},
   "outputs": [],
   "source": [
    "def make_sparse_embedding(texts: list[str]) -> list[SparseEmbedding]:\n",
    "    return list(sparse_model.embed(texts, batch_size=256))"
   ]
  },
  {
   "cell_type": "code",
   "execution_count": 12,
   "metadata": {},
   "outputs": [],
   "source": [
    "rows = []\n",
    "\n",
    "for chunk in chunks:\n",
    "    text = chunk.page_content\n",
    "    embeddings = make_sparse_embedding([text])\n",
    "    rows.append(\n",
    "        {\n",
    "            \"text\": text,\n",
    "            \"source\": chunk.metadata[\"source\"],\n",
    "            \"page_label\": chunk.metadata[\"page\"],\n",
    "            \"sparse_embedding_values\": embeddings[0].values,\n",
    "            \"sparse_embedding_indices\": embeddings[0].indices,\n",
    "        }\n",
    "    )\n"
   ]
  },
  {
   "cell_type": "code",
   "execution_count": 13,
   "metadata": {},
   "outputs": [],
   "source": [
    "df = pl.DataFrame(rows)"
   ]
  },
  {
   "cell_type": "code",
   "execution_count": 14,
   "metadata": {},
   "outputs": [],
   "source": [
    "def make_points(df) -> list[PointStruct]:\n",
    "    points = []\n",
    "    idx = 1\n",
    "    for row in df.iter_rows(named=True):\n",
    "        sparse_vector = SparseVector(\n",
    "            indices=row[\"sparse_embedding_indices\"].tolist(),\n",
    "            values=row[\"sparse_embedding_values\"].tolist(),\n",
    "        )\n",
    "        point = PointStruct(\n",
    "            id=idx,\n",
    "            payload={\n",
    "                \"page\": row[\"page_label\"],\n",
    "                \"source\": row[\"source\"],\n",
    "                \"text\": row[\"text\"],\n",
    "            },\n",
    "            vector={\n",
    "                \"text-sparse\": sparse_vector,\n",
    "            },\n",
    "        )\n",
    "        points.append(point)\n",
    "        idx += 1\n",
    "    return points"
   ]
  },
  {
   "cell_type": "code",
   "execution_count": 15,
   "metadata": {},
   "outputs": [],
   "source": [
    "points: list[PointStruct] = make_points(df)"
   ]
  },
  {
   "cell_type": "code",
   "execution_count": 19,
   "metadata": {},
   "outputs": [
    {
     "name": "stderr",
     "output_type": "stream",
     "text": [
      "100%|██████████| 458/458 [00:49<00:00,  9.31it/s]\n"
     ]
    }
   ],
   "source": [
    "batch_size = 1000\n",
    "\n",
    "for i in tqdm(range(0, len(points), batch_size)):\n",
    "    batch = points[i : i + batch_size]\n",
    "    qdrant_client.upsert(collection_name, batch)"
   ]
  },
  {
   "cell_type": "code",
   "execution_count": 22,
   "metadata": {},
   "outputs": [
    {
     "ename": "ResponseHandlingException",
     "evalue": "timed out",
     "output_type": "error",
     "traceback": [
      "\u001b[31m---------------------------------------------------------------------------\u001b[39m",
      "\u001b[31mReadTimeout\u001b[39m                               Traceback (most recent call last)",
      "\u001b[36mFile \u001b[39m\u001b[32m~/Dev/RAGapps/.venv/lib/python3.12/site-packages/httpx/_transports/default.py:101\u001b[39m, in \u001b[36mmap_httpcore_exceptions\u001b[39m\u001b[34m()\u001b[39m\n\u001b[32m    100\u001b[39m \u001b[38;5;28;01mtry\u001b[39;00m:\n\u001b[32m--> \u001b[39m\u001b[32m101\u001b[39m     \u001b[38;5;28;01myield\u001b[39;00m\n\u001b[32m    102\u001b[39m \u001b[38;5;28;01mexcept\u001b[39;00m \u001b[38;5;167;01mException\u001b[39;00m \u001b[38;5;28;01mas\u001b[39;00m exc:\n",
      "\u001b[36mFile \u001b[39m\u001b[32m~/Dev/RAGapps/.venv/lib/python3.12/site-packages/httpx/_transports/default.py:250\u001b[39m, in \u001b[36mHTTPTransport.handle_request\u001b[39m\u001b[34m(self, request)\u001b[39m\n\u001b[32m    249\u001b[39m \u001b[38;5;28;01mwith\u001b[39;00m map_httpcore_exceptions():\n\u001b[32m--> \u001b[39m\u001b[32m250\u001b[39m     resp = \u001b[38;5;28;43mself\u001b[39;49m\u001b[43m.\u001b[49m\u001b[43m_pool\u001b[49m\u001b[43m.\u001b[49m\u001b[43mhandle_request\u001b[49m\u001b[43m(\u001b[49m\u001b[43mreq\u001b[49m\u001b[43m)\u001b[49m\n\u001b[32m    252\u001b[39m \u001b[38;5;28;01massert\u001b[39;00m \u001b[38;5;28misinstance\u001b[39m(resp.stream, typing.Iterable)\n",
      "\u001b[36mFile \u001b[39m\u001b[32m~/Dev/RAGapps/.venv/lib/python3.12/site-packages/httpcore/_sync/connection_pool.py:256\u001b[39m, in \u001b[36mConnectionPool.handle_request\u001b[39m\u001b[34m(self, request)\u001b[39m\n\u001b[32m    255\u001b[39m     \u001b[38;5;28mself\u001b[39m._close_connections(closing)\n\u001b[32m--> \u001b[39m\u001b[32m256\u001b[39m     \u001b[38;5;28;01mraise\u001b[39;00m exc \u001b[38;5;28;01mfrom\u001b[39;00m\u001b[38;5;250m \u001b[39m\u001b[38;5;28;01mNone\u001b[39;00m\n\u001b[32m    258\u001b[39m \u001b[38;5;66;03m# Return the response. Note that in this case we still have to manage\u001b[39;00m\n\u001b[32m    259\u001b[39m \u001b[38;5;66;03m# the point at which the response is closed.\u001b[39;00m\n",
      "\u001b[36mFile \u001b[39m\u001b[32m~/Dev/RAGapps/.venv/lib/python3.12/site-packages/httpcore/_sync/connection_pool.py:236\u001b[39m, in \u001b[36mConnectionPool.handle_request\u001b[39m\u001b[34m(self, request)\u001b[39m\n\u001b[32m    234\u001b[39m \u001b[38;5;28;01mtry\u001b[39;00m:\n\u001b[32m    235\u001b[39m     \u001b[38;5;66;03m# Send the request on the assigned connection.\u001b[39;00m\n\u001b[32m--> \u001b[39m\u001b[32m236\u001b[39m     response = \u001b[43mconnection\u001b[49m\u001b[43m.\u001b[49m\u001b[43mhandle_request\u001b[49m\u001b[43m(\u001b[49m\n\u001b[32m    237\u001b[39m \u001b[43m        \u001b[49m\u001b[43mpool_request\u001b[49m\u001b[43m.\u001b[49m\u001b[43mrequest\u001b[49m\n\u001b[32m    238\u001b[39m \u001b[43m    \u001b[49m\u001b[43m)\u001b[49m\n\u001b[32m    239\u001b[39m \u001b[38;5;28;01mexcept\u001b[39;00m ConnectionNotAvailable:\n\u001b[32m    240\u001b[39m     \u001b[38;5;66;03m# In some cases a connection may initially be available to\u001b[39;00m\n\u001b[32m    241\u001b[39m     \u001b[38;5;66;03m# handle a request, but then become unavailable.\u001b[39;00m\n\u001b[32m    242\u001b[39m     \u001b[38;5;66;03m#\u001b[39;00m\n\u001b[32m    243\u001b[39m     \u001b[38;5;66;03m# In this case we clear the connection and try again.\u001b[39;00m\n",
      "\u001b[36mFile \u001b[39m\u001b[32m~/Dev/RAGapps/.venv/lib/python3.12/site-packages/httpcore/_sync/connection.py:103\u001b[39m, in \u001b[36mHTTPConnection.handle_request\u001b[39m\u001b[34m(self, request)\u001b[39m\n\u001b[32m    101\u001b[39m     \u001b[38;5;28;01mraise\u001b[39;00m exc\n\u001b[32m--> \u001b[39m\u001b[32m103\u001b[39m \u001b[38;5;28;01mreturn\u001b[39;00m \u001b[38;5;28;43mself\u001b[39;49m\u001b[43m.\u001b[49m\u001b[43m_connection\u001b[49m\u001b[43m.\u001b[49m\u001b[43mhandle_request\u001b[49m\u001b[43m(\u001b[49m\u001b[43mrequest\u001b[49m\u001b[43m)\u001b[49m\n",
      "\u001b[36mFile \u001b[39m\u001b[32m~/Dev/RAGapps/.venv/lib/python3.12/site-packages/httpcore/_sync/http11.py:136\u001b[39m, in \u001b[36mHTTP11Connection.handle_request\u001b[39m\u001b[34m(self, request)\u001b[39m\n\u001b[32m    135\u001b[39m         \u001b[38;5;28mself\u001b[39m._response_closed()\n\u001b[32m--> \u001b[39m\u001b[32m136\u001b[39m \u001b[38;5;28;01mraise\u001b[39;00m exc\n",
      "\u001b[36mFile \u001b[39m\u001b[32m~/Dev/RAGapps/.venv/lib/python3.12/site-packages/httpcore/_sync/http11.py:106\u001b[39m, in \u001b[36mHTTP11Connection.handle_request\u001b[39m\u001b[34m(self, request)\u001b[39m\n\u001b[32m     97\u001b[39m \u001b[38;5;28;01mwith\u001b[39;00m Trace(\n\u001b[32m     98\u001b[39m     \u001b[33m\"\u001b[39m\u001b[33mreceive_response_headers\u001b[39m\u001b[33m\"\u001b[39m, logger, request, kwargs\n\u001b[32m     99\u001b[39m ) \u001b[38;5;28;01mas\u001b[39;00m trace:\n\u001b[32m    100\u001b[39m     (\n\u001b[32m    101\u001b[39m         http_version,\n\u001b[32m    102\u001b[39m         status,\n\u001b[32m    103\u001b[39m         reason_phrase,\n\u001b[32m    104\u001b[39m         headers,\n\u001b[32m    105\u001b[39m         trailing_data,\n\u001b[32m--> \u001b[39m\u001b[32m106\u001b[39m     ) = \u001b[38;5;28;43mself\u001b[39;49m\u001b[43m.\u001b[49m\u001b[43m_receive_response_headers\u001b[49m\u001b[43m(\u001b[49m\u001b[43m*\u001b[49m\u001b[43m*\u001b[49m\u001b[43mkwargs\u001b[49m\u001b[43m)\u001b[49m\n\u001b[32m    107\u001b[39m     trace.return_value = (\n\u001b[32m    108\u001b[39m         http_version,\n\u001b[32m    109\u001b[39m         status,\n\u001b[32m    110\u001b[39m         reason_phrase,\n\u001b[32m    111\u001b[39m         headers,\n\u001b[32m    112\u001b[39m     )\n",
      "\u001b[36mFile \u001b[39m\u001b[32m~/Dev/RAGapps/.venv/lib/python3.12/site-packages/httpcore/_sync/http11.py:177\u001b[39m, in \u001b[36mHTTP11Connection._receive_response_headers\u001b[39m\u001b[34m(self, request)\u001b[39m\n\u001b[32m    176\u001b[39m \u001b[38;5;28;01mwhile\u001b[39;00m \u001b[38;5;28;01mTrue\u001b[39;00m:\n\u001b[32m--> \u001b[39m\u001b[32m177\u001b[39m     event = \u001b[38;5;28;43mself\u001b[39;49m\u001b[43m.\u001b[49m\u001b[43m_receive_event\u001b[49m\u001b[43m(\u001b[49m\u001b[43mtimeout\u001b[49m\u001b[43m=\u001b[49m\u001b[43mtimeout\u001b[49m\u001b[43m)\u001b[49m\n\u001b[32m    178\u001b[39m     \u001b[38;5;28;01mif\u001b[39;00m \u001b[38;5;28misinstance\u001b[39m(event, h11.Response):\n",
      "\u001b[36mFile \u001b[39m\u001b[32m~/Dev/RAGapps/.venv/lib/python3.12/site-packages/httpcore/_sync/http11.py:217\u001b[39m, in \u001b[36mHTTP11Connection._receive_event\u001b[39m\u001b[34m(self, timeout)\u001b[39m\n\u001b[32m    216\u001b[39m \u001b[38;5;28;01mif\u001b[39;00m event \u001b[38;5;129;01mis\u001b[39;00m h11.NEED_DATA:\n\u001b[32m--> \u001b[39m\u001b[32m217\u001b[39m     data = \u001b[38;5;28;43mself\u001b[39;49m\u001b[43m.\u001b[49m\u001b[43m_network_stream\u001b[49m\u001b[43m.\u001b[49m\u001b[43mread\u001b[49m\u001b[43m(\u001b[49m\n\u001b[32m    218\u001b[39m \u001b[43m        \u001b[49m\u001b[38;5;28;43mself\u001b[39;49m\u001b[43m.\u001b[49m\u001b[43mREAD_NUM_BYTES\u001b[49m\u001b[43m,\u001b[49m\u001b[43m \u001b[49m\u001b[43mtimeout\u001b[49m\u001b[43m=\u001b[49m\u001b[43mtimeout\u001b[49m\n\u001b[32m    219\u001b[39m \u001b[43m    \u001b[49m\u001b[43m)\u001b[49m\n\u001b[32m    221\u001b[39m     \u001b[38;5;66;03m# If we feed this case through h11 we'll raise an exception like:\u001b[39;00m\n\u001b[32m    222\u001b[39m     \u001b[38;5;66;03m#\u001b[39;00m\n\u001b[32m    223\u001b[39m     \u001b[38;5;66;03m#     httpcore.RemoteProtocolError: can't handle event type\u001b[39;00m\n\u001b[32m   (...)\u001b[39m\u001b[32m    227\u001b[39m     \u001b[38;5;66;03m# perspective. Instead we handle this case distinctly and treat\u001b[39;00m\n\u001b[32m    228\u001b[39m     \u001b[38;5;66;03m# it as a ConnectError.\u001b[39;00m\n",
      "\u001b[36mFile \u001b[39m\u001b[32m~/Dev/RAGapps/.venv/lib/python3.12/site-packages/httpcore/_backends/sync.py:126\u001b[39m, in \u001b[36mSyncStream.read\u001b[39m\u001b[34m(self, max_bytes, timeout)\u001b[39m\n\u001b[32m    125\u001b[39m exc_map: ExceptionMapping = {socket.timeout: ReadTimeout, \u001b[38;5;167;01mOSError\u001b[39;00m: ReadError}\n\u001b[32m--> \u001b[39m\u001b[32m126\u001b[39m \u001b[38;5;28;01mwith\u001b[39;00m map_exceptions(exc_map):\n\u001b[32m    127\u001b[39m     \u001b[38;5;28mself\u001b[39m._sock.settimeout(timeout)\n",
      "\u001b[36mFile \u001b[39m\u001b[32m/opt/homebrew/Caskroom/miniforge/base/lib/python3.12/contextlib.py:158\u001b[39m, in \u001b[36m_GeneratorContextManager.__exit__\u001b[39m\u001b[34m(self, typ, value, traceback)\u001b[39m\n\u001b[32m    157\u001b[39m \u001b[38;5;28;01mtry\u001b[39;00m:\n\u001b[32m--> \u001b[39m\u001b[32m158\u001b[39m     \u001b[38;5;28;43mself\u001b[39;49m\u001b[43m.\u001b[49m\u001b[43mgen\u001b[49m\u001b[43m.\u001b[49m\u001b[43mthrow\u001b[49m\u001b[43m(\u001b[49m\u001b[43mvalue\u001b[49m\u001b[43m)\u001b[49m\n\u001b[32m    159\u001b[39m \u001b[38;5;28;01mexcept\u001b[39;00m \u001b[38;5;167;01mStopIteration\u001b[39;00m \u001b[38;5;28;01mas\u001b[39;00m exc:\n\u001b[32m    160\u001b[39m     \u001b[38;5;66;03m# Suppress StopIteration *unless* it's the same exception that\u001b[39;00m\n\u001b[32m    161\u001b[39m     \u001b[38;5;66;03m# was passed to throw().  This prevents a StopIteration\u001b[39;00m\n\u001b[32m    162\u001b[39m     \u001b[38;5;66;03m# raised inside the \"with\" statement from being suppressed.\u001b[39;00m\n",
      "\u001b[36mFile \u001b[39m\u001b[32m~/Dev/RAGapps/.venv/lib/python3.12/site-packages/httpcore/_exceptions.py:14\u001b[39m, in \u001b[36mmap_exceptions\u001b[39m\u001b[34m(map)\u001b[39m\n\u001b[32m     13\u001b[39m     \u001b[38;5;28;01mif\u001b[39;00m \u001b[38;5;28misinstance\u001b[39m(exc, from_exc):\n\u001b[32m---> \u001b[39m\u001b[32m14\u001b[39m         \u001b[38;5;28;01mraise\u001b[39;00m to_exc(exc) \u001b[38;5;28;01mfrom\u001b[39;00m\u001b[38;5;250m \u001b[39m\u001b[34;01mexc\u001b[39;00m\n\u001b[32m     15\u001b[39m \u001b[38;5;28;01mraise\u001b[39;00m\n",
      "\u001b[31mReadTimeout\u001b[39m: timed out",
      "\nThe above exception was the direct cause of the following exception:\n",
      "\u001b[31mReadTimeout\u001b[39m                               Traceback (most recent call last)",
      "\u001b[36mFile \u001b[39m\u001b[32m~/Dev/RAGapps/.venv/lib/python3.12/site-packages/qdrant_client/http/api_client.py:116\u001b[39m, in \u001b[36mApiClient.send_inner\u001b[39m\u001b[34m(self, request)\u001b[39m\n\u001b[32m    115\u001b[39m \u001b[38;5;28;01mtry\u001b[39;00m:\n\u001b[32m--> \u001b[39m\u001b[32m116\u001b[39m     response = \u001b[38;5;28;43mself\u001b[39;49m\u001b[43m.\u001b[49m\u001b[43m_client\u001b[49m\u001b[43m.\u001b[49m\u001b[43msend\u001b[49m\u001b[43m(\u001b[49m\u001b[43mrequest\u001b[49m\u001b[43m)\u001b[49m\n\u001b[32m    117\u001b[39m \u001b[38;5;28;01mexcept\u001b[39;00m \u001b[38;5;167;01mException\u001b[39;00m \u001b[38;5;28;01mas\u001b[39;00m e:\n",
      "\u001b[36mFile \u001b[39m\u001b[32m~/Dev/RAGapps/.venv/lib/python3.12/site-packages/httpx/_client.py:914\u001b[39m, in \u001b[36mClient.send\u001b[39m\u001b[34m(self, request, stream, auth, follow_redirects)\u001b[39m\n\u001b[32m    912\u001b[39m auth = \u001b[38;5;28mself\u001b[39m._build_request_auth(request, auth)\n\u001b[32m--> \u001b[39m\u001b[32m914\u001b[39m response = \u001b[38;5;28;43mself\u001b[39;49m\u001b[43m.\u001b[49m\u001b[43m_send_handling_auth\u001b[49m\u001b[43m(\u001b[49m\n\u001b[32m    915\u001b[39m \u001b[43m    \u001b[49m\u001b[43mrequest\u001b[49m\u001b[43m,\u001b[49m\n\u001b[32m    916\u001b[39m \u001b[43m    \u001b[49m\u001b[43mauth\u001b[49m\u001b[43m=\u001b[49m\u001b[43mauth\u001b[49m\u001b[43m,\u001b[49m\n\u001b[32m    917\u001b[39m \u001b[43m    \u001b[49m\u001b[43mfollow_redirects\u001b[49m\u001b[43m=\u001b[49m\u001b[43mfollow_redirects\u001b[49m\u001b[43m,\u001b[49m\n\u001b[32m    918\u001b[39m \u001b[43m    \u001b[49m\u001b[43mhistory\u001b[49m\u001b[43m=\u001b[49m\u001b[43m[\u001b[49m\u001b[43m]\u001b[49m\u001b[43m,\u001b[49m\n\u001b[32m    919\u001b[39m \u001b[43m\u001b[49m\u001b[43m)\u001b[49m\n\u001b[32m    920\u001b[39m \u001b[38;5;28;01mtry\u001b[39;00m:\n",
      "\u001b[36mFile \u001b[39m\u001b[32m~/Dev/RAGapps/.venv/lib/python3.12/site-packages/httpx/_client.py:942\u001b[39m, in \u001b[36mClient._send_handling_auth\u001b[39m\u001b[34m(self, request, auth, follow_redirects, history)\u001b[39m\n\u001b[32m    941\u001b[39m \u001b[38;5;28;01mwhile\u001b[39;00m \u001b[38;5;28;01mTrue\u001b[39;00m:\n\u001b[32m--> \u001b[39m\u001b[32m942\u001b[39m     response = \u001b[38;5;28;43mself\u001b[39;49m\u001b[43m.\u001b[49m\u001b[43m_send_handling_redirects\u001b[49m\u001b[43m(\u001b[49m\n\u001b[32m    943\u001b[39m \u001b[43m        \u001b[49m\u001b[43mrequest\u001b[49m\u001b[43m,\u001b[49m\n\u001b[32m    944\u001b[39m \u001b[43m        \u001b[49m\u001b[43mfollow_redirects\u001b[49m\u001b[43m=\u001b[49m\u001b[43mfollow_redirects\u001b[49m\u001b[43m,\u001b[49m\n\u001b[32m    945\u001b[39m \u001b[43m        \u001b[49m\u001b[43mhistory\u001b[49m\u001b[43m=\u001b[49m\u001b[43mhistory\u001b[49m\u001b[43m,\u001b[49m\n\u001b[32m    946\u001b[39m \u001b[43m    \u001b[49m\u001b[43m)\u001b[49m\n\u001b[32m    947\u001b[39m     \u001b[38;5;28;01mtry\u001b[39;00m:\n",
      "\u001b[36mFile \u001b[39m\u001b[32m~/Dev/RAGapps/.venv/lib/python3.12/site-packages/httpx/_client.py:979\u001b[39m, in \u001b[36mClient._send_handling_redirects\u001b[39m\u001b[34m(self, request, follow_redirects, history)\u001b[39m\n\u001b[32m    977\u001b[39m     hook(request)\n\u001b[32m--> \u001b[39m\u001b[32m979\u001b[39m response = \u001b[38;5;28;43mself\u001b[39;49m\u001b[43m.\u001b[49m\u001b[43m_send_single_request\u001b[49m\u001b[43m(\u001b[49m\u001b[43mrequest\u001b[49m\u001b[43m)\u001b[49m\n\u001b[32m    980\u001b[39m \u001b[38;5;28;01mtry\u001b[39;00m:\n",
      "\u001b[36mFile \u001b[39m\u001b[32m~/Dev/RAGapps/.venv/lib/python3.12/site-packages/httpx/_client.py:1014\u001b[39m, in \u001b[36mClient._send_single_request\u001b[39m\u001b[34m(self, request)\u001b[39m\n\u001b[32m   1013\u001b[39m \u001b[38;5;28;01mwith\u001b[39;00m request_context(request=request):\n\u001b[32m-> \u001b[39m\u001b[32m1014\u001b[39m     response = \u001b[43mtransport\u001b[49m\u001b[43m.\u001b[49m\u001b[43mhandle_request\u001b[49m\u001b[43m(\u001b[49m\u001b[43mrequest\u001b[49m\u001b[43m)\u001b[49m\n\u001b[32m   1016\u001b[39m \u001b[38;5;28;01massert\u001b[39;00m \u001b[38;5;28misinstance\u001b[39m(response.stream, SyncByteStream)\n",
      "\u001b[36mFile \u001b[39m\u001b[32m~/Dev/RAGapps/.venv/lib/python3.12/site-packages/httpx/_transports/default.py:249\u001b[39m, in \u001b[36mHTTPTransport.handle_request\u001b[39m\u001b[34m(self, request)\u001b[39m\n\u001b[32m    237\u001b[39m req = httpcore.Request(\n\u001b[32m    238\u001b[39m     method=request.method,\n\u001b[32m    239\u001b[39m     url=httpcore.URL(\n\u001b[32m   (...)\u001b[39m\u001b[32m    247\u001b[39m     extensions=request.extensions,\n\u001b[32m    248\u001b[39m )\n\u001b[32m--> \u001b[39m\u001b[32m249\u001b[39m \u001b[38;5;28;01mwith\u001b[39;00m map_httpcore_exceptions():\n\u001b[32m    250\u001b[39m     resp = \u001b[38;5;28mself\u001b[39m._pool.handle_request(req)\n",
      "\u001b[36mFile \u001b[39m\u001b[32m/opt/homebrew/Caskroom/miniforge/base/lib/python3.12/contextlib.py:158\u001b[39m, in \u001b[36m_GeneratorContextManager.__exit__\u001b[39m\u001b[34m(self, typ, value, traceback)\u001b[39m\n\u001b[32m    157\u001b[39m \u001b[38;5;28;01mtry\u001b[39;00m:\n\u001b[32m--> \u001b[39m\u001b[32m158\u001b[39m     \u001b[38;5;28;43mself\u001b[39;49m\u001b[43m.\u001b[49m\u001b[43mgen\u001b[49m\u001b[43m.\u001b[49m\u001b[43mthrow\u001b[49m\u001b[43m(\u001b[49m\u001b[43mvalue\u001b[49m\u001b[43m)\u001b[49m\n\u001b[32m    159\u001b[39m \u001b[38;5;28;01mexcept\u001b[39;00m \u001b[38;5;167;01mStopIteration\u001b[39;00m \u001b[38;5;28;01mas\u001b[39;00m exc:\n\u001b[32m    160\u001b[39m     \u001b[38;5;66;03m# Suppress StopIteration *unless* it's the same exception that\u001b[39;00m\n\u001b[32m    161\u001b[39m     \u001b[38;5;66;03m# was passed to throw().  This prevents a StopIteration\u001b[39;00m\n\u001b[32m    162\u001b[39m     \u001b[38;5;66;03m# raised inside the \"with\" statement from being suppressed.\u001b[39;00m\n",
      "\u001b[36mFile \u001b[39m\u001b[32m~/Dev/RAGapps/.venv/lib/python3.12/site-packages/httpx/_transports/default.py:118\u001b[39m, in \u001b[36mmap_httpcore_exceptions\u001b[39m\u001b[34m()\u001b[39m\n\u001b[32m    117\u001b[39m message = \u001b[38;5;28mstr\u001b[39m(exc)\n\u001b[32m--> \u001b[39m\u001b[32m118\u001b[39m \u001b[38;5;28;01mraise\u001b[39;00m mapped_exc(message) \u001b[38;5;28;01mfrom\u001b[39;00m\u001b[38;5;250m \u001b[39m\u001b[34;01mexc\u001b[39;00m\n",
      "\u001b[31mReadTimeout\u001b[39m: timed out",
      "\nDuring handling of the above exception, another exception occurred:\n",
      "\u001b[31mResponseHandlingException\u001b[39m                 Traceback (most recent call last)",
      "\u001b[36mCell\u001b[39m\u001b[36m \u001b[39m\u001b[32mIn[22]\u001b[39m\u001b[32m, line 1\u001b[39m\n\u001b[32m----> \u001b[39m\u001b[32m1\u001b[39m snapshot_info = \u001b[43mqdrant_client\u001b[49m\u001b[43m.\u001b[49m\u001b[43mcreate_snapshot\u001b[49m\u001b[43m(\u001b[49m\n\u001b[32m      2\u001b[39m \u001b[43m    \u001b[49m\u001b[43mcollection_name\u001b[49m\u001b[43m=\u001b[49m\u001b[43mcollection_name\u001b[49m\u001b[43m,\u001b[49m\u001b[43m \u001b[49m\u001b[43mwait\u001b[49m\u001b[43m=\u001b[49m\u001b[38;5;28;43;01mTrue\u001b[39;49;00m\n\u001b[32m      3\u001b[39m \u001b[43m)\u001b[49m\n\u001b[32m      5\u001b[39m snapshot_url = \u001b[33mf\u001b[39m\u001b[33m\"\u001b[39m\u001b[33m/collections/test_collection/snapshots/\u001b[39m\u001b[38;5;132;01m{\u001b[39;00msnapshot_info.name\u001b[38;5;132;01m}\u001b[39;00m\u001b[33m\"\u001b[39m\n",
      "\u001b[36mFile \u001b[39m\u001b[32m~/Dev/RAGapps/.venv/lib/python3.12/site-packages/qdrant_client/qdrant_client.py:2696\u001b[39m, in \u001b[36mQdrantClient.create_snapshot\u001b[39m\u001b[34m(self, collection_name, wait, **kwargs)\u001b[39m\n\u001b[32m   2682\u001b[39m \u001b[38;5;250m\u001b[39m\u001b[33;03m\"\"\"Create snapshot for a given collection.\u001b[39;00m\n\u001b[32m   2683\u001b[39m \n\u001b[32m   2684\u001b[39m \u001b[33;03mArgs:\u001b[39;00m\n\u001b[32m   (...)\u001b[39m\u001b[32m   2692\u001b[39m \u001b[33;03m    Snapshot description\u001b[39;00m\n\u001b[32m   2693\u001b[39m \u001b[33;03m\"\"\"\u001b[39;00m\n\u001b[32m   2694\u001b[39m \u001b[38;5;28;01massert\u001b[39;00m \u001b[38;5;28mlen\u001b[39m(kwargs) == \u001b[32m0\u001b[39m, \u001b[33mf\u001b[39m\u001b[33m\"\u001b[39m\u001b[33mUnknown arguments: \u001b[39m\u001b[38;5;132;01m{\u001b[39;00m\u001b[38;5;28mlist\u001b[39m(kwargs.keys())\u001b[38;5;132;01m}\u001b[39;00m\u001b[33m\"\u001b[39m\n\u001b[32m-> \u001b[39m\u001b[32m2696\u001b[39m \u001b[38;5;28;01mreturn\u001b[39;00m \u001b[38;5;28;43mself\u001b[39;49m\u001b[43m.\u001b[49m\u001b[43m_client\u001b[49m\u001b[43m.\u001b[49m\u001b[43mcreate_snapshot\u001b[49m\u001b[43m(\u001b[49m\u001b[43mcollection_name\u001b[49m\u001b[43m=\u001b[49m\u001b[43mcollection_name\u001b[49m\u001b[43m,\u001b[49m\u001b[43m \u001b[49m\u001b[43mwait\u001b[49m\u001b[43m=\u001b[49m\u001b[43mwait\u001b[49m\u001b[43m,\u001b[49m\u001b[43m \u001b[49m\u001b[43m*\u001b[49m\u001b[43m*\u001b[49m\u001b[43mkwargs\u001b[49m\u001b[43m)\u001b[49m\n",
      "\u001b[36mFile \u001b[39m\u001b[32m~/Dev/RAGapps/.venv/lib/python3.12/site-packages/qdrant_client/qdrant_remote.py:3144\u001b[39m, in \u001b[36mQdrantRemote.create_snapshot\u001b[39m\u001b[34m(self, collection_name, wait, **kwargs)\u001b[39m\n\u001b[32m   3139\u001b[39m     snapshot = \u001b[38;5;28mself\u001b[39m.grpc_snapshots.Create(\n\u001b[32m   3140\u001b[39m         grpc.CreateSnapshotRequest(collection_name=collection_name), timeout=\u001b[38;5;28mself\u001b[39m._timeout\n\u001b[32m   3141\u001b[39m     ).snapshot_description\n\u001b[32m   3142\u001b[39m     \u001b[38;5;28;01mreturn\u001b[39;00m GrpcToRest.convert_snapshot_description(snapshot)\n\u001b[32m-> \u001b[39m\u001b[32m3144\u001b[39m \u001b[38;5;28;01mreturn\u001b[39;00m \u001b[38;5;28;43mself\u001b[39;49m\u001b[43m.\u001b[49m\u001b[43mopenapi_client\u001b[49m\u001b[43m.\u001b[49m\u001b[43msnapshots_api\u001b[49m\u001b[43m.\u001b[49m\u001b[43mcreate_snapshot\u001b[49m\u001b[43m(\u001b[49m\n\u001b[32m   3145\u001b[39m \u001b[43m    \u001b[49m\u001b[43mcollection_name\u001b[49m\u001b[43m=\u001b[49m\u001b[43mcollection_name\u001b[49m\u001b[43m,\u001b[49m\u001b[43m \u001b[49m\u001b[43mwait\u001b[49m\u001b[43m=\u001b[49m\u001b[43mwait\u001b[49m\n\u001b[32m   3146\u001b[39m \u001b[43m\u001b[49m\u001b[43m)\u001b[49m.result\n",
      "\u001b[36mFile \u001b[39m\u001b[32m~/Dev/RAGapps/.venv/lib/python3.12/site-packages/qdrant_client/http/api/snapshots_api.py:746\u001b[39m, in \u001b[36mSyncSnapshotsApi.create_snapshot\u001b[39m\u001b[34m(self, collection_name, wait)\u001b[39m\n\u001b[32m    738\u001b[39m \u001b[38;5;28;01mdef\u001b[39;00m\u001b[38;5;250m \u001b[39m\u001b[34mcreate_snapshot\u001b[39m(\n\u001b[32m    739\u001b[39m     \u001b[38;5;28mself\u001b[39m,\n\u001b[32m    740\u001b[39m     collection_name: \u001b[38;5;28mstr\u001b[39m,\n\u001b[32m    741\u001b[39m     wait: \u001b[38;5;28mbool\u001b[39m = \u001b[38;5;28;01mNone\u001b[39;00m,\n\u001b[32m    742\u001b[39m ) -> m.InlineResponse20012:\n\u001b[32m    743\u001b[39m \u001b[38;5;250m    \u001b[39m\u001b[33;03m\"\"\"\u001b[39;00m\n\u001b[32m    744\u001b[39m \u001b[33;03m    Create new snapshot for a collection\u001b[39;00m\n\u001b[32m    745\u001b[39m \u001b[33;03m    \"\"\"\u001b[39;00m\n\u001b[32m--> \u001b[39m\u001b[32m746\u001b[39m     \u001b[38;5;28;01mreturn\u001b[39;00m \u001b[38;5;28;43mself\u001b[39;49m\u001b[43m.\u001b[49m\u001b[43m_build_for_create_snapshot\u001b[49m\u001b[43m(\u001b[49m\n\u001b[32m    747\u001b[39m \u001b[43m        \u001b[49m\u001b[43mcollection_name\u001b[49m\u001b[43m=\u001b[49m\u001b[43mcollection_name\u001b[49m\u001b[43m,\u001b[49m\n\u001b[32m    748\u001b[39m \u001b[43m        \u001b[49m\u001b[43mwait\u001b[49m\u001b[43m=\u001b[49m\u001b[43mwait\u001b[49m\u001b[43m,\u001b[49m\n\u001b[32m    749\u001b[39m \u001b[43m    \u001b[49m\u001b[43m)\u001b[49m\n",
      "\u001b[36mFile \u001b[39m\u001b[32m~/Dev/RAGapps/.venv/lib/python3.12/site-packages/qdrant_client/http/api/snapshots_api.py:120\u001b[39m, in \u001b[36m_SnapshotsApi._build_for_create_snapshot\u001b[39m\u001b[34m(self, collection_name, wait)\u001b[39m\n\u001b[32m    117\u001b[39m     query_params[\u001b[33m\"\u001b[39m\u001b[33mwait\u001b[39m\u001b[33m\"\u001b[39m] = \u001b[38;5;28mstr\u001b[39m(wait).lower()\n\u001b[32m    119\u001b[39m headers = {}\n\u001b[32m--> \u001b[39m\u001b[32m120\u001b[39m \u001b[38;5;28;01mreturn\u001b[39;00m \u001b[38;5;28;43mself\u001b[39;49m\u001b[43m.\u001b[49m\u001b[43mapi_client\u001b[49m\u001b[43m.\u001b[49m\u001b[43mrequest\u001b[49m\u001b[43m(\u001b[49m\n\u001b[32m    121\u001b[39m \u001b[43m    \u001b[49m\u001b[43mtype_\u001b[49m\u001b[43m=\u001b[49m\u001b[43mm\u001b[49m\u001b[43m.\u001b[49m\u001b[43mInlineResponse20012\u001b[49m\u001b[43m,\u001b[49m\n\u001b[32m    122\u001b[39m \u001b[43m    \u001b[49m\u001b[43mmethod\u001b[49m\u001b[43m=\u001b[49m\u001b[33;43m\"\u001b[39;49m\u001b[33;43mPOST\u001b[39;49m\u001b[33;43m\"\u001b[39;49m\u001b[43m,\u001b[49m\n\u001b[32m    123\u001b[39m \u001b[43m    \u001b[49m\u001b[43murl\u001b[49m\u001b[43m=\u001b[49m\u001b[33;43m\"\u001b[39;49m\u001b[33;43m/collections/\u001b[39;49m\u001b[38;5;132;43;01m{collection_name}\u001b[39;49;00m\u001b[33;43m/snapshots\u001b[39;49m\u001b[33;43m\"\u001b[39;49m\u001b[43m,\u001b[49m\n\u001b[32m    124\u001b[39m \u001b[43m    \u001b[49m\u001b[43mheaders\u001b[49m\u001b[43m=\u001b[49m\u001b[43mheaders\u001b[49m\u001b[43m \u001b[49m\u001b[38;5;28;43;01mif\u001b[39;49;00m\u001b[43m \u001b[49m\u001b[43mheaders\u001b[49m\u001b[43m \u001b[49m\u001b[38;5;28;43;01melse\u001b[39;49;00m\u001b[43m \u001b[49m\u001b[38;5;28;43;01mNone\u001b[39;49;00m\u001b[43m,\u001b[49m\n\u001b[32m    125\u001b[39m \u001b[43m    \u001b[49m\u001b[43mpath_params\u001b[49m\u001b[43m=\u001b[49m\u001b[43mpath_params\u001b[49m\u001b[43m,\u001b[49m\n\u001b[32m    126\u001b[39m \u001b[43m    \u001b[49m\u001b[43mparams\u001b[49m\u001b[43m=\u001b[49m\u001b[43mquery_params\u001b[49m\u001b[43m,\u001b[49m\n\u001b[32m    127\u001b[39m \u001b[43m\u001b[49m\u001b[43m)\u001b[49m\n",
      "\u001b[36mFile \u001b[39m\u001b[32m~/Dev/RAGapps/.venv/lib/python3.12/site-packages/qdrant_client/http/api_client.py:89\u001b[39m, in \u001b[36mApiClient.request\u001b[39m\u001b[34m(self, type_, method, url, path_params, **kwargs)\u001b[39m\n\u001b[32m     87\u001b[39m     kwargs[\u001b[33m\"\u001b[39m\u001b[33mtimeout\u001b[39m\u001b[33m\"\u001b[39m] = \u001b[38;5;28mint\u001b[39m(kwargs[\u001b[33m\"\u001b[39m\u001b[33mparams\u001b[39m\u001b[33m\"\u001b[39m][\u001b[33m\"\u001b[39m\u001b[33mtimeout\u001b[39m\u001b[33m\"\u001b[39m])\n\u001b[32m     88\u001b[39m request = \u001b[38;5;28mself\u001b[39m._client.build_request(method, url, **kwargs)\n\u001b[32m---> \u001b[39m\u001b[32m89\u001b[39m \u001b[38;5;28;01mreturn\u001b[39;00m \u001b[38;5;28;43mself\u001b[39;49m\u001b[43m.\u001b[49m\u001b[43msend\u001b[49m\u001b[43m(\u001b[49m\u001b[43mrequest\u001b[49m\u001b[43m,\u001b[49m\u001b[43m \u001b[49m\u001b[43mtype_\u001b[49m\u001b[43m)\u001b[49m\n",
      "\u001b[36mFile \u001b[39m\u001b[32m~/Dev/RAGapps/.venv/lib/python3.12/site-packages/qdrant_client/http/api_client.py:106\u001b[39m, in \u001b[36mApiClient.send\u001b[39m\u001b[34m(self, request, type_)\u001b[39m\n\u001b[32m    105\u001b[39m \u001b[38;5;28;01mdef\u001b[39;00m\u001b[38;5;250m \u001b[39m\u001b[34msend\u001b[39m(\u001b[38;5;28mself\u001b[39m, request: Request, type_: Type[T]) -> T:\n\u001b[32m--> \u001b[39m\u001b[32m106\u001b[39m     response = \u001b[38;5;28;43mself\u001b[39;49m\u001b[43m.\u001b[49m\u001b[43mmiddleware\u001b[49m\u001b[43m(\u001b[49m\u001b[43mrequest\u001b[49m\u001b[43m,\u001b[49m\u001b[43m \u001b[49m\u001b[38;5;28;43mself\u001b[39;49m\u001b[43m.\u001b[49m\u001b[43msend_inner\u001b[49m\u001b[43m)\u001b[49m\n\u001b[32m    107\u001b[39m     \u001b[38;5;28;01mif\u001b[39;00m response.status_code \u001b[38;5;129;01min\u001b[39;00m [\u001b[32m200\u001b[39m, \u001b[32m201\u001b[39m, \u001b[32m202\u001b[39m]:\n\u001b[32m    108\u001b[39m         \u001b[38;5;28;01mtry\u001b[39;00m:\n",
      "\u001b[36mFile \u001b[39m\u001b[32m~/Dev/RAGapps/.venv/lib/python3.12/site-packages/qdrant_client/http/api_client.py:215\u001b[39m, in \u001b[36mBaseMiddleware.__call__\u001b[39m\u001b[34m(self, request, call_next)\u001b[39m\n\u001b[32m    214\u001b[39m \u001b[38;5;28;01mdef\u001b[39;00m\u001b[38;5;250m \u001b[39m\u001b[34m__call__\u001b[39m(\u001b[38;5;28mself\u001b[39m, request: Request, call_next: Send) -> Response:\n\u001b[32m--> \u001b[39m\u001b[32m215\u001b[39m     \u001b[38;5;28;01mreturn\u001b[39;00m \u001b[43mcall_next\u001b[49m\u001b[43m(\u001b[49m\u001b[43mrequest\u001b[49m\u001b[43m)\u001b[49m\n",
      "\u001b[36mFile \u001b[39m\u001b[32m~/Dev/RAGapps/.venv/lib/python3.12/site-packages/qdrant_client/http/api_client.py:118\u001b[39m, in \u001b[36mApiClient.send_inner\u001b[39m\u001b[34m(self, request)\u001b[39m\n\u001b[32m    116\u001b[39m     response = \u001b[38;5;28mself\u001b[39m._client.send(request)\n\u001b[32m    117\u001b[39m \u001b[38;5;28;01mexcept\u001b[39;00m \u001b[38;5;167;01mException\u001b[39;00m \u001b[38;5;28;01mas\u001b[39;00m e:\n\u001b[32m--> \u001b[39m\u001b[32m118\u001b[39m     \u001b[38;5;28;01mraise\u001b[39;00m ResponseHandlingException(e)\n\u001b[32m    119\u001b[39m \u001b[38;5;28;01mreturn\u001b[39;00m response\n",
      "\u001b[31mResponseHandlingException\u001b[39m: timed out"
     ]
    }
   ],
   "source": [
    "snapshot_info = qdrant_client.create_snapshot(\n",
    "    collection_name=collection_name, wait=True\n",
    ")\n",
    "\n",
    "snapshot_url = f\"/collections/test_collection/snapshots/{snapshot_info.name}\""
   ]
  },
  {
   "cell_type": "code",
   "execution_count": null,
   "metadata": {},
   "outputs": [],
   "source": [
    "import os\n",
    "\n",
    "import requests\n"
   ]
  },
  {
   "cell_type": "code",
   "execution_count": null,
   "metadata": {},
   "outputs": [],
   "source": [
    "# Create a directory to store snapshots\n",
    "os.makedirs(\"snapshots\", exist_ok=True)\n",
    "\n",
    "snapshot_name = os.path.basename(snapshot_url)\n",
    "local_snapshot_path = os.path.join(\"snapshots\", snapshot_name)\n",
    "\n",
    "response = requests.get(snapshot_url)\n",
    "with open(local_snapshot_path, \"wb\") as f:\n",
    "    response.raise_for_status()\n",
    "    f.write(response.content)"
   ]
  },
  {
   "cell_type": "code",
   "execution_count": 23,
   "metadata": {},
   "outputs": [],
   "source": [
    "def search(query_text: str):\n",
    "    # # Compute sparse and dense vectors\n",
    "    query_sparse_vectors: list[SparseEmbedding] = make_sparse_embedding([query_text])\n",
    "    # query_dense_vector: list[np.ndarray] = make_dense_embedding([query_text])\n",
    "\n",
    "    search_results = qdrant_client.search_batch(\n",
    "        collection_name=collection_name,\n",
    "        requests=[\n",
    "            SearchRequest(\n",
    "                vector=NamedSparseVector(\n",
    "                    name=\"text-sparse\",\n",
    "                    vector=SparseVector(\n",
    "                        indices=query_sparse_vectors[0].indices.tolist(),\n",
    "                        values=query_sparse_vectors[0].values.tolist(),\n",
    "                    ),\n",
    "                ),\n",
    "                limit=10,\n",
    "                with_payload=True,\n",
    "            ),\n",
    "        ],\n",
    "    )\n",
    "\n",
    "    return search_results"
   ]
  },
  {
   "cell_type": "code",
   "execution_count": 24,
   "metadata": {},
   "outputs": [
    {
     "name": "stderr",
     "output_type": "stream",
     "text": [
      "/var/folders/fy/zx0sb02j5rv66mcpx65ldmvc0000gn/T/ipykernel_38672/2870104145.py:6: DeprecationWarning: `search_batch` method is deprecated and will be removed in the future. Use `query_batch_points` instead.\n",
      "  search_results = qdrant_client.search_batch(\n"
     ]
    }
   ],
   "source": [
    "query_text = \"reinforcement learning\"\n",
    "search_results = search(query_text)"
   ]
  },
  {
   "cell_type": "code",
   "execution_count": 25,
   "metadata": {},
   "outputs": [
    {
     "data": {
      "text/plain": [
       "[[ScoredPoint(id=453329, version=453, score=6.888141, payload={'page': 382, 'source': '/Users/carsten/Documents/Science/ReinforcementLearning/Reinforcement Learning An introduction.pdf', 'text': 'several publications that propose theories of behavioral vigor based on reinforcement\\nlearning.\\nWe turn now to the subject of learning when reinforcing stimuli occur well after the\\nevents they reinforce. The mechanisms used by reinforcement learning algorithms to\\nenable learning with delayed reinforcement—eligibility traces and TD learning—closely\\ncorrespond to psychologists’ hypotheses about how animals can learn under these condi-\\ntions.\\n14.4\\nDelayed Reinforcement'}, vector=None, shard_key=None, order_value=None),\n",
       "  ScoredPoint(id=300346, version=300, score=6.8126993, payload={'page': 47, 'source': '/Users/carsten/Documents/Science/NotCategorized/Foundations of Deep Reinforcement Learning.pdf', 'text': '1.6 Reinforcement Learning and Supervised Learning\\n19\\n1.6\\nReinforcement Learning and\\nSupervised Learning\\nAt the core of deep reinforcement learning is function approximation. This is something\\nit shares with supervised learning (SL).6 However, reinforcement learning is unlike\\nsupervised learning in a number of ways. There are three main differences:\\n. Lack of an oracle7\\n. Sparsity of feedback\\n. Data generated during training\\n1.6.1\\nLack of an Oracle'}, vector=None, shard_key=None, order_value=None),\n",
       "  ScoredPoint(id=453178, version=453, score=6.803466, payload={'page': 362, 'source': '/Users/carsten/Documents/Science/ReinforcementLearning/Reinforcement Learning An introduction.pdf', 'text': 'at the core of reinforcement learning is contributing to our understanding of otherwise\\npuzzling features of animal learning and behavior.\\nSome of the correspondences between reinforcement learning and psychological theories\\nare not surprising because the development of reinforcement learning drew inspiration\\nfrom psychological learning theories. However, as developed in this book, reinforcement\\nlearning explores idealized situations from the perspective of an artiﬁcial intelligence'}, vector=None, shard_key=None, order_value=None),\n",
       "  ScoredPoint(id=266021, version=266, score=6.788436, payload={'page': 39, 'source': '/Users/carsten/Documents/Science/DeepLearning/Deep Learning Book.pdf', 'text': 'of reinforcement learning. In the context of reinforcement learning, an autonomous\\nagent must learn to perform a task by trial and error, without any guidance from\\nthe human operator. DeepMind demonstrated that a reinforcement learning system\\nbased on deep learning is capable of learning to play Atari video games, reaching\\nhuman-level performance on many tasks (\\n,\\n). Deep learning has\\nMnih et al. 2015\\nalso signiﬁcantly improved the performance of reinforcement learning for robotics\\n(\\n,\\n).\\nFinn et al. 2015'}, vector=None, shard_key=None, order_value=None),\n",
       "  ScoredPoint(id=189970, version=189, score=6.7852564, payload={'page': 431, 'source': '/Users/carsten/Documents/Science/Springer/ComputerScience/2018_Book_NeuralNetworksAndDeepLearning.pdf', 'text': '416\\nCHAPTER 9. DEEP REINFORCEMENT LEARNING\\nReinforcement learning can also improve deep learning models. This is achieved with the\\nnotion of attention [338, 540], in which reinforcement learning is used to focus on selective\\nparts of the data. The idea is that large parts of the data are often irrelevant for learning, and\\nlearning how to focus on selective portions of the data can signiﬁcantly improve results. The\\nselection of relevant portions of the data is achieved with reinforcement learning. Attention'}, vector=None, shard_key=None, order_value=None),\n",
       "  ScoredPoint(id=368927, version=368, score=6.7712884, payload={'page': 287, 'source': '/Users/carsten/Documents/Science/Bayes/Probabilistic Numerics.pdf', 'text': '276\\nV Global Optimisation\\n▶34.2\\nReinforcement Learning\\nBayesian optimisation has connections to, but distinctions from\\nreinforcement learning.6 Both reinforcement learning and Bayes-\\n6 Sutton and Barto (1998)\\nian optimisation address a (partially-observed) Markov decision\\nprocess. As a first point of distinction, however, reinforcement\\nlearning and Bayesian optimisation tackle slightly different prob-\\nlems. Reinforcement learning cares about the returned evalua-'}, vector=None, shard_key=None, order_value=None),\n",
       "  ScoredPoint(id=189649, version=189, score=6.7582893, payload={'page': 389, 'source': '/Users/carsten/Documents/Science/Springer/ComputerScience/2018_Book_NeuralNetworksAndDeepLearning.pdf', 'text': '374\\nCHAPTER 9. DEEP REINFORCEMENT LEARNING\\nA reward-driven trial-and-error process, in which a system learns to interact with a\\ncomplex environment to achieve rewarding outcomes, is referred to in machine learning\\nparlance as reinforcement learning. In reinforcement learning, the process of trial and error\\nis driven by the need to maximize the expected rewards over time. Reinforcement learning\\ncan be a gateway to the quest for creating truly intelligent agents such as game-playing'}, vector=None, shard_key=None, order_value=None),\n",
       "  ScoredPoint(id=279749, version=279, score=6.7539215, payload={'page': 358, 'source': '/Users/carsten/Documents/Science/Science/The Alignment Problem.pdf', 'text': 'Diuk, Cohen, and Littman, “An Object-Oriented Representation for Efficient Reinforcement\\nLearning,” which used the game Pitfall! as an environment for reinforcement learning.\\n5.\\n See Gendron-Bellemare, “Fast, Scalable Algorithms for Reinforcement Learning in High\\nDimensional Domains.”\\n6.\\n Mnih et al., “Playing Atari with Deep Reinforcement Learning.”\\n7.\\n Mnih et al., “Human-Level Control Through Deep Reinforcement Learning.”\\n8.\\n Robert Jaeger, interviewed by John Hardie,'}, vector=None, shard_key=None, order_value=None),\n",
       "  ScoredPoint(id=451170, version=451, score=6.7484503, payload={'page': 23, 'source': '/Users/carsten/Documents/Science/ReinforcementLearning/Reinforcement Learning An introduction.pdf', 'text': 'because it does not rely on examples of correct behavior, reinforcement learning is trying\\nto maximize a reward signal instead of trying to ﬁnd hidden structure. Uncovering\\nstructure in an agent’s experience can certainly be useful in reinforcement learning, but by\\nitself does not address the reinforcement learning problem of maximizing a reward signal.\\nWe therefore consider reinforcement learning to be a third machine learning paradigm,'}, vector=None, shard_key=None, order_value=None),\n",
       "  ScoredPoint(id=451306, version=451, score=6.73392, payload={'page': 40, 'source': '/Users/carsten/Documents/Science/ReinforcementLearning/Reinforcement Learning An introduction.pdf', 'text': 'reinforcement learning, and to our eventual focus on reinforcement learning. Much of\\nthe early work that we and colleagues accomplished was directed toward showing that\\nreinforcement learning and supervised learning were indeed di↵erent (Barto, Sutton, and\\nBrouwer, 1981; Barto and Sutton, 1981b; Barto and Anandan, 1985). Other studies\\nshowed how reinforcement learning could address important problems in artiﬁcial neural'}, vector=None, shard_key=None, order_value=None)]]"
      ]
     },
     "execution_count": 25,
     "metadata": {},
     "output_type": "execute_result"
    }
   ],
   "source": [
    "search_results"
   ]
  },
  {
   "cell_type": "code",
   "execution_count": null,
   "metadata": {},
   "outputs": [
    {
     "data": {
      "text/plain": [
       "ScoredPoint(id=6863, version=0, score=3.4013352394104004, payload={'page': 198, 'source': '/Users/carsten/Documents/Science/LLM/Learn Generative AI with PyTorch.pdf', 'text': '# obtain average encoding for each group\\n_,_,women_g_encodings=vae.encoder(women_g_batch)\\nwomen_g_encoding=women_g_encodings.mean(dim=0)\\n_,_,men_ng_encodings=vae.encoder(men_ng_batch)\\nmen_ng_encoding=men_ng_encodings.mean(dim=0)\\n_,_,women_ng_encodings=vae.encoder(women_ng_batch)\\nwomen_ng_encoding=women_ng_encodings.mean(dim=0)                  #D\\n# decode for each group\\nwomen_g_recon=vae.decoder(women_g_encoding.unsqueeze(0))\\nmen_ng_recon=vae.decoder(men_ng_encoding.unsqueeze(0))'}, vector=None, shard_key=None, order_value=None)"
      ]
     },
     "execution_count": 177,
     "metadata": {},
     "output_type": "execute_result"
    }
   ],
   "source": [
    "search_results[0][0]"
   ]
  },
  {
   "cell_type": "code",
   "execution_count": null,
   "metadata": {},
   "outputs": [
    {
     "data": {
      "text/plain": [
       "'/Users/carsten/Documents/Science/LLM/Learn Generative AI with PyTorch.pdf'"
      ]
     },
     "execution_count": 180,
     "metadata": {},
     "output_type": "execute_result"
    }
   ],
   "source": [
    "search_results[0][0].payload[\"source\"]"
   ]
  },
  {
   "cell_type": "code",
   "execution_count": null,
   "metadata": {},
   "outputs": [
    {
     "name": "stdout",
     "output_type": "stream",
     "text": [
      "file:///Users/carsten/Documents/Science/LLM/Learn%20Generative%20AI%20with%20PyTorch.pdf#page=194\n"
     ]
    }
   ],
   "source": [
    "import webbrowser\n",
    "\n",
    "result = search_results[0][1]\n",
    "\n",
    "url = f\"file://{result.payload['source']}#page={result.payload['page']}\"\n",
    "url = url.replace(\" \", \"%20\")\n",
    "print(url)"
   ]
  },
  {
   "cell_type": "code",
   "execution_count": null,
   "metadata": {},
   "outputs": [
    {
     "name": "stderr",
     "output_type": "stream",
     "text": [
      "huggingface/tokenizers: The current process just got forked, after parallelism has already been used. Disabling parallelism to avoid deadlocks...\n",
      "To disable this warning, you can either:\n",
      "\t- Avoid using `tokenizers` before the fork if possible\n",
      "\t- Explicitly set the environment variable TOKENIZERS_PARALLELISM=(true | false)\n",
      "huggingface/tokenizers: The current process just got forked, after parallelism has already been used. Disabling parallelism to avoid deadlocks...\n",
      "To disable this warning, you can either:\n",
      "\t- Avoid using `tokenizers` before the fork if possible\n",
      "\t- Explicitly set the environment variable TOKENIZERS_PARALLELISM=(true | false)\n"
     ]
    }
   ],
   "source": [
    "from selenium import webdriver\n",
    "\n",
    "driver = webdriver.Chrome()  # Optional argument, if not specified will search path.\n",
    "driver.get(url)"
   ]
  },
  {
   "cell_type": "code",
   "execution_count": null,
   "metadata": {},
   "outputs": [
    {
     "name": "stderr",
     "output_type": "stream",
     "text": [
      "huggingface/tokenizers: The current process just got forked, after parallelism has already been used. Disabling parallelism to avoid deadlocks...\n",
      "To disable this warning, you can either:\n",
      "\t- Avoid using `tokenizers` before the fork if possible\n",
      "\t- Explicitly set the environment variable TOKENIZERS_PARALLELISM=(true | false)\n"
     ]
    },
    {
     "data": {
      "text/plain": [
       "True"
      ]
     },
     "execution_count": 190,
     "metadata": {},
     "output_type": "execute_result"
    }
   ],
   "source": [
    "url2 = \"file:///Users/carsten/Documents/Science/LLM/Learn%20Generative%20AI%20with%20PyTorch.pdf#page=198\"\n",
    "webbrowser.open(url2)"
   ]
  },
  {
   "cell_type": "code",
   "execution_count": null,
   "metadata": {},
   "outputs": [
    {
     "name": "stderr",
     "output_type": "stream",
     "text": [
      "huggingface/tokenizers: The current process just got forked, after parallelism has already been used. Disabling parallelism to avoid deadlocks...\n",
      "To disable this warning, you can either:\n",
      "\t- Avoid using `tokenizers` before the fork if possible\n",
      "\t- Explicitly set the environment variable TOKENIZERS_PARALLELISM=(true | false)\n",
      "huggingface/tokenizers: The current process just got forked, after parallelism has already been used. Disabling parallelism to avoid deadlocks...\n",
      "To disable this warning, you can either:\n",
      "\t- Avoid using `tokenizers` before the fork if possible\n",
      "\t- Explicitly set the environment variable TOKENIZERS_PARALLELISM=(true | false)\n"
     ]
    }
   ],
   "source": [
    "from selenium import webdriver\n",
    "\n",
    "driver = webdriver.Chrome()  # Optional argument, if not specified will search path.\n",
    "driver.get(url2)"
   ]
  },
  {
   "cell_type": "code",
   "execution_count": null,
   "metadata": {},
   "outputs": [],
   "source": []
  }
 ],
 "metadata": {
  "kernelspec": {
   "display_name": ".venv",
   "language": "python",
   "name": "python3"
  },
  "language_info": {
   "codemirror_mode": {
    "name": "ipython",
    "version": 3
   },
   "file_extension": ".py",
   "mimetype": "text/x-python",
   "name": "python",
   "nbconvert_exporter": "python",
   "pygments_lexer": "ipython3",
   "version": "3.12.8"
  }
 },
 "nbformat": 4,
 "nbformat_minor": 2
}
