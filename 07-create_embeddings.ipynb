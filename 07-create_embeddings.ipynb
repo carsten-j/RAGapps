{
 "cells": [
  {
   "cell_type": "markdown",
   "metadata": {},
   "source": [
    "https://github.com/DrMikeSh/medical_research_agent/blob/main/batch_openAI/icd_batch_embedding.ipynb\n",
    "\n",
    "https://github.com/openai/openai-cookbook/blob/main/examples/api_request_parallel_processor.py#\n",
    "\n",
    "---\n",
    "graphrag\n",
    "https://github.com/microsoft/graphrag"
   ]
  },
  {
   "cell_type": "code",
   "execution_count": 1,
   "metadata": {},
   "outputs": [],
   "source": [
    "import json\n",
    "import os\n",
    "\n",
    "import openai\n",
    "import pandas as pd\n",
    "import qdrant_client\n",
    "from langchain_community.document_loaders import PyPDFLoader\n",
    "from langchain_text_splitters import RecursiveCharacterTextSplitter\n",
    "from qdrant_client.models import Distance, PointStruct, VectorParams"
   ]
  },
  {
   "cell_type": "code",
   "execution_count": null,
   "metadata": {},
   "outputs": [],
   "source": [
    "openai_api_key = os.environ.get(\"OPENAI_API_KEY\")\n",
    "\n",
    "embedding_model = \"text-embedding-3-small\"\n",
    "\n",
    "batch_folder = \"./batch_files\""
   ]
  },
  {
   "cell_type": "code",
   "execution_count": null,
   "metadata": {},
   "outputs": [],
   "source": [
    "openai_client = openai.Client(api_key=openai_api_key)\n"
   ]
  },
  {
   "cell_type": "code",
   "execution_count": 5,
   "metadata": {},
   "outputs": [
    {
     "name": "stdout",
     "output_type": "stream",
     "text": [
      "Embedding vector length: 1536\n"
     ]
    }
   ],
   "source": [
    "response = openai_client.embeddings.create(\n",
    "    input=\"Your text string goes here\", model=embedding_model\n",
    ")\n",
    "\n",
    "embedding_vector_length = len(response.data[0].embedding)\n",
    "print(f\"Embedding vector length: {embedding_vector_length}\")"
   ]
  },
  {
   "cell_type": "code",
   "execution_count": 6,
   "metadata": {},
   "outputs": [
    {
     "name": "stdout",
     "output_type": "stream",
     "text": [
      "15\n"
     ]
    }
   ],
   "source": [
    "loader = PyPDFLoader(\"./PDFs/attention.pdf\")\n",
    "documents = loader.load()\n",
    "print(len(documents))"
   ]
  },
  {
   "cell_type": "code",
   "execution_count": 7,
   "metadata": {},
   "outputs": [],
   "source": [
    "text_splitter = RecursiveCharacterTextSplitter(\n",
    "    chunk_size=1024, chunk_overlap=128, add_start_index=True\n",
    ")"
   ]
  },
  {
   "cell_type": "code",
   "execution_count": 8,
   "metadata": {},
   "outputs": [
    {
     "data": {
      "text/plain": [
       "49"
      ]
     },
     "execution_count": 8,
     "metadata": {},
     "output_type": "execute_result"
    }
   ],
   "source": [
    "chunks = text_splitter.split_documents(documents)\n",
    "len(chunks)"
   ]
  },
  {
   "cell_type": "code",
   "execution_count": 26,
   "metadata": {},
   "outputs": [
    {
     "data": {
      "text/plain": [
       "Document(metadata={'producer': 'pdfTeX-1.40.25', 'creator': 'LaTeX with hyperref', 'creationdate': '2024-04-10T21:11:43+00:00', 'author': '', 'keywords': '', 'moddate': '2024-04-10T21:11:43+00:00', 'ptex.fullbanner': 'This is pdfTeX, Version 3.141592653-2.6-1.40.25 (TeX Live 2023) kpathsea version 6.3.5', 'subject': '', 'title': '', 'trapped': '/False', 'source': './PDFs/attention.pdf', 'total_pages': 15, 'page': 0, 'page_label': '1', 'start_index': 0}, page_content='Provided proper attribution is provided, Google hereby grants permission to\\nreproduce the tables and figures in this paper solely for use in journalistic or\\nscholarly works.\\nAttention Is All You Need\\nAshish Vaswani∗\\nGoogle Brain\\navaswani@google.com\\nNoam Shazeer∗\\nGoogle Brain\\nnoam@google.com\\nNiki Parmar∗\\nGoogle Research\\nnikip@google.com\\nJakob Uszkoreit∗\\nGoogle Research\\nusz@google.com\\nLlion Jones∗\\nGoogle Research\\nllion@google.com\\nAidan N. Gomez∗ †\\nUniversity of Toronto\\naidan@cs.toronto.edu\\nŁukasz Kaiser∗\\nGoogle Brain\\nlukaszkaiser@google.com\\nIllia Polosukhin∗ ‡\\nillia.polosukhin@gmail.com\\nAbstract\\nThe dominant sequence transduction models are based on complex recurrent or\\nconvolutional neural networks that include an encoder and a decoder. The best\\nperforming models also connect the encoder and decoder through an attention\\nmechanism. We propose a new simple network architecture, the Transformer,\\nbased solely on attention mechanisms, dispensing with recurrence and convolutions')"
      ]
     },
     "execution_count": 26,
     "metadata": {},
     "output_type": "execute_result"
    }
   ],
   "source": [
    "chunks[0]"
   ]
  },
  {
   "cell_type": "code",
   "execution_count": 9,
   "metadata": {},
   "outputs": [],
   "source": [
    "# Initialize an empty DataFrame with specific column names\n",
    "df = pd.DataFrame(columns=[\"text\", \"source\", \"title\", \"page_label\"])\n",
    "\n",
    "# Loop through the data and append to the DataFrame\n",
    "for chunk in chunks:\n",
    "    # Option 1: Using loc\n",
    "    df.loc[len(df)] = [\n",
    "        chunk.page_content,\n",
    "        chunk.metadata[\"source\"],\n",
    "        chunk.metadata[\"title\"],\n",
    "        chunk.metadata[\"page_label\"],\n",
    "    ]"
   ]
  },
  {
   "cell_type": "code",
   "execution_count": 10,
   "metadata": {},
   "outputs": [
    {
     "name": "stdout",
     "output_type": "stream",
     "text": [
      "{\"custom_id\": \"custom_id_0\", \"method\": \"POST\", \"url\": \"/v1/embeddings\", \"body\": {\"input\": \"Provided proper attribution is provided, Google hereby grants permission to\\nreproduce the tables and figures in this paper solely for use in journalistic or\\nscholarly works.\\nAttention Is All You Need\\nAshish Vaswani\\u2217\\nGoogle Brain\\navaswani@google.com\\nNoam Shazeer\\u2217\\nGoogle Brain\\nnoam@google.com\\nNiki Parmar\\u2217\\nGoogle Research\\nnikip@google.com\\nJakob Uszkoreit\\u2217\\nGoogle Research\\nusz@google.com\\nLlion Jones\\u2217\\nGoogle Research\\nllion@google.com\\nAidan N. Gomez\\u2217 \\u2020\\nUniversity of Toronto\\naidan@cs.toronto.edu\\n\\u0141ukasz Kaiser\\u2217\\nGoogle Brain\\nlukaszkaiser@google.com\\nIllia Polosukhin\\u2217 \\u2021\\nillia.polosukhin@gmail.com\\nAbstract\\nThe dominant sequence transduction models are based on complex recurrent or\\nconvolutional neural networks that include an encoder and a decoder. The best\\nperforming models also connect the encoder and decoder through an attention\\nmechanism. We propose a new simple network architecture, the Transformer,\\nbased solely on attention mechanisms, dispensing with recurrence and convolutions\", \"model\": \"text-embedding-3-small\", \"encoding_format\": \"float\", \"dimensions\": 1536}}\n",
      "\n",
      "{\"custom_id\": \"custom_id_1\", \"method\": \"POST\", \"url\": \"/v1/embeddings\", \"body\": {\"input\": \"based solely on attention mechanisms, dispensing with recurrence and convolutions\\nentirely. Experiments on two machine translation tasks show these models to\\nbe superior in quality while being more parallelizable and requiring significantly\\nless time to train. Our model achieves 28.4 BLEU on the WMT 2014 English-\\nto-German translation task, improving over the existing best results, including\\nensembles, by over 2 BLEU. On the WMT 2014 English-to-French translation task,\\nour model establishes a new single-model state-of-the-art BLEU score of 41.8 after\\ntraining for 3.5 days on eight GPUs, a small fraction of the training costs of the\\nbest models from the literature. We show that the Transformer generalizes well to\\nother tasks by applying it successfully to English constituency parsing both with\\nlarge and limited training data.\\n\\u2217Equal contribution. Listing order is random. Jakob proposed replacing RNNs with self-attention and started\", \"model\": \"text-embedding-3-small\", \"encoding_format\": \"float\", \"dimensions\": 1536}}\n",
      "\n"
     ]
    }
   ],
   "source": [
    "# create the batch files\n",
    "batch_size = 20000\n",
    "batch_file = df.copy()\n",
    "batch_file_name = \"embedding_batch\"\n",
    "num_files = len(batch_file) // batch_size + 1\n",
    "for num_file in range(num_files):\n",
    "    output_file = f\"./batch_files/{batch_file_name}_part{num_file}.jsonl\"\n",
    "    # make sure that the file does not exist, so don't add to an existing file\n",
    "    if os.path.exists(output_file):\n",
    "        os.remove(output_file)\n",
    "    # write each embedding entry to a new line\n",
    "    with open(output_file, \"a\") as file:\n",
    "        for index, row in batch_file.iloc[\n",
    "            batch_size * num_file : min(batch_size * (num_file + 1), len(batch_file))\n",
    "        ].iterrows():\n",
    "            payload = {\n",
    "                \"custom_id\": f\"custom_id_{index}\",\n",
    "                \"method\": \"POST\",\n",
    "                \"url\": \"/v1/embeddings\",\n",
    "                \"body\": {\n",
    "                    \"input\": row[\"text\"],\n",
    "                    \"model\": embedding_model,\n",
    "                    \"encoding_format\": \"float\",  # default is float\n",
    "                    \"dimensions\": embedding_vector_length,\n",
    "                },\n",
    "            }\n",
    "            file.write(json.dumps(payload) + \"\\n\")\n",
    "\n",
    "    # Sanity check, print the first 2 lines\n",
    "    with open(output_file, \"r\") as file:\n",
    "        for line in file.readlines()[:2]:\n",
    "            print(line)"
   ]
  },
  {
   "cell_type": "code",
   "execution_count": null,
   "metadata": {},
   "outputs": [],
   "source": [
    "batch_input_files = []\n",
    "for file in os.listdir(batch_folder):\n",
    "    batch_input_files.append(\n",
    "        openai_client.files.create(\n",
    "            file=open(f\"{batch_folder}/{file}\", \"rb\"), purpose=\"batch\"\n",
    "        )\n",
    "    )"
   ]
  },
  {
   "cell_type": "code",
   "execution_count": null,
   "metadata": {},
   "outputs": [],
   "source": [
    "# create the batch job\n",
    "batch_file_ids = [\n",
    "    batch_file.id for batch_file in batch_input_files\n",
    "]  # we get the ids of the batch files\n",
    "job_creations = []\n",
    "for i, file_id in enumerate(batch_file_ids):\n",
    "    job_creations.append(\n",
    "        openai_client.batches.create(\n",
    "            input_file_id=file_id,\n",
    "            endpoint=\"/v1/embeddings\",\n",
    "            completion_window=\"24h\",  # currently only 24h is supported\n",
    "            metadata={\"description\": f\"part_{i}_icd_embeddings\"},\n",
    "        )\n",
    "    )"
   ]
  },
  {
   "cell_type": "code",
   "execution_count": null,
   "metadata": {},
   "outputs": [
    {
     "name": "stdout",
     "output_type": "stream",
     "text": [
      "Batch(id='batch_67cad006e9c48190a6c3027f08661291', completion_window='24h', created_at=1741344774, endpoint='/v1/embeddings', input_file_id='file-KMEM5AA2WdwahPAbSxBHiB', object='batch', status='validating', cancelled_at=None, cancelling_at=None, completed_at=None, error_file_id=None, errors=None, expired_at=None, expires_at=1741431174, failed_at=None, finalizing_at=None, in_progress_at=None, metadata={'description': 'part_0_icd_embeddings'}, output_file_id=None, request_counts=BatchRequestCounts(completed=0, failed=0, total=0))\n"
     ]
    }
   ],
   "source": [
    "# WE can see here the jobs created, they start with validation\n",
    "for job in job_creations:\n",
    "    print(job)\n",
    "\n",
    "# we extract the ids for the job to check the status\n",
    "job_ids = [job.id for job in job_creations]\n",
    "\n",
    "job_ids = [\"batch_67cad006e9c48190a6c3027f08661291\"]"
   ]
  },
  {
   "cell_type": "code",
   "execution_count": 18,
   "metadata": {},
   "outputs": [
    {
     "name": "stdout",
     "output_type": "stream",
     "text": [
      "Job batch_67cad006e9c48190a6c3027f08661291 has finished\n"
     ]
    }
   ],
   "source": [
    "import time\n",
    "\n",
    "fail_flag = False\n",
    "finished = set()\n",
    "while True:\n",
    "    # we check the status of the jobs\n",
    "    for job_id in job_ids:\n",
    "        job = openai_client.batches.retrieve(job_id)\n",
    "        if job.status == \"failed\":\n",
    "            print(f\"Job {job_id} has failed with error {job.errors}\")\n",
    "            fail_flag = True\n",
    "            break\n",
    "        elif job.status == \"in_progress\":\n",
    "            print(\n",
    "                f\"Job {job_id} is in progress, {job.request_counts.completed}/{job.request_counts.total} requests completed\"\n",
    "            )\n",
    "        elif job.status == \"finalizing\":\n",
    "            print(f\"Job {job_id} is finalizing, waiting for the output file id\")\n",
    "        elif job.status == \"completed\":\n",
    "            print(f\"Job {job_id} has finished\")\n",
    "            finished.add(job_id)\n",
    "        else:\n",
    "            print(f\"Job {job_id} is in status {job.status}\")\n",
    "\n",
    "    if fail_flag is True or len(finished) == len(job_ids):\n",
    "        break\n",
    "    time.sleep(600)\n",
    "\n",
    "# When the job is finished we can see the output file id that will be used to extract the output files\n",
    "output_files_ids = []\n",
    "if fail_flag is False:\n",
    "    for job_id in job_ids:\n",
    "        output_files_ids.append(openai_client.batches.retrieve(job_id).output_file_id)"
   ]
  },
  {
   "cell_type": "code",
   "execution_count": 19,
   "metadata": {},
   "outputs": [
    {
     "name": "stdout",
     "output_type": "stream",
     "text": [
      "0/49 requests failed in job batch_67cad006e9c48190a6c3027f08661291\n"
     ]
    }
   ],
   "source": [
    "for job_id in job_ids:\n",
    "    job = openai_client.batches.retrieve(job_id)\n",
    "    print(\n",
    "        f\"{job.request_counts.failed}/{job.request_counts.total} requests failed in job {job_id}\"\n",
    "    )"
   ]
  },
  {
   "cell_type": "code",
   "execution_count": 20,
   "metadata": {},
   "outputs": [
    {
     "name": "stdout",
     "output_type": "stream",
     "text": [
      "50\n"
     ]
    }
   ],
   "source": [
    "output_files = []\n",
    "for output_file_id in output_files_ids:\n",
    "    output_file = openai_client.files.content(output_file_id).text\n",
    "    output_files.append(output_file)\n",
    "    output_file_split = output_file.split(\"\\n\")\n",
    "    print(len(output_file_split))"
   ]
  },
  {
   "cell_type": "code",
   "execution_count": 22,
   "metadata": {},
   "outputs": [],
   "source": [
    "embedding_results = []\n",
    "for file in output_files:\n",
    "    for line in file.split(\"\\n\")[:-1]:\n",
    "        data = json.loads(line)\n",
    "        custom_id = data.get(\"custom_id\")\n",
    "        embedding = data[\"response\"][\"body\"][\"data\"][0][\"embedding\"]\n",
    "        embedding_results.append([custom_id, embedding])\n",
    "\n",
    "\n",
    "embedding_results = pd.DataFrame(embedding_results, columns=[\"custom_id\", \"embedding\"])"
   ]
  },
  {
   "cell_type": "code",
   "execution_count": 23,
   "metadata": {},
   "outputs": [],
   "source": [
    "df = df.reset_index()\n",
    "df = df.rename(columns={\"index\": \"id\"})\n",
    "embedding_results[\"id\"] = embedding_results[\"custom_id\"].apply(\n",
    "    lambda x: int(x.split(\"custom_id_\")[1])\n",
    ")\n",
    "df_with_embedding = df.merge(\n",
    "    embedding_results[[\"id\", \"embedding\"]], on=\"id\", how=\"left\"\n",
    ")"
   ]
  },
  {
   "cell_type": "code",
   "execution_count": 24,
   "metadata": {},
   "outputs": [],
   "source": [
    "df_with_embedding.to_csv(\"./data/df_with_embedding_1536.csv\", index=False)"
   ]
  },
  {
   "cell_type": "code",
   "execution_count": 25,
   "metadata": {},
   "outputs": [
    {
     "data": {
      "application/vnd.microsoft.datawrangler.viewer.v0+json": {
       "columns": [
        {
         "name": "index",
         "rawType": "int64",
         "type": "integer"
        },
        {
         "name": "id",
         "rawType": "int64",
         "type": "integer"
        },
        {
         "name": "text",
         "rawType": "object",
         "type": "string"
        },
        {
         "name": "source",
         "rawType": "object",
         "type": "string"
        },
        {
         "name": "title",
         "rawType": "object",
         "type": "string"
        },
        {
         "name": "page_label",
         "rawType": "object",
         "type": "string"
        },
        {
         "name": "embedding",
         "rawType": "object",
         "type": "unknown"
        }
       ],
       "conversionMethod": "pd.DataFrame",
       "ref": "faabe016-f56e-4b3a-ad10-174808350a3d",
       "rows": [
        [
         "0",
         "0",
         "Provided proper attribution is provided, Google hereby grants permission to\nreproduce the tables and figures in this paper solely for use in journalistic or\nscholarly works.\nAttention Is All You Need\nAshish Vaswani∗\nGoogle Brain\navaswani@google.com\nNoam Shazeer∗\nGoogle Brain\nnoam@google.com\nNiki Parmar∗\nGoogle Research\nnikip@google.com\nJakob Uszkoreit∗\nGoogle Research\nusz@google.com\nLlion Jones∗\nGoogle Research\nllion@google.com\nAidan N. Gomez∗ †\nUniversity of Toronto\naidan@cs.toronto.edu\nŁukasz Kaiser∗\nGoogle Brain\nlukaszkaiser@google.com\nIllia Polosukhin∗ ‡\nillia.polosukhin@gmail.com\nAbstract\nThe dominant sequence transduction models are based on complex recurrent or\nconvolutional neural networks that include an encoder and a decoder. The best\nperforming models also connect the encoder and decoder through an attention\nmechanism. We propose a new simple network architecture, the Transformer,\nbased solely on attention mechanisms, dispensing with recurrence and convolutions",
         "./PDFs/attention.pdf",
         "",
         "1",
         "[0.024030453, 0.008008195, -0.030085, 0.018222312, 0.030577812, -0.037923057, -0.010272784, 0.04820171, -0.06974463, -0.031915445, 0.03977697, -0.035951808, -0.0029334049, -0.015265439, 0.015840387, -0.042874645, 0.041466612, -0.041349273, 0.030319672, 0.008002329, -0.044517353, -0.02820762, 0.032760266, 0.008213533, 0.029122842, -0.00052691286, 0.003267813, 0.03754758, 0.02625984, -0.047732364, -0.0051481253, -0.007327645, -0.0505015, -0.015640914, -0.0037342242, 0.034872316, -0.013880871, -0.008729813, -0.0328776, 0.04174822, 0.058668096, -0.022904025, -0.009680236, 0.045244835, 0.017741233, 0.008858883, -0.03374589, 0.008014062, -0.0043473057, 0.071575075, -0.031000223, 0.027691342, 0.0022059204, -0.013376326, -0.03374589, -0.02392485, -0.007978861, 0.011276009, 0.005614537, -0.020146625, -0.0027075326, -0.022833623, 0.004898786, 0.0019492476, -0.026119037, 0.0075271167, -0.065802135, 0.00328248, 0.011469613, 0.025274215, 0.020346096, 0.027034258, 0.038509738, -0.041114602, -0.0071985754, -0.015676115, -0.051111646, 0.059559852, -0.010061579, -0.0026737985, 0.046723273, -0.0059166774, 0.011680818, -0.054162387, -0.051534057, -0.0055382685, -0.0051070577, -0.032666396, -0.0505015, -0.012496305, 0.0016837744, 0.017882036, -0.081947595, 0.021812798, 0.0045409105, 0.03637422, 0.0053739976, 0.021143982, 0.05115858, 0.0395423, 0.021085314, -0.018140176, 0.0032707464, -0.053739976, 0.0077207214, -0.0056497375, 0.004253437, -0.03543553, -0.0341683, -0.0021457856, 0.0025212613, -0.027292399, 0.02421819, 0.013247256, -0.0036872898, -0.03236132, -0.0025447288, -0.0059753456, -0.006007613, 0.027175063, -0.009592234, -0.012308567, -0.0058374754, 0.015124636, 0.009492498, -0.042100225, 0.02898204, -0.039823905, -0.0046934476, -0.021636793, 0.04580805, 0.01083013, 0.046723273, -0.0128248455, -0.021824531, -0.01679081, -0.05641524, 0.03698437, -0.066177614, 0.00601348, 0.013282457, -0.017189752, -0.034379505, 0.027362801, -0.018832458, 0.04604272, -0.018433517, -0.015065967, 0.0033000805, 0.023267766, -0.010882932, -0.00790846, -0.038509738, 0.00086682115, -0.028371891, -0.04639473, -0.035482466, 0.076644, -0.013212055, -0.01899673, 0.07401567, 0.019407406, 0.04709875, -0.015476644, -0.053505305, 0.058668096, -0.08903471, -0.017600428, -0.021507725, -0.0025916633, -0.0110530695, -0.01967728, -0.019278336, -0.013740068, 0.01026105, 0.00094895647, -0.042710375, -0.01397474, -0.050172955, -0.04470509, 0.025274215, 0.012543239, -0.015019033, 0.028794302, 0.010695194, -0.012930448, -0.016579604, 0.028700434, 0.019231401, -0.010877065, -0.037946526, 0.040832996, 0.034966186, -0.005520668, -0.018198844, -0.013740068, 0.04036365, 0.012977383, 0.05772941, -0.03034314, 0.03942496, 0.018468717, 0.014092077, -0.028019883, 0.04463469, -0.0055324016, 0.0060017463, 0.020885842, -0.03484885, -0.008671145, 0.037617985, -0.030296205, 0.027292399, 0.0060604145, -0.022997893, -0.029756458, -0.0615311, 0.04200636, 0.0127779115, 0.02396005, 0.008037529, -0.002848336, -0.0033528816, 0.008195933, -0.024147788, 0.031915445, -0.03128183, -0.02684652, -0.00915809, -0.018116709, 0.051627927, -0.010102646, 0.0016016391, -0.021730663, 0.0060838815, -0.00071281736, 0.05007909, -0.06448797, 0.039753504, -0.039753504, -0.014948631, 0.010419454, -0.022587217, 0.017295355, 0.007145774, 0.041278873, -0.028747367, -0.02668225, 0.017975904, 0.037031304, 0.013305924, -0.0015503045, -0.006124949, -0.02515688, -0.010953333, -0.012273366, 0.0033528816, 0.014760893, 0.009686103, 0.027221996, -0.02006449, 0.036350753, 0.007761789, -0.017002014, 0.015347574, -0.013681401, -0.025954766, -0.0011748286, -0.013763536, -0.035787538, -0.010384253, -0.00073371787, 0.024945674, 0.0021061846, -0.06495731, -0.021273052, 0.023080029, 0.020850642, -0.008671145, -0.00042901046, 0.021484258, 0.018820725, 0.024194723, 0.026471045, -0.036585424, -0.0014513021, -0.01257844, 0.00074325147, -0.046817143, -0.033698954, 0.007486049, -0.034614176, 0.0328072, -0.046770208, -0.021014912, 0.008430606, 0.019947153, -0.006717497, 0.038392402, -0.005224394, 0.019266604, -0.01864472, 0.023162164, 0.006623628, -0.011234941, 0.033182677, -0.046864077, 0.014573155, 0.072138295, 0.024617134, 0.0032648796, 0.018785525, 0.010947467, 0.033792824, -0.019442607, -0.01121734, 0.03672623, -0.061155625, -0.012038694, -0.02065117, -0.043461327, -0.048060905, 0.0005804475, 0.02830149, -0.0020563167, 0.036256883, -0.01393954, -0.0027221998, 0.013845671, 0.0074391146, 0.052238073, 0.020686371, 0.049422003, -0.02039303, -0.03498965, -0.028770834, -0.028559629, 0.029427918, 0.0093751615, 0.026236372, -0.05007909, -0.019724214, -0.030225804, -0.027644407, -0.012531506, 0.037852656, 0.0053446637, -0.01967728, 0.049328137, -0.028348424, -0.025016077, 0.0063420213, 0.041513544, -0.020557301, 0.0033763489, -0.0036315552, 0.0032619461, 0.0017585763, 0.0026987325, -0.002532995, -0.020791974, 0.01206216, 0.044400014, 0.010877065, 0.009803439, 0.0070753726, -0.032173585, 0.020956244, -0.030085, 0.028536161, 0.010343186, 0.026189439, -0.023807514, 0.017142817, -0.016297998, -0.019618612, -0.014350217, -0.0012129629, 0.006283353, 0.042053293, 0.019254869, 0.02388965, -0.031328764, -0.0669755, -0.0026884656, 0.001392634, 0.0015107035, -0.0124611035, -0.041067667, -0.02376058, -0.0066705626, -0.031117558, -0.047239553, 0.036421154, 0.013540597, 0.010601325, 0.025016077, 0.015934255, 0.052754354, 0.03919029, 0.017882036, -0.0019873818, 0.0075916518, -0.046535533, 0.028888172, -0.0164036, -0.0055030673, 0.002912871, 0.0012034293, 0.0030888752, 0.058339555, -0.020310896, 0.0019829816, -0.0064124228, -0.027175063, 0.00559987, -0.0074449815, -0.0001037692, 0.012120829, 0.063033, -0.00534173, 0.011610417, -0.052238073, -0.013071252, -0.05040763, 0.0120973615, 0.022575483, -0.05772941, 0.024922207, -0.033041872, -0.024499796, 0.014831295, -0.019536477, -0.028559629, 0.02337337, 0.028160686, 0.05345837, 0.029850328, 0.0015239038, -0.051299382, 0.03740678, -0.04571418, -0.066130675, -0.027480137, 0.0065532266, 0.041935954, -0.04691101, 0.011234941, -0.036491558, -0.046793673, 0.027855612, -0.00032927468, 0.043742932, 0.011111737, -0.061906576, -0.006265753, 0.093446545, 0.0061542834, 0.035036586, 0.0022000535, 0.051017776, -0.067022435, -0.00423877, -0.00809033, 0.014174212, -0.03919029, 0.005752407, -0.017002014, 0.05650911, -0.0016852411, -0.0025593957, -0.013200322, -0.033346947, 0.0039600967, 0.039800435, 0.00030232404, 0.031070624, -0.014397151, 0.007861525, -0.046770208, 0.0067350976, -0.020979712, -0.020592501, 0.0007619519, 0.022904025, 0.052754354, -0.0033939495, -0.040645257, 0.0028630032, -0.032595996, 0.015664382, -0.021707196, 0.024405928, -0.009756505, 0.046324328, -0.0011821622, -0.013305924, -0.022117872, -0.038650542, -0.012684043, 0.03060128, -0.041677818, -0.0368201, 0.011117605, -0.0009826906, 0.012684043, 0.004631846, 0.032689862, -0.038134262, -0.011076537, 0.017999372, -0.04775583, 0.019337004, 0.017166285, 0.011586949, 0.025720093, -0.020510366, 0.035857942, -0.008266334, 0.020076223, -0.017459625, -0.010249317, -0.017870301, -0.008571409, 0.005247861, -0.0033646154, -0.018914595, -0.07645626, 0.009269559, -0.028324958, 0.012226432, -0.016028125, 0.016098525, 0.016168928, -0.026400644, 0.015488378, 0.00628922, -0.04198289, -0.08410659, -0.010935733, -0.014878229, 0.007843925, 0.013223789, 0.026494512, -0.00046457798, -0.02289229, 0.0064006895, -0.026963858, -0.012296833, 0.03787612, -0.0013765002, -0.027574005, 0.024018718, -0.025109945, -0.0313757, 0.0002920571, 0.02035783, 8.6168766e-05, 0.0001673874, -0.036749694, 0.015241971, -0.007421514, -0.0005155459, -0.004549711, -0.027926015, 0.028113753, 0.0032619461, -0.03482538, 0.023713645, -0.051299382, -0.010906399, -0.019172734, 0.024523264, -0.0395423, 0.012320301, 0.030319672, -0.051627927, 0.027503604, -0.0016720408, 0.0057436065, -0.054021582, -0.0017468425, -0.040903397, -0.0059020105, -0.04735689, 0.012601907, 0.0027515336, 0.01971248, -0.05261355, 0.0054238657, 0.037664916, -0.004854785, 0.014432352, -0.008113798, -0.02412432, -0.039730035, -0.008553809, -0.029732991, -0.05073617, 0.033112273, 0.0060780146, 0.005174526, -0.020721572, -0.0040539657, 0.030695148, 0.017271888, -0.020709839, -0.000985624, 0.0074391146, -0.017811634, -0.011082403, 0.013176855, 0.0063302875, -0.0031974113, -0.004056899, 0.018327914, -0.030085, -0.0023907248, 0.027409734, 0.021507725, 0.01864472, -0.019196201, 0.01219123, -0.0015429709, -0.0052654617, 0.0064124228, -0.008706345, -0.044235744, -0.005852143, -0.03822813, -0.051674858, 0.0031563437, 0.019395674, 0.02201227, 0.013904339, 0.020123158, 0.0018905795, -0.03245519, 0.017365757, -0.013657933, -0.077019475, -0.00985624, -0.013188588, 0.015488378, -0.020639436, 0.016321465, -0.020721572, 0.0053211963, -0.027221996, 0.0034291502, -0.035717137, -0.03435604, 0.034144834, 0.038767878, 0.03482538, 0.018104974, -0.019383939, -0.028019883, 0.041325808, 0.0048665185, -0.06603681, 0.022387745, -0.029756458, -0.013399793, -0.03459071, -0.014549688, -0.005673205, 0.0050542564, 0.037946526, 0.015969455, -0.035412062, 0.03205625, 0.023162164, -0.024851806, 0.009210891, -0.0069404356, 0.008131398, -0.06354928, -0.0040744995, -0.015406243, 0.03236132, 0.033675488, -0.018386582, -0.004071566, 0.016626539, 0.0076972544, 0.0024259258, -0.02078024, 0.04249917, -0.021437323, -0.014338483, -0.0054796003, 0.016603071, -0.0008147532, 0.019219669, -4.574278e-05, 0.013833937, 0.062047377, -0.02133172, -0.072795376, -0.02762094, 0.016966814, -0.015159836, -0.004420641, 0.016544404, -0.02532115, -0.0066822963, 0.026869988, 0.01873859, -0.042616505, -0.031164493, 0.014631824, 0.034379505, 0.0003103909, -0.017283622, 0.027198529, 0.029427918, 0.03060128, -0.018292712, -0.038322, -0.04010551, 0.019290071, -0.028841237, -0.005849209, 0.0049515874, -0.030272737, -0.04834251, 0.00862421, -0.020439966, 0.013517129, 0.015277172, -0.0015503045, 0.004115567, -0.010325585, -0.004549711, -0.0039160955, -0.05369304, -0.021554658, -0.024077388, -0.023091763, -0.025016077, -0.025978234, 0.011645617, 0.032150116, 0.009040753, 0.031234894, -0.024499796, 0.017530028, 0.019900218, -0.0287239, -0.024570199, 0.007638586, -0.016344931, -0.0014498354, -0.013270724, 0.0029788725, 0.006623628, -0.023091763, 0.013693133, 0.0073804464, -0.006377222, 0.0010633592, -0.038603608, 0.0034115498, -0.0012180964, -0.06941609, 0.012202964, -0.0032032782, 0.027268931, 0.026869988, 0.009867974, -0.017729498, 0.035576332, -0.007491916, 0.016215863, 0.0077852565, 0.031258363, 0.026142504, 0.0022337877, 0.0052977293, 0.007222043, 0.006817233, -0.0042710374, -0.035764072, -0.03034314, -0.03322961, -0.02609557, -0.007931926, 0.012531506, -0.030718615, -0.040152445, 0.0053505306, 0.017224953, 0.004224103, -0.0005852143, 0.005863876, -0.039917774, -0.09438524, -0.02017009, -0.0071927086, -0.02684652, 0.0026048636, -0.030976756, -0.004326772, 0.016837744, 0.008970352, 0.008501007, -0.014549688, -0.019043664, -0.002376058, 0.033112273, 0.040668726, -0.020334363, 0.0047198483, -0.04604272, -0.022411212, 0.0013867671, 1.7806684e-05, -0.028747367, 0.02710466, -0.018621255, -0.040645257, 0.0015576379, 0.0164388, -0.01355233, -0.009128756, -0.0018568452, -0.013235522, -0.0007194175, -0.020146625, 0.03442644, 0.021319987, 0.0060897483, 0.0006402156, 0.02694039, 0.035294726, 0.0057348064, -0.011809888, -0.019137533, 0.050032154, -0.022634152, 0.009474898, 0.009398629, 0.01993542, -0.026400644, 0.018104974, 0.039119888, 0.019923685, -0.008225267, -0.056133635, -0.002286589, -0.016708674, -0.005664405, -0.008870617, -0.027362801, 0.016004657, -0.008137265, -0.0141859455, 0.016966814, 0.03534166, -0.005159859, 0.008817815, -0.010841864, 0.011176272, 0.061812706, 0.0011315609, -0.010038111, 0.01533584, 0.03383976, -0.028324958, 0.01202696, 0.00985624, -0.019008463, 0.00943383, 0.04214716, -0.021847999, -0.01176882, 0.053176764, -0.031117558, -0.05040763, -0.0083308695, 0.019067131, 0.008665278, -0.005520668, 0.0006662496, -0.015488378, 0.03630382, 0.03128183, -0.006189484, -0.005356397, -0.018456982, 0.02158986, -0.01585212, 0.019865017, -0.0031240762, 0.049844414, 0.008841282, 0.051534057, 0.034449905, -0.030155402, -0.0107362615, 0.0006207818, 0.011164539, 0.0061718835, -0.021801066, -0.011798155, -0.017072417, -0.00765032, 0.006617761, 0.0012261632, -0.020498633, 0.017553495, 0.0055676023, 0.028160686, 0.013047785, 0.03210318, 0.0057054725, -0.007233776, 0.008876483, -0.019501274, 0.013071252, -0.03475498, -0.05491334, 0.011663218, -0.018327914, -0.0021164515, -0.021566393, 0.022188274, 0.0141390115, 0.03083595, -0.018128442, 0.0005852143, 0.02230561, 0.0028278022, 0.03060128, -0.043860268, 0.017717766, 0.0005639471, -0.034966186, 0.00724551, 0.010143714, 0.0014725692, -0.02000582, -0.022047471, 0.007849791, -0.018022839, -0.004884119, 0.026541447, 0.0050454563, -0.03177464, 0.02794948, -0.0025755295, 0.030014599, 0.0011975626, -0.026447577, 0.0065180254, 0.044986695, 0.0073569794, -0.0056409375, 0.026283307, 0.004218236, 0.0052918624, -0.05491334, -0.03977697, -0.0050894576, -0.011710152, -0.0074156476, -0.019196201, -0.041020732, 0.05270742, 0.061718836, 0.0026385977, -0.024757937, 0.024288593, 0.00012787811, -0.010747995, 0.0049310536, 0.016380133, 0.029334048, -0.035482466, 0.039565764, 0.014197679, 0.0086946115, 0.019372206, 0.0071985754, 0.039213754, -0.0032942137, 0.01257844, 0.0061425497, -0.014197679, 0.02499261, -0.013188588, -0.009733037, 0.017788166, 0.036092613, -0.020569034, -0.018327914, -0.009791706, -0.0024625934, -0.008800214, -0.005441466, -0.018656455, 0.016978547, 0.0070929728, -0.039307624, -0.0046934476, -0.0041097, 0.005230261, -0.023690177, -0.004933987, 0.071246535, -0.009656768, 0.018363114, -0.005262528, -0.004904653, -0.03501312, -0.0062716193, -0.0017923104, -0.060076132, -0.03466111, -0.014256348, 0.008665278, 0.045338705, 0.016943347, -0.0039894306, -0.0077031213, -0.009627434, 0.0064945584, -0.010184782, 0.007087106, 0.038251597, 0.020181825, 0.007550584, 0.001488703, -0.020087956, 0.04273384, 0.013012584, 0.013610998, 0.020275693, 0.010906399, -0.024077388, 0.009768238, -0.0032003447, 0.010970934, 0.033511218, 0.029193245, -0.015711317, 0.010906399, 0.04590192, 0.029521786, 0.004986788, -0.023572842, -7.576435e-05, 0.001421968, 0.01873859, 0.027902547, 0.013036051, 0.04087993, 0.01964208, -0.0072865775, -0.043578662, -0.0077911234, 0.0024229924, 0.0037488914, -0.041349273, -0.00219272, 0.027175063, -0.0070108376, 0.009017287, 0.004969188, -0.043437857, 0.0045379773, -0.011604549, -0.00847754, -0.0025931299, 0.00041544347, -0.008413005, -0.031164493, -0.020967977, 0.003877961, 0.009099422, 0.009281293, -0.0177647, -0.03515392, 0.0016764408, 0.025109945, -0.005849209, -0.017717766, 0.0012283633, 0.011105871, -0.03970657, -0.017600428, -0.0012210298, -0.0091228895, 0.019172734, 0.002622464, 0.020404764, 0.0037254242, 0.024875274, 0.027644407, 0.0059782793, 0.02272802, -0.009744771, -0.00032744132, -0.07049558, -0.016532669, 0.025109945, -0.031211428, 0.0032003447, 0.017236687, 0.02311523, 0.022645885, -0.0026107302, -0.0034878184, -0.018527385, -0.008577276, -0.02421819, 0.007896726, -0.0030331407, 0.033300012, 0.03757105, -0.0057289395, -0.022422947, 0.01721322, -0.006113216, 0.024265125, 0.013153387, -0.0065121586, 0.01630973, -0.0028512694, 0.006377222, -0.011176272, 0.01818711, -0.02914631, -0.0009995577, -0.013646199, -0.006295087, -0.011522414, -0.0051275915, -0.016532669, 0.011029602, 0.002277789, 0.031070624, -0.028770834, -0.0070812395, 0.007028438, 0.0025505954, 0.029944196, -0.04834251, -0.0068465667, 0.0057289395, -0.01984155, 0.048154775, -0.016356666, 0.001789377, -0.027034258, -0.009427963, -0.024288593, 0.015875587, -0.011815755, -0.016168928, 0.029451385, -0.011176272, -0.03728944, -0.021918401, -0.0017600429, 0.002154586, 0.009920775, 0.031657305, -0.03034314, -0.015453177, 0.008225267, 0.021014912, -0.03092982, -0.01682601, 0.0019287136, 0.024851806, -0.021953601, -0.0657552, -0.02223521, 0.018022839, -0.029216712, 0.053223696, -0.07138734, -0.006476958, -0.07969474, 0.014631824, 0.014174212, 0.021472523, 0.0109416, -0.008999686, -0.0038456938, -0.021273052, 0.008677011, -0.004667047, -0.019067131, -0.0098503735, 0.013376326, 0.01462009, -0.007157508, -0.034637645, 0.025696626, -0.0177999, 0.016966814, 0.019829817, 0.009879707, 0.02830149, -0.01980635, 0.013024317, -0.025978234, -0.015664382, 0.0030096734, -0.015429709, -0.02405392, -0.006782032, 0.031422634, 0.02914631, 0.0024743269, -0.00017673764, 0.02090931, 0.011786421, 0.023901382, 0.022376012, 0.020029288, 0.03407443, 0.0059724124, 0.031047156, -0.02366671, -0.0062422855, 0.006277486, 0.013716601, 0.00031534102, 0.019994088, 0.017741233, -0.027151596, -0.03787612, 0.026987325, -0.014643557, 0.00982104, 0.028935105, 0.007315912, 0.037172105, -0.005153992, -0.03146957, -0.035881408, 0.026963858, -0.027034258, -0.018386582, -0.0029246046, -0.030296205, 0.0018201777, -0.022329077, 0.038697477, -0.052144203, 0.005682005, 0.021425588, 0.021730663, -0.0002968239, -0.009803439, 0.002568196, 0.013798736, -0.03440297, -0.003238479, 0.0035024853, 0.015382775, 0.00888235, -0.025884364, 0.008559675, -0.024452863, 0.022000536, -0.013986474, 0.009046621, -0.0076092524, 0.017354023, -0.010137847, 0.010642393, -0.018175377, -0.0018260445, 0.027292399, 0.0102141155, -0.01287178, 0.049140397, 0.019876752, -0.009779972, -0.0025051278, -0.013845671, -0.0025124613, 0.009826906, 0.011164539, -0.026048634, 0.02635371, 0.044306148, -0.0019140467, 0.0148195615, 0.008594876, -0.03252559, -0.012179497, 0.029873794, 0.0020959177, 0.0045966455, 0.012009359, 0.016262796, -0.036773164, 0.004667047, -0.044212278, -0.00982104, -0.030789018, -0.029521786, -0.0028307356, 0.018656455, 0.01575825, 0.027550539, 0.012918714, -0.038462803, -0.014221147, 0.026283307, -0.0029788725, 0.031727705, -0.0013853004, -0.011322943, -0.0011000268, 0.0088060815, -0.017553495, 0.007151641, -0.01951301, 0.012073894, 0.0018201777, 0.009809306, -0.00079861947, 0.020639436, 0.009944242, -0.020733306, 0.033792824, -0.021730663, -0.0036550225, -0.024945674, -0.0098973075, -0.055523485, -0.025368085, 0.020921044, 0.0029920728, 0.01189789, 0.04165435, -0.01890286, 0.022352545, 0.020615969, 0.0037254242, -0.0059313443, 0.0004924453, -1.4128469e-05, 0.00086168764, -0.00039454296, 0.0075036497, 0.036256883, -0.00559987, 0.0033675488, 0.0006706497, 0.02078024, 0.0024757937, -0.0065884273, -0.0015620381, 0.004309172, 0.02447633, 0.036491558, 0.026400644, -0.03161037, -0.0046758475, 0.00080741965, 0.010677594, 0.0164036, 0.02473447, -0.019947153, 0.04172475, -0.006465224, -0.0037782255, -0.014455819, 0.048577186, -0.013646199, -0.009973576, -0.002376058, 0.019524742, 0.014725693, -0.0033000805, -0.012566706, -0.013751802, 0.012167763, 0.016485736, -0.013118186, 0.03017887, -0.0016177727, 0.00022385546, -0.016896412, 0.021050112, 0.013212055, -0.007034305, -0.05772941, 0.032431725, -0.017283622, 0.01734229, -0.05097084, -0.02515688, -0.029545253, 0.027198529, 0.016485736, -0.0012041627, 0.039753504, 0.004813717, -0.013223789, 0.007304178, -0.0073511126, -0.022622418, -0.0071340404, 0.021542925, -0.013446728, 0.018046306, -0.0041067665, -0.01257844, -0.018726857, -0.012730977, -0.0056438707, -0.015523578, -0.003957163, 0.010959201, 0.022669353, 0.033276543, -0.024804872, -0.015863853, 0.007028438, -0.02694039, 0.004273971, -0.009293026, 0.042639975, 0.010800797, -0.024711002, -0.011035469, 0.00287767, 0.0014791694, -0.034567244, 0.022751488, 0.029873794, -0.01517157, -0.020052755, 0.013000851, -0.020475166, 0.0008741546, 0.0111000035, 0.019689014, -0.0018597787, -0.0060046795, 0.023408571, 0.0094866315, -0.011804021, 0.039471895, -0.012167763, 0.035717137, 0.020029288, 0.0030976755, -0.03092982, -0.0020577835, -0.004628913, 0.008242868, -0.008501007, 0.01410381, 0.027644407, -0.009023153, 0.008096198, 0.03050741, 0.0074449815, -0.0064124228, -0.0040246313, 0.006130816, 0.055194944, -0.01734229, -0.018597787, 0.010624792, 0.035224326, -0.011669084, 0.023701912, 0.021601593, 0.02525075, 0.014854762, 0.020803707, -0.019747682, 0.002799935, -0.011240807, 0.04766196, -0.019466074, -0.0117336195, -0.029521786, -0.051674858, -0.025368085, 0.02651798, 0.0033646154, -0.009222625, 0.031328764, -0.0037488914, -0.028770834, -0.012120829, 0.0021384521, 0.007421514, -0.015324106, -0.0044382415, 0.031657305, 0.0024332593, -0.0046699806, -0.006629495, 0.022200007, -0.0013559664, -0.0029187377, 0.008700479, -0.015711317, 0.0049457205, 0.012860047, 0.023784047, -0.024804872, -0.01559398, -0.013165121, -0.00587561, 0.01711935, 0.0070695058, 0.02438246, -0.023396837, 0.0059753456, -0.0022337877, -0.03245519, 0.033534683, -0.024288593, 0.048624117, -0.058996636, -0.018468717, -0.025720093, 0.016251063, -0.0044529084, -0.006019347, 0.045925386, 0.00013328658]"
        ],
        [
         "1",
         "1",
         "based solely on attention mechanisms, dispensing with recurrence and convolutions\nentirely. Experiments on two machine translation tasks show these models to\nbe superior in quality while being more parallelizable and requiring significantly\nless time to train. Our model achieves 28.4 BLEU on the WMT 2014 English-\nto-German translation task, improving over the existing best results, including\nensembles, by over 2 BLEU. On the WMT 2014 English-to-French translation task,\nour model establishes a new single-model state-of-the-art BLEU score of 41.8 after\ntraining for 3.5 days on eight GPUs, a small fraction of the training costs of the\nbest models from the literature. We show that the Transformer generalizes well to\nother tasks by applying it successfully to English constituency parsing both with\nlarge and limited training data.\n∗Equal contribution. Listing order is random. Jakob proposed replacing RNNs with self-attention and started",
         "./PDFs/attention.pdf",
         "",
         "1",
         "[0.0071760574, 0.012750796, 0.031213759, -0.0048547434, -0.011985987, -0.04091727, 0.025979599, 0.04622313, -0.052676205, 0.020028431, 0.016311938, -0.02256186, -0.048206855, 0.017518902, 0.018104458, -0.012930049, 0.030448949, -0.029755842, 0.012965899, 0.031930767, -0.017698154, -0.04103677, 0.030735753, 0.012930049, 0.0173516, 0.008066343, -0.04266199, 0.018570513, 0.013396104, -0.042829294, -0.013742658, -0.01172906, -0.0045440397, -0.04866096, 0.044669613, 0.046772838, 0.032265373, 0.016969195, -0.022860613, 0.03207417, 0.016192436, -0.036854222, -0.01573833, 0.0434507, -0.017901305, 0.022358706, -0.016395587, 0.038909648, -0.028656429, 0.07528587, -0.021402696, 0.031667862, -0.055974443, 0.0078094145, 0.018654164, -0.03570701, -0.00434985, 0.024222929, -0.00060646946, -0.015917582, 0.009990315, -0.019657975, 0.013754608, 0.011065827, -0.031835165, -0.005494076, -0.056309048, 0.0041974857, 0.007928916, 0.012977849, -0.0045500146, -0.02001648, 0.030209947, -0.034177393, 0.009691562, 0.0023960026, 0.019359222, 0.041012872, -0.013324403, -0.004003296, 0.009016379, -0.029182235, -0.011579683, -0.02186875, -0.013145151, -0.04259029, 0.022920363, -0.04780055, 0.00083800335, -0.021366846, -0.0056315023, 0.015547128, 0.0005272998, 0.006261872, 0.054253623, 0.01835541, -0.00998434, -0.003187699, 0.016001234, 0.056117844, 0.03130936, 0.0064172237, 0.011382506, -0.0611369, 0.029373437, 0.0130376, 0.021091992, -0.0346554, -0.017650353, 0.016120736, -0.044884715, 0.0070685064, 0.0017835579, -0.02343422, 0.043378998, -0.038551144, -0.02004038, 0.016933344, -0.035324607, 0.01221304, 0.00997239, -0.0062797973, 0.015104974, 0.005804779, 0.028202323, -0.01563078, 0.019574326, -0.016479239, 0.014638918, 0.015893683, 0.00080663426, 0.0068115783, 0.019359222, 0.0346554, -0.051863596, -0.039411552, -0.032528274, 0.007468836, -0.023792723, 0.034320794, 0.014746469, -0.010205417, -0.029230036, 0.017028946, -0.059559483, 0.026816107, -0.04187328, 0.00085219415, -0.041323576, -0.0019852165, -0.053297613, -0.022059953, -0.036185015, 0.0070983814, -0.047609348, -0.0608501, -0.051720195, 0.055209633, 0.016335838, -0.07041021, 0.037571233, 0.008149994, -0.019657975, -0.011812711, -0.015140824, 0.014137013, -0.037762433, 0.022203356, -0.049951576, -0.041443076, 0.013647057, -0.0154873775, 0.0031787364, 0.00068041094, 0.0026081174, 5.2515254e-05, -0.04787225, -0.062331915, -0.03317358, -0.013121251, 0.0012682084, 0.0346315, -0.00304131, 0.012320591, -0.0134678045, -0.010050066, -0.01395776, 0.05042958, 0.0017626452, -0.003952508, -0.024079526, 0.04538662, 0.08059172, 0.02511919, -0.009386833, -0.0042841244, 0.022382608, 0.015905634, 0.0020180794, -0.013694857, 0.003399814, 0.038814045, -0.022788912, -0.030305548, 0.020434735, -0.03408179, -0.02519089, 0.011651384, -0.06295332, 0.0020613987, 0.010211392, -0.0015684555, 0.024784585, -0.0014026474, -0.04000906, -0.016957246, -0.055018432, 0.04866096, 0.05052518, 0.059368283, 0.0032056244, 0.0051624593, 0.017088696, 0.0028381576, -0.046581633, 0.019920878, 0.005831667, -0.040678266, -0.01480622, -0.028130623, 0.038957447, -0.038073137, -0.001385469, -0.0069968053, -1.9197241e-05, -0.019275572, 0.013802408, -0.031763464, 0.0068235286, -0.008066343, -0.032886777, 0.010725249, 0.012452043, -0.009978364, 0.00871165, 0.028560828, -0.024199028, -0.026194701, 0.033508185, 0.040319763, -0.0058734925, -0.002470691, -0.051959198, -0.010653547, -0.028536927, 0.054205824, -0.0152244745, 0.01921582, -0.02086494, 0.047179144, -0.053727817, 0.051767994, -0.012051714, -0.0057958164, 0.0021853813, -0.024545582, -0.029325636, 0.033986192, 0.041299675, -0.020207683, 0.011149478, -0.050620783, 0.017996907, -0.014555267, -0.0783929, -0.01395776, 0.0046725036, 0.012344492, -0.014555267, -0.009679611, 0.0077855145, -0.003104048, 0.094453886, -0.0045500146, -0.0040391465, -0.020984441, -0.010528071, 0.0043588127, -0.018546613, -0.03917255, 0.03401009, -0.018546613, 0.057982065, -0.064769745, 0.020363035, -0.013611207, 0.025931798, 0.0022600698, 0.014411866, -0.030616252, 0.029038833, -0.002764963, 0.0057061906, 0.047370344, -0.00196281, 0.032647774, -0.08326855, -0.0047770673, 0.022275057, 0.022549909, 0.0011173378, 0.003142886, -0.038336042, 0.070123404, -0.0014168381, -0.03300628, 0.024688983, -0.051003184, 0.00012528972, -0.04529102, -0.03049675, -0.047370344, -0.018367361, 0.025836198, -0.013181002, 0.011567733, -0.049234565, -0.007910991, -0.01569053, -0.0070924065, -0.0125117935, -0.0015923558, 0.028011123, -0.027031211, -0.008084268, -0.022275057, -0.041490875, 0.048899963, 0.02868033, 0.033293083, -0.06888059, -0.0046276907, -0.025405992, 0.011006077, -0.010253218, 0.054444827, 0.018713916, 0.041275773, 0.05726506, -0.009823013, 0.014208714, -0.029923145, 0.051433392, -0.057169456, 8.8318986e-05, 0.0024482843, -0.019442873, 0.027437516, -0.0026006487, 0.031787366, -0.029158335, 0.013718758, 0.03130936, 0.0039047073, 0.008120119, 0.020303283, -0.010563921, 0.061184704, 0.021020291, -0.010175542, -0.014567218, 0.043785304, -0.023864424, 0.022681361, -0.04431111, -0.02781992, -0.03747563, 0.021629749, -0.008783351, 0.0051385593, 0.006614401, 0.0017596578, -0.0779627, -0.06677737, -0.016945295, 0.030138247, 0.008819201, -0.035300706, -0.060754497, 0.020124031, -0.058555674, -0.011376531, -0.042972695, 0.030018745, 0.032743376, 0.0026200677, -0.0056942403, 0.02091274, 0.03202637, 0.053632215, 0.014029461, 0.010330894, 0.008783351, -0.03231317, 0.030783555, 0.03580261, -0.02774822, 0.030018745, 0.042183984, 0.02179705, 0.04947357, -0.016049035, 0.020793239, -0.003510353, -0.04201668, -0.022334807, -0.021522198, 0.0019926855, 0.033675488, 0.049282365, -0.032265373, -0.027150711, -0.048230752, -0.02253796, -0.04789615, -0.024019776, 0.043761402, -0.016395587, -0.0066622016, -0.003650767, -0.0698366, 0.018474912, 0.01565468, -0.04435891, 0.006512825, -0.013276602, 0.026840009, 0.08178674, -0.005087771, -0.024856286, 0.047633246, -0.042399086, -0.066299364, -0.041921083, -0.03195467, 0.020984441, -0.04947357, 0.031715665, 0.017088696, -0.026696607, 0.050620783, -0.0034237143, 0.033555984, -0.026553204, -0.021032242, 0.0023780772, 0.063096724, 0.003991346, 0.06897619, 0.013527555, 0.044335008, -0.019741626, -0.024091477, -0.025883997, -0.008980528, 0.01091645, 0.024856286, -0.0086758, 0.0047830422, -0.000593399, -0.0011322756, -0.0059631187, -0.0095660845, -0.03651962, 0.0029158336, 0.013252703, 0.029349538, -0.016957246, -0.005981044, -0.03293458, 0.003573091, -0.029206136, -0.001501236, -0.027222414, -0.019729678, 0.078584105, 0.020482535, -0.01646729, -0.0073493347, -0.011119603, 0.040702168, -0.011956112, 0.04189718, -0.010611722, 0.0061184703, -0.005553826, -0.018104458, -0.0021032242, -0.027150711, -0.010647573, -0.016813843, -0.018008856, -0.00034954151, -0.0010605747, 0.0042900993, -0.009709487, -0.008293395, 0.015941484, -0.04278149, -0.0013675438, 0.015296176, -0.039531056, 0.023685172, 0.016060984, -0.0071581323, 0.02446193, -0.023350568, 0.024414131, -0.023171317, -0.001898578, 0.0046725036, 0.004314, 0.0025125165, -0.009948489, 0.025143089, -0.034535896, -0.022681361, -0.09517089, -0.0050847833, -0.004191511, 0.023350568, 0.017148446, 0.0173516, -0.006010919, -0.03573091, -0.01815226, -0.009386833, -0.016156586, -0.04980817, 0.010534046, 0.0043857004, 0.023004014, 0.034057893, 0.0045828777, -0.009745337, 0.0058794674, 0.023266917, -0.027557017, -0.01478232, 0.017853506, 0.0028187386, -0.042279586, -0.014017511, -0.021450497, -0.019299472, -0.022095803, 0.03924425, 0.008084268, -0.02872813, -0.02688781, 0.02347007, 0.005978056, 0.0048099305, -0.0013018181, -0.039722256, 0.028895432, -0.027987221, -0.030520651, -0.00608262, -0.0348466, -0.02946904, -0.020231582, 0.030807454, -0.05411022, 0.003746368, -0.001917997, 0.016180485, 0.0008686256, 0.0007902028, -0.00071999576, -0.038407743, 0.02351787, -0.015379827, 0.025023587, -0.027604816, 0.004902544, -0.041251875, -0.006166271, -0.032838978, 0.04172988, 0.047155242, -0.001590862, 0.036328416, -0.03221757, -0.030257748, -0.005093746, 0.004042134, 0.0054044495, -0.05506623, 0.014005561, 0.0077257636, 0.010360769, -0.0015139331, -0.034488097, 0.011956112, 0.029206136, -0.008681775, -0.022956213, -0.012583494, -0.011770885, 0.014674769, 0.008628, -0.030186046, -0.0018164208, 0.013169051, -0.013145151, -0.033364784, -0.00065427, 0.036830325, 0.0033221382, -0.0050847833, -0.03917255, 0.01089255, 0.0261469, 0.00038053718, 0.014758419, 0.001995673, -0.028847631, -0.0034804775, -0.007038631, -0.031428862, -0.0057450286, 0.024927987, -0.01738745, -0.002930771, 0.0103069935, 0.0016700317, -0.00912393, 0.006596476, -0.022131654, -0.05759966, 0.01908437, -0.021462446, -1.9967465e-05, 0.0064948997, -0.0050578956, -0.007833315, 0.0038091063, -0.015379827, -0.0075345617, -0.02872813, -0.04256639, 0.046270933, 0.014065311, 0.028441327, -0.008329245, -0.01565468, -0.007958791, 0.02000453, -0.0034147517, -0.046390433, 0.009673636, -0.04259029, -0.007982692, -0.012918099, -0.0010956782, -0.003650767, 0.032958478, 0.02863253, 0.00093285757, -0.034607597, -0.012798597, 0.004517152, -0.0093509825, 0.028560828, -0.0024781597, -0.002277995, -0.054492626, 0.007325434, -0.0019971668, -0.046462134, 0.015140824, -0.053488813, -0.044980317, 0.0055866893, 0.04189718, -0.023326669, -0.0016072935, 0.017841555, -0.023756873, -0.014256514, -0.0028277012, 0.03307798, 0.0093509825, 0.020602036, -0.0017208197, 0.015917582, 0.04794395, -0.018785616, -0.022059953, -5.7323316e-05, 0.030090446, -0.021115893, -0.02005233, -0.010026165, -0.04445451, -0.00023246752, 0.027533116, 0.010193467, -0.023207167, -0.0433551, 0.02084104, 0.016837744, 5.9610647e-05, -0.012195115, 0.019813327, -0.004681466, 0.036925923, -0.010324919, -0.018773666, -0.034559797, 0.01663459, -0.013515606, 0.012798597, -0.0033400634, -0.018797565, -0.02431853, 0.014698669, -0.038742345, -0.0032175744, 0.038575042, 0.017614502, 0.015989283, -0.032743376, -0.019896979, 0.0026768309, -0.0046545784, -0.014017511, -0.0111853285, -0.029349538, -0.0051803845, -0.014865971, 0.0061363955, 0.026863908, 0.027509216, 0.0059571434, 0.017208198, 0.031691764, -0.00029539247, -0.04244689, -0.04956917, 0.008006592, 0.026577106, 0.03049675, -0.027604816, -0.022418458, 0.012619345, -0.016001234, -0.018068608, -0.0041018846, -0.01136458, 0.021032242, -0.018642215, 0.0260513, 0.003387864, -0.046605535, -0.0040451214, -0.021223444, -0.0130973505, 0.0039554955, -0.0017895331, -0.009464509, 0.04249469, 0.031739566, 0.017889356, 0.012810547, 0.014889871, 0.004780055, -0.026624907, -0.009339033, -0.023243017, 0.0101994425, -0.0075345617, -0.018833416, -0.002046461, -0.0010829812, -0.025860097, -0.010253218, 0.007409085, -0.03573091, -0.0217612, 0.016204387, 0.017196247, 0.008837126, 0.015535179, 0.020470586, -0.028106723, -0.08981723, -0.038001437, 0.013623157, -0.05817327, 0.022765012, -0.026863908, 0.002443803, 0.015953433, -0.009846913, 0.025931798, 0.028536927, -0.04851756, -0.012858348, 0.011609558, 0.04431111, -0.063240126, -0.028250124, -0.01089255, 0.016383639, -0.032265373, -0.013527555, 0.0002787743, 0.026457604, -0.02440218, -0.041419175, 0.00020613987, -0.0028217263, -0.0013824815, -0.0093509825, 0.009028329, -0.03381889, 0.004612753, -0.0040510967, 0.017172348, -0.0011920262, 0.0046725036, -0.022370657, 0.027126811, 0.02270526, -0.0022794886, -0.0011927731, -0.027724318, 0.033986192, -0.030998657, 0.010480271, 0.023183266, 0.031548362, -0.043785304, 0.026792208, 0.012015863, 0.002546873, -0.009733387, -0.019873079, 0.0051534967, 0.002770938, -0.03286288, 0.017148446, -0.03140496, 0.010784999, -0.0073612845, 0.020386934, 0.022203356, 0.022490159, 0.018367361, -0.0053476864, -0.005556814, 0.0130615, 0.05492283, -0.005748016, -0.07055361, -0.009805088, 0.032838978, -0.0037314303, -0.004681466, -0.017028946, -0.015045223, 0.012332542, 0.0696454, -0.032599974, -0.0049144938, 0.052963007, -0.017495, -0.012368392, 0.008108168, 0.0030891106, -0.0037732557, 0.005165447, -0.023063766, -0.0074329856, 0.04873266, 0.06328793, -0.012499844, 0.0026335116, -0.013300503, -0.0029755842, 0.00084771286, 0.0026828058, 0.017961057, 0.033723287, -0.005368599, 0.036758624, 0.0436658, -0.034368593, -0.03678252, -0.00010204297, 0.0062021213, 0.019168021, -0.0036208916, 0.017901305, -0.017267948, -0.0052819606, 0.0076182126, 0.007588337, 0.00058854424, 0.009906664, 0.0102293175, 0.04086947, 0.023147415, 0.037690733, 0.0038419692, 0.0071521574, 0.030592352, 0.0015863808, -0.011639434, 0.0009679611, -0.03130936, 0.013635106, 0.019395072, -0.003701555, -0.024306579, 0.012272791, 0.014328214, -0.017542802, -0.0069490047, -0.041443076, 0.032623876, 0.029014934, 0.00821572, -0.057026055, 0.01572638, -0.0025394042, -0.028823731, -0.0027799008, -0.0024273717, 0.014459666, -0.022370657, 0.017518902, -0.023948075, -0.013898009, 0.008920778, 0.04464571, 0.0071581323, -0.013503655, 0.018080559, -0.003656742, -0.008998454, -0.013372203, -0.03126156, 0.0013518593, 0.042255685, -0.005147522, 0.042207886, 0.03728443, 0.005497063, 0.030687952, 0.003432677, -0.053393215, -0.011024002, -0.03678252, 0.036686923, -0.025143089, -0.006470999, 0.031428862, 0.046581633, -0.006901204, -0.02425878, -0.0012667145, 0.0041227974, 0.013993611, 0.02349397, 0.016825793, 0.0015968371, -0.04443061, -0.021223444, 0.017172348, 0.03310188, -0.00093957956, 0.010151641, 0.03319748, 0.0012502831, 0.0045769024, 0.03651962, -0.023721023, 0.043259498, 0.045769025, -0.025405992, -0.0054193875, 0.01390996, -0.04976037, -0.052054796, -0.043092195, 0.036089413, 0.019622125, -0.06018089, -0.036973726, 0.021546097, 0.005742041, -0.020398885, -0.005998969, -0.0031787364, 0.020028431, 0.03558751, 0.005042958, 0.020661788, 0.018797565, -0.0050847833, 0.005290923, 0.016084885, -0.022358706, 0.017662304, -0.008532398, -0.0041407226, 0.006536725, 0.0102771185, -0.0050339955, 0.029110534, 0.02781992, 0.017375499, -0.017805705, -0.0037822186, 0.0069490047, -0.009936539, 0.007217883, 0.023195216, -0.0040839594, -0.017375499, 0.013694857, -0.00821572, -0.015869783, 0.006817553, 0.013408054, 0.0011965075, 0.0034028017, -0.012452043, 0.021426596, -0.0057898415, 0.007140207, 0.045625623, 0.022860613, -0.0016760067, 0.020960541, 0.010342844, 0.004490264, 0.00027690709, 0.013694857, -0.00500412, 0.016240237, 0.03224147, 0.027437516, 0.018439062, -8.7338696e-05, 0.027557017, 0.0015968371, -0.030711852, -0.010408569, 0.0045649526, -0.009040279, -0.019203871, 0.01659874, -0.0025005662, -0.025573295, 0.014830121, 0.005171422, -0.0024467907, -0.014005561, 0.0051923348, 0.012846397, -0.0018373337, 0.017148446, 0.00044588948, 0.0008880446, -0.03726053, 0.0041198097, -0.0122488905, 0.019132169, -0.009207581, -0.038551144, 0.015714431, 0.039531056, -0.008795301, -0.04017636, 0.021809, 0.0013376685, -0.01573833, -0.008388996, 0.01175296, -0.012487894, -0.015308126, 0.005338724, -0.040558767, -0.0077018635, 0.038957447, 0.009237456, -0.0349183, 0.024688983, -0.0032713502, -0.014830121, -0.03910085, -0.0041048722, -0.0056882654, -0.04686844, 0.03209807, 0.0047920053, -0.016072934, -0.005822704, 0.0025707732, 0.018690014, -0.03754733, 0.018929018, -0.024593383, 0.004299062, -0.0016431438, 0.0016341812, 0.013862159, -0.02793942, -0.033627685, 0.02439023, -0.0083650965, 0.0033311008, 0.021139793, 0.013742658, 0.013384154, 0.00064904185, 0.013157101, -0.028919332, 0.010032141, -0.022466257, -0.0061304206, -0.0029815594, -0.024832385, 0.00068489223, 0.004941382, -0.0262186, -0.009781187, 0.024665084, 0.018952917, 0.0051624593, 0.018140309, 0.017064797, 0.00782734, 0.029660242, -0.03843164, -0.01925167, 0.022083854, 0.0011397443, 0.050190575, -0.0262186, -0.03773853, -0.01396971, 0.021211494, -0.018869266, 0.030305548, 0.004803955, -0.03130936, 0.036352318, 0.0033579885, -0.027150711, 0.0102771185, 0.0016461314, 0.030257748, 0.023721023, 0.032767277, -0.026720507, 0.028895432, -0.019813327, 0.02774822, -0.013862159, -0.0028904395, 0.037714634, 0.021271244, 0.005613577, -0.0041676103, -0.039746158, 0.020709587, -0.021641698, 0.03738003, -0.05984629, 0.009703511, -0.040248062, -0.0017880393, 0.023135467, 0.02008818, 0.002573761, 0.014698669, -0.019526524, -0.008998454, -0.013527555, -0.008669824, 0.010133716, -0.011597608, 0.0033818888, 0.021880701, 0.0014900328, -0.019586274, 0.019132169, -0.013240752, -0.003214587, 0.0027350876, 0.0066502513, 0.00015712563, -0.007821365, -0.00059638656, -0.005374574, -0.003181724, -0.02007623, -0.03671082, -0.02000453, -0.014483566, 0.0044872765, 0.033436485, 0.0071939826, -0.033579886, -0.00047688518, 7.674229e-05, 0.0347271, 0.033340883, -0.00091269176, 0.0071342317, 0.011089727, 0.025095288, -0.0052610477, 0.013157101, -0.04077387, 0.018761715, -0.014710619, -0.00522221, 0.002989028, -0.028226225, -0.025836198, 0.02519089, -0.0019314409, 0.022394557, 0.025692794, -0.0025394042, 0.029445138, 0.002297414, -0.037786335, -0.003124961, 0.00522221, -0.041586477, 0.0033012254, -0.022418458, -0.059702884, 0.0030771603, -0.029301737, 0.023936125, -0.047465947, 0.027389714, 0.020410834, 0.043020494, 0.0076421127, -0.04423941, 0.00152663, 0.013300503, 0.0144238155, 0.009613886, -0.007910991, 0.021916552, -0.01396971, -0.010695373, 0.008347171, -0.011591633, 0.01392191, 0.001347378, -0.013623157, -0.021295145, 0.020255482, -0.021438546, -0.0030891106, -0.011484082, -0.012643245, 0.01645534, 0.030687952, -0.022059953, 0.043307297, 0.032671675, 0.009231481, -0.012320591, -0.016981145, -0.01478232, 0.022000203, -0.030855255, 0.005494076, 0.032958478, 0.036113314, -0.020590087, 0.008012567, -0.015511278, 0.0014892858, -0.023780772, 0.01004409, -0.007122282, 0.0012144326, 0.0037702683, 0.013479755, -0.012356442, -0.019610176, -0.04956917, 0.010898525, -0.012368392, -0.007020706, 0.012595445, 0.008090243, 0.010635622, 0.04784835, -0.019849177, 0.015833931, 0.018116409, 0.023099616, -0.0053536617, 0.027557017, -0.010079941, -0.024031727, 0.011137528, -0.0054642004, -0.054970633, 0.015774181, 0.0056165643, 0.0015609867, -0.008771401, 0.008741525, -0.0010314463, 0.012368392, -0.032480475, -0.029779742, -0.0009380858, -0.026696607, 0.006590501, -0.0010411557, -0.002251107, -0.012093539, -0.024688983, 0.012087564, 0.02080519, 7.953143e-06, 0.022980114, 0.007881115, 0.023756873, 0.00696693, 0.0111554535, 0.011860511, -0.009631811, -0.0045530023, 0.022932313, -0.009894714, 0.03843164, 0.0048995563, 0.014483566, -0.011872461, -0.015320076, 0.024497781, -0.020255482, -0.021928502, -0.013408054, 0.026840009, 0.0032354996, 0.019610176, 0.013264652, -0.019777477, -0.027031211, -0.022059953, 0.036352318, -0.005736066, 0.027796019, -0.0051027085, 0.045649525, -0.0073612845, 0.0071999575, -0.008771401, 0.035420205, 0.0088729765, -0.028847631, 0.0023123515, 0.04000906, 0.025525494, -0.0017536826, 0.00084771286, -0.009207581, 0.010551971, 0.0075584617, 0.0045709275, 0.04010466, 0.0015370864, 0.022765012, -0.03393839, 0.0045320895, 0.032121968, 0.017865455, -0.043020494, 0.03236097, -0.015093023, -0.007869165, -0.02875203, -0.028967133, -0.021641698, -0.009482434, -0.0026768309, -0.009518284, 0.020793239, -0.021342944, -0.0044096005, -0.0016282062, 0.0011061346, -0.01570248, -0.017220147, 0.021091992, -0.016299987, 0.019813327, 0.0065427003, -0.048469756, 0.0013100338, -0.0083650965, -0.011991963, -0.012679095, -0.022932313, 0.020542286, 0.01171711, 0.004523127, -0.01395776, -0.029947044, -0.009805088, 0.0015199081, 0.0014975016, -0.009440608, 0.028967133, -0.0014982484, 0.0021659625, -0.014387965, 0.010217368, 0.018570513, -0.02963634, 0.009404758, 0.0036059539, -0.039554954, -0.0039584828, 0.020530336, -0.035061702, 0.0022018128, -0.0006370917, 0.025860097, -0.014746469, -0.031620063, 0.008269495, 0.0009911145, 0.009470484, 0.031118158, -0.022012154, 0.048899963, 0.014089212, 0.013766558, -0.030759653, 0.010163592, -0.025931798, 0.0023945088, -0.0057898415, 0.018917067, 0.0075226114, 0.010235293, 3.972487e-05, 0.023589572, -0.0007013237, -0.0025065413, -0.0016207374, 0.005637477, 0.039722256, -0.00829937, -0.0013324403, 0.031094257, 0.02707901, 0.014973522, 0.031859066, 0.03651962, 0.023948075, -0.0050369827, -0.010988152, -0.011657359, -0.007283609, -0.015845882, 0.038646743, -0.038598944, -0.029014934, -0.026481504, -0.005679303, -0.003265375, 0.0056882654, -0.025405992, -0.022765012, -0.0028471202, 0.012691046, -0.007952817, 0.012428143, 0.00069908303, 0.012607395, -0.024031727, 0.025143089, 0.057982065, -0.0055717514, -0.03931595, -0.015559079, -0.010205417, -0.018642215, -0.012063663, 0.037642933, -0.019203871, -0.012714946, 0.021187594, -0.009834963, -0.029182235, 0.01576223, -0.015367877, -0.013300503, 0.018044706, 0.017662304, 0.040343665, -0.026648806, 0.003432677, -0.004296074, -0.035396308, 0.04524322, -0.009900689, 0.03130936, -0.032838978, 0.0012390799, -0.027126811, -0.011675284, 0.012051714, -0.024187079, 0.04168208, 0.0019882042]"
        ],
        [
         "2",
         "2",
         "∗Equal contribution. Listing order is random. Jakob proposed replacing RNNs with self-attention and started\nthe effort to evaluate this idea. Ashish, with Illia, designed and implemented the first Transformer models and\nhas been crucially involved in every aspect of this work. Noam proposed scaled dot-product attention, multi-head\nattention and the parameter-free position representation and became the other person involved in nearly every\ndetail. Niki designed, implemented, tuned and evaluated countless model variants in our original codebase and\ntensor2tensor. Llion also experimented with novel model variants, was responsible for our initial codebase, and\nefficient inference and visualizations. Lukasz and Aidan spent countless long days designing various parts of and\nimplementing tensor2tensor, replacing our earlier codebase, greatly improving results and massively accelerating\nour research.\n†Work performed while at Google Brain.\n‡Work performed while at Google Research.",
         "./PDFs/attention.pdf",
         "",
         "1",
         "[0.016491178, -0.021936744, -0.0035917556, -0.008309958, 0.01992845, -0.043719005, -0.006926038, 0.03705044, -0.05726211, -0.00950721, 0.044980623, -0.0028000246, -0.015705885, -0.024614468, 0.01453438, -0.011785851, -0.0005559819, -0.03478467, -0.034398463, 0.020443397, -0.04727214, -0.03954793, 0.04212267, -0.002005075, 0.03954793, -0.009429968, -0.017804295, 0.034552947, 0.018061768, -0.08573868, -0.0047278577, -0.007235006, -0.05170068, -0.009487899, -0.008451568, 0.042380143, 0.011972519, -0.006803738, -0.016375316, 0.030639349, 0.036406755, -0.025605742, -0.045856033, 0.052679084, -0.015628643, -0.012590455, -0.011875967, -0.0040294607, -0.0090566315, 0.0729165, 0.008277774, 0.0037044003, -0.019593734, -0.017830042, -0.016401064, 0.009359162, -0.0048050997, 0.01575738, -0.0040455526, -0.007112706, 0.004605558, -0.03988265, 0.02623655, -0.0011529987, -0.011361019, -0.016259452, -0.06333849, -0.021254439, 0.010807451, 0.0002114099, 0.010871819, 0.035170883, 0.011097109, -0.040989786, 0.041092776, 0.0044736024, -0.00054109667, 0.029918423, -0.012629076, -0.002288296, 0.03558284, -0.028038867, 0.016710032, -0.036097787, -0.026030572, -0.04773559, -0.02994417, -0.0903732, -0.053039547, 0.0025988733, 0.009063068, 0.0187312, -0.04552132, 0.01586037, 0.0165298, 0.02426688, 0.040886793, 0.017173484, 0.03911023, 0.061021224, 0.017392335, 0.0098998565, 0.006604196, -0.01852522, -0.0076405266, 0.021769386, 0.0015770253, -0.037771367, 0.003517732, 0.025258152, -0.06457436, -0.022181343, 0.0059025805, 0.01113573, -0.018164758, -0.023867795, -0.041684963, -0.009983536, -0.038260564, -0.029866928, -0.010537104, -0.012616202, 0.010755956, 0.021254439, 0.017945904, -0.022863649, 0.008052484, -0.050336074, -0.017109115, 0.008631799, 0.030407622, -0.014560128, 0.041633468, -0.0027227825, -0.0065591377, 0.012384476, -0.047890075, 0.043358542, -0.05270483, 0.0034437084, 0.012313671, -0.0037044003, -0.025296774, 0.0068552326, -0.010710899, 0.039831154, -0.036200777, 0.014045181, 0.018692577, -0.036998946, -0.044002224, -0.0048501575, -0.026468279, -0.03259615, -0.05582026, -0.05082527, -0.012081945, 0.07600618, 0.01276425, -0.02581172, 0.0680245, 0.004994986, 0.00042523362, 0.0038910685, -0.028553814, 0.023996532, -0.052267123, -0.036200777, -0.055408303, -0.0355056, 0.015512779, -0.054120935, -0.04268911, 0.005654762, 0.03617503, -0.024086649, -0.024498606, -0.026442531, -0.057056133, -0.05038757, -0.021280186, 0.01586037, -0.047143403, -0.006259825, -0.042071175, 0.006996843, -0.010047904, 0.036535494, -0.006214767, -0.0015303582, 0.0076534003, 0.060506277, 0.02917175, 0.044903383, -0.007543974, -0.008734789, 0.014817601, 0.0072221323, -0.0015440366, 0.03537686, 0.04111852, 0.028528066, 0.037076186, -0.0014305873, 0.03813183, -0.0035080768, -0.031463265, 0.0035209504, -0.061227202, -0.040912542, 0.030793833, -0.024511479, -0.00025988734, -0.0024282972, -0.026905984, -0.031952463, -0.062463075, 0.02420251, -0.023842048, 0.028090362, 0.014418517, 0.05103125, -0.01943925, 0.017031873, -0.010807451, 0.059733856, -0.014482886, -0.05025883, -0.0123716025, -0.020713745, 0.022902269, 0.013021723, -0.0016574858, -0.0018715106, 0.011090672, -0.043255553, 0.008258463, -0.050979756, 0.058600973, -0.035273872, 0.0090952525, 0.0010685151, -0.0070869587, 0.009764683, 0.014083802, 0.022116976, 0.0107623935, -0.015924737, 0.0035756635, -0.008052484, 0.011090672, -0.00094219216, -0.025618615, -0.023687564, -0.037642628, 0.03723067, -0.0056354515, 0.023661816, 0.032544654, 0.016323822, -0.032003958, 0.02585034, -0.019529367, -0.008812032, -0.027678404, 0.0066750012, -0.034861915, 0.05592325, 0.03918747, -0.00019793276, -0.021614902, -0.021138577, 0.011599182, 0.021177197, -0.042946585, 0.0247947, 0.03988265, 0.048868474, -0.026416784, 0.00036368135, 0.022915144, 0.043513026, 0.03401225, -0.014418517, -0.011509066, -0.0040713, -0.010035031, 0.023056753, -0.044980623, -0.0070869587, 0.029892676, -0.026802994, 0.07116568, -0.019194651, 0.013955065, 0.008567431, 0.03081958, -0.024601595, 0.026597016, 0.0031846256, 0.010826762, -0.012616202, 0.04289509, 0.010202388, -0.009886983, 0.009462152, -0.023275606, -0.034475703, 0.012751376, 0.03499065, 0.021614902, -0.005078665, -0.044002224, 0.029763939, -0.025000678, -0.051674936, 0.03957368, -0.023584574, 0.019992819, -0.011972519, -0.06951785, -0.08115565, -0.0072478796, 0.026082067, 0.018937178, 0.014650243, -0.020546388, -0.012699882, -0.027472425, -0.021936744, 0.04928043, -0.01982546, 0.041684963, -0.021460418, -0.03638101, -0.02984118, 0.015461285, 0.003849229, 0.030098654, 0.005732004, -0.063853435, -0.028502319, -0.053348515, -0.028038867, -0.01038262, 0.032055452, 0.034372713, 0.0027694495, 0.0030204863, -0.0025168036, -0.021602029, -0.009166057, 0.03547985, -0.04201968, -0.0011280559, -0.0057899356, -0.012107693, -0.03676722, -0.019233271, 0.025361141, -0.039599426, 0.0081940945, 0.0495894, 0.005262115, -0.01264195, 0.07554273, -0.004608776, 0.042457383, 0.011328835, -0.02129306, 0.03478467, 0.050876766, -0.011219408, 0.0053908518, -0.04510936, -0.0020372593, -0.0044575105, 0.019323388, -0.027755646, 0.05757108, -0.004994986, 0.00952652, -0.023970785, -0.002664851, 0.0064818957, 0.00500786, 0.021447545, -0.032930862, -0.013607476, 0.017636936, 0.0026004827, -0.025541373, -0.047040414, 0.040037133, 0.014830475, 0.005345794, 0.024601595, 0.030227391, 0.061690655, 0.032699138, 0.017945904, 0.012983102, -0.0007720183, -0.052524596, -0.0065655746, 0.021087082, 0.011695734, 0.037076186, -0.0021611683, 0.009178931, 0.020482019, -0.027884383, 0.014032307, 0.0048919967, -0.012435971, -0.013736213, -0.013929318, 0.02713771, 0.00928192, 0.08579018, -0.053657483, 0.011850219, -0.030999811, -0.08048622, -0.055408303, 0.019040167, 0.024498606, -0.03831206, 0.019915577, 0.004393142, -0.056438196, 0.01516519, -0.013671844, -0.0225933, -0.017096242, -0.013993686, 0.025682984, 0.08615064, -0.03676722, -0.024923436, 0.03898149, -0.011026303, -0.046911675, 0.0067136222, 0.003894287, 0.014328402, -0.0035627899, -0.01618221, -0.012159187, -0.028914277, -0.008419384, -0.010176641, 0.06447137, 0.008200532, -0.013697592, -0.026700005, 0.048070308, 0.02703472, 0.036612734, -0.02198824, -0.01337575, -0.044002224, -0.019001545, -0.031025559, 0.0033214085, -0.06673714, 0.014701738, -0.011109983, 0.045675803, 0.012262177, -0.0014273688, 0.0016454167, -0.058652468, -0.044851888, -0.023352848, 0.0355056, -0.019593734, -0.0117021715, 0.057210617, -0.045933276, 0.04222566, 0.0014112768, -0.033986505, 0.01618221, 0.021717891, 0.050799526, -0.010067214, 0.004879123, 0.021215819, -0.011193661, 0.039831154, -0.00991273, 0.030356128, -0.014276907, 0.029017266, -0.0055549913, -0.009726062, -0.016349569, -0.05582026, -0.019181777, 0.042277154, -0.0057030385, 0.0062179854, 0.046242245, -0.0041968185, -0.004924181, -0.00030011756, 0.034733176, -0.01199183, 0.02654552, 0.0064947694, -0.021692144, 0.05015584, -0.013440118, 0.009597326, 0.0044639474, -0.024730332, 0.028347835, -0.01050492, 0.0028917494, -0.030484864, -0.002520022, -0.016452558, -0.027601162, 0.012938044, -0.024035154, -0.017521072, -0.07379191, 0.0056676357, -0.0064947694, 0.014984959, -0.019413503, 0.0068616695, -0.0035080768, -0.029918423, -0.0091338735, 0.0052331495, -0.06478034, -0.057828553, -0.017482452, 0.034527197, 0.06009432, 0.022348702, 0.015808875, -0.006539827, 0.002688989, 0.0002954911, -0.0080782315, -0.015525653, 0.027111962, 0.033883516, -0.002511976, 0.024833322, -0.025940457, -0.011818035, -0.02017305, 0.044130962, -0.012339419, -1.353999e-05, -0.010176641, 0.015487032, -0.0020420868, -0.018512346, -0.019709598, -0.015293927, 0.019864082, -0.0060924673, -0.020340407, 0.016156463, -0.034449957, -0.022825027, -0.017598316, 0.025721604, -0.011657113, 0.014032307, -0.02192387, 0.004225784, 0.0045379708, -0.039032985, 0.018113263, -0.04765835, -0.01089113, -0.060145814, 0.021743638, -0.030253138, 0.023623196, -0.039316207, -0.011219408, -0.040088627, 0.0048276284, 0.06107272, -0.0019745, 0.02041765, -0.023211237, -7.648774e-05, -0.04044909, 0.016195085, -0.012429534, -0.025374016, 0.050001357, 0.017044747, -0.00657523, -0.013633223, 0.003981184, 0.0067458064, 0.0055195885, -0.008316395, -0.0025924365, 0.015448411, -0.021177197, 0.016555548, -0.01586037, -0.0011513894, 0.02349446, -0.032055452, 0.00038580797, -0.023893543, 0.0020179488, 0.02742093, 0.011708609, 0.0037977344, -0.035660084, 0.0052395863, 0.017006125, 0.02255468, 0.02202686, -0.005339357, -0.030999811, -0.021511912, 0.007280064, -0.03323983, 0.03481042, 0.059167415, 0.019619482, -0.010215262, 0.0150364535, 0.007505353, -0.015873242, 0.015203811, -0.016207958, -0.019259019, -0.01351736, -0.0076855845, -0.02062363, 0.006501206, 0.0025248497, -0.009951351, 0.032209937, -0.035969052, -0.0021402487, -0.047503866, -0.06972383, 0.04201968, 0.032879367, 0.016890263, 0.014302654, -0.008940768, -0.046525463, 0.029043013, -0.006610633, -0.055974744, -0.0062405146, -0.025412636, 0.009153184, -0.03344581, 0.029609455, -0.009590888, 0.00020698458, 0.046525463, -0.00044937176, -0.061948128, 0.018306367, 0.044388436, -0.03218419, 0.030098654, -0.008483753, -0.015628643, -0.03947069, 0.031849474, 0.011258029, -0.0007977656, 0.01943925, -0.031231537, -0.016117843, 0.012358729, 0.010826762, -0.0160406, 0.00675868, 0.014663117, -0.010852509, -0.016864516, 0.009423531, 0.015564274, -0.018962925, 0.016336694, -0.0056418884, -0.01734084, 0.010002846, -0.011824472, -0.053245526, -0.0388785, 0.013362876, 0.0002773875, 0.020095808, -0.011090672, -0.028528066, 0.0019213961, 0.018113263, 0.032055452, -0.034733176, -0.03975391, -0.0013267932, 0.021280186, 0.0039039422, -0.0133886235, 0.024614468, 0.032827873, 0.034630187, -0.043796245, -0.027446678, -0.0413245, 0.010266757, 0.0025682985, 0.013942191, -0.0045862473, -0.053554494, -0.01050492, 0.011361019, -0.01327276, 0.0072478796, 0.02072662, -0.0075182267, 0.013877823, -0.023700438, 0.01139964, -0.0013066782, -0.038518038, -0.009346289, -0.03880126, -0.022670543, -0.015873242, -0.041556228, 0.009545831, 0.06812749, 0.02801312, 0.005030389, -0.0026294484, 0.0272407, 0.029583707, -0.014547254, -0.017701305, 0.010099399, 0.026571268, 0.0021869156, -0.036406755, 0.0016067957, 0.03246741, -0.030098654, 0.01943925, 0.011998266, -0.010105835, 0.0009824224, 0.0031830163, 0.018357862, 0.013195518, -0.05190666, 0.00056523486, -0.019979944, 0.022425944, 0.001482082, 0.029480718, -0.011727919, 0.048096053, -0.0034823294, 0.03782286, -0.022013986, 0.008786284, -0.016722905, 0.01038262, -0.0016735779, 0.016491178, 0.014341275, -0.013105402, -0.020147303, -0.02994417, -0.032621894, -0.0027903693, -0.02349446, 0.0015738069, -0.035917558, -0.03820907, 0.022245713, -0.0015223122, -0.00291106, 0.017675558, 0.0108203245, -0.018332114, -0.091815054, -0.04189094, -0.012751376, -0.035531346, 0.012043324, -0.00675868, 0.021267314, 0.019452125, 0.016684284, 0.0124874655, 0.024382742, -0.0019036948, 0.009372036, 0.011805161, 0.02888853, -0.038157575, 0.009455715, -0.032982357, -0.0090566315, -0.0037204924, -0.013787707, -0.012210682, 0.034449957, -0.002005075, -0.017675558, -0.023339974, 0.019799713, 0.0049048704, -0.019722471, 0.0056644175, -0.015718758, -0.024614468, 0.008857089, 0.015049327, -0.023159742, 0.012944481, -0.010247447, 0.005307173, 0.012699882, -0.011174351, -0.015281053, -0.035969052, 0.04006288, 0.013247013, 0.019168904, -0.002302779, 0.0014201273, -0.0017476015, 0.03267339, 0.02713771, 0.04114427, 0.0016277154, -0.035866063, 0.0014048399, -0.0052492414, -0.012075508, 0.0028466915, -0.031231537, 0.012081945, 0.0018505909, 0.009198242, 0.0563867, 0.00018435507, 0.0078014475, -0.0036271582, 0.0007430525, -0.00663638, 0.025129415, -0.011837346, -0.024562974, -0.022606175, 0.03694745, -0.030021412, -0.02094547, 0.017624063, -0.027369436, 0.0034276163, 0.016722905, -0.020675125, -0.03712768, 0.04752961, -0.0056579807, 0.0010451815, 0.025399763, -0.001064492, -0.022773532, 0.007988116, -0.028631056, -0.020469144, 0.044285446, 0.036226526, 0.012609766, 0.0073251217, -0.017842915, 0.009307668, -0.01589899, 0.008187658, -0.013839202, 0.027266447, -0.011534814, 0.009558705, 0.057828553, -0.04317831, -0.0165298, -0.02801312, 0.021486165, -0.006958222, -0.011019867, 0.003733366, -0.006848796, -0.005538899, -0.0059347646, 0.00092288165, -0.019477872, 0.0175082, 0.017830042, 0.008058921, -0.018074641, 0.05612923, -0.004708547, -0.027086215, 0.0021370302, -0.00029569224, 0.031180043, -0.014560128, -0.032518905, 0.017778547, 0.0048533757, 0.023378596, -0.013826328, 0.021808008, -0.00054793584, -0.012332981, -0.013073218, -0.006160054, 0.027858635, 0.016233705, 0.016877389, 0.00028945657, 0.0072929375, 0.0037623318, 0.0039522187, -0.0021257657, -0.009468589, -0.02115145, -0.031669244, 0.004644179, 0.0016470259, -0.020147303, 0.0065205167, 0.032879367, 0.022438817, 0.012963791, 0.04395073, -0.025168037, 0.009462152, -0.027601162, -0.004476821, -0.00569982, 0.039264712, 0.0107623935, 0.02426688, 0.025682984, -0.018126136, -0.014869096, -0.023314226, -0.039393447, -0.009764683, -0.029017266, 0.009011573, -0.015306801, -0.035067894, 0.02139605, 0.06359596, -0.012139876, -0.0133886235, 0.007080522, -0.011483319, 0.020585008, 0.024344122, 0.0398569, 0.025888963, -0.03911023, 0.008741226, 0.020572135, 0.013137586, -0.013646097, -0.0061310884, 0.0243055, 0.010131583, -0.0055903937, -0.019529367, -0.017945904, 0.029223245, 0.00013577705, -0.011618492, 0.047993064, 0.005416599, -0.028167604, -0.042277154, 0.001758866, 0.04588178, 0.03336857, -0.03236442, -0.008355016, 0.029918423, -0.003894287, -0.023932165, -0.0026954259, 0.027446678, 0.03172074, 0.009629509, 0.0230825, 0.04044909, -0.023327101, -0.00537476, -0.0043191183, 0.005847867, -0.016195085, 0.004994986, -0.022078354, -0.030072907, -0.012931608, -0.0048565944, 0.0041292314, 0.042946585, -0.011200098, 0.017945904, -0.048585255, 0.0073766164, 0.016748652, 0.0059798225, 0.0049306178, 0.008824905, -0.0030703717, -0.005361886, -0.008058921, -0.014354149, -0.0044221077, 0.020430524, -0.0016542674, 0.03138602, 0.008902147, 0.008393637, 0.0030526705, 0.017521072, 0.03432122, 0.039316207, 0.021692144, 0.016581295, 0.009738936, 0.029248992, 0.03316259, 0.018061768, -0.0080782315, -0.021486165, 0.012770686, 0.008277774, -0.0014619668, -1.2886248e-05, 0.024344122, 0.030613601, 0.006546264, -0.026880236, -0.013942191, 0.0035724451, -0.0116249295, -0.024395617, 0.035351116, -0.017662684, -0.03560859, 0.0012069071, -0.0039007238, 0.0033600295, 0.005532462, -0.0070869587, 0.0067522433, -0.0011352974, -0.006687875, -0.010247447, -0.05571727, -0.031128548, 0.003617503, 0.010659404, -0.0080782315, -0.02888853, -0.022155596, 0.027729899, -0.0012221946, 0.015281053, -0.030896822, 0.013060344, -0.004647397, -0.019799713, -0.0072221323, 0.018538093, -0.0076855845, 0.014972085, 0.022361575, -0.007434548, -0.019413503, 0.004177508, 0.020469144, -0.028631056, 0.03215844, 0.003578882, -0.00014704152, -0.067509554, 0.003273132, 0.010176641, -0.028244846, 0.031231537, -0.019812588, 0.024048027, 0.009565141, -0.002550597, 0.007704895, -0.02017305, 0.010517794, -0.016787274, 0.013697592, -0.0019954199, 0.016336694, 0.034836166, -0.0041292314, -0.0250393, 0.004023024, -0.02139605, 0.011772977, 0.016156463, -0.02703472, -0.002827381, 0.007672711, 0.01838361, -0.041170016, 0.01901442, -0.0060184435, 0.008110416, -0.026159309, -0.024601595, 0.019735346, 0.0045733736, -0.015796, 0.007814322, -0.0018328896, 0.027292194, -0.014843348, 0.001644612, 0.011039177, -0.016491178, 0.052344367, -0.020263165, -0.0012664478, -0.009655257, 0.0066299434, 0.05190666, -0.020005692, -0.011238719, 0.009706751, -0.019696724, -0.031283032, -0.0060184435, -0.0078078844, -0.025554247, 0.046113506, -0.017636936, -0.022490311, 0.0013115058, -0.0007744321, 0.023108248, 0.03313684, 0.0388785, -0.0267515, -0.03995989, -0.00082029455, 0.019233271, 0.000983227, -0.0044639474, -0.0013525406, 0.02563149, 0.0020002474, -0.04073231, -0.029815434, 0.03215844, -0.020984093, 0.025258152, -0.039522186, 0.012854366, -0.04006288, -0.02945497, 0.025374016, -0.01940063, 0.00025164013, 0.0050883205, -0.0107044615, -0.01813901, 0.006958222, -0.02182088, 0.009655257, -0.0036818713, -0.01667141, 0.024562974, 0.019091662, -0.011734356, -0.0006163272, -0.018061768, 0.026905984, 0.045804538, 0.0075311004, 0.029969918, -0.02742093, 0.00488556, -0.026700005, -0.007962368, -0.016207958, -0.033754777, -0.027652657, -0.007820758, 0.0250393, 0.007189948, 0.006687875, -0.010369746, 0.028914277, -0.0059347646, 0.044903383, 0.019606609, 0.012313671, 0.02878554, 0.018988673, 0.029918423, 0.0125453975, 0.04153048, 0.011206535, 0.037616882, -0.02104846, -0.011631366, 0.01891143, -0.019040167, -0.026391037, 0.015487032, -0.002933589, 0.022670543, 0.017366588, 0.013298508, 0.007975242, 0.009989972, 0.008966516, -0.003810608, 0.02518091, -0.023700438, -0.019941324, -0.011251593, -0.016516926, 0.004209692, 0.021795133, 0.025477005, -0.013440118, 0.017997399, 0.008908584, 0.030948317, 0.02436987, -0.0067393696, -0.01813901, 0.032930862, 0.011573435, 0.0067136222, -0.00639178, 0.022104101, -0.045263845, -0.032029707, 0.02518091, -0.028450824, 0.001247942, 0.006398217, 0.027317941, -0.030948317, 0.03148901, -0.022734912, -0.012680571, -0.0032618677, -0.00031580735, 0.010755956, 0.022181343, -0.035351116, 0.041273005, 0.02546413, 0.028553814, -0.010234572, -0.018550968, -0.005889707, 0.0011682861, 0.011708609, -0.0074538584, 0.020005692, 0.034398463, -0.007852943, 0.009391347, -0.010195951, -0.0037912976, -0.0073315585, -0.006230859, -0.01764981, 0.025065048, 0.024073774, 0.0077757, -0.04629374, 0.010929751, -0.037797112, 0.007737079, -0.006176146, 0.023507332, -0.013890697, 0.00042402672, 0.002634276, 0.043590266, -0.0114897555, -0.00051615393, 0.024640216, 0.010833198, 0.0068552326, 0.0061182147, 0.008219842, -0.00964882, 0.0075761583, 0.014135296, -0.031592, 0.0030253138, -0.011618492, -0.0151136955, 0.0035724451, 0.003118648, -0.014663117, 6.522327e-05, 0.002941635, -0.012983102, -0.0025795628, -0.013929318, -0.005722349, 0.00025526085, -0.02752392, -0.03336857, -0.018847061, 0.0041903816, 0.02791013, 0.0007305811, 0.051752176, 0.008065358, 0.022619048, 0.0028080705, 0.016452558, 0.025979077, -0.0049756756, -0.019696724, -0.009809741, -0.007383053, 0.015371169, 0.015255306, 0.0031089927, 0.0014732314, -0.011863093, 0.0015649563, -0.022181343, -0.022837901, -0.00032465803, 0.017559694, 0.004795444, -2.9393217e-05, 0.028116109, -0.015590021, -0.01915603, -0.0007273627, -0.0028756573, -0.0055646463, 0.013607476, 0.009597326, 0.0038299186, -0.011509066, 0.0050883205, -0.017006125, 0.035042144, -0.021833755, -0.022619048, -0.002536114, 0.015680138, -0.005040044, -0.002257721, -0.017933032, -0.016259452, 0.0030639349, 0.0061246515, -0.032621894, -0.0056966017, 0.02021167, 0.03303385, -0.0070097167, 0.017765673, 0.04258612, 0.0125260865, -0.03911023, 0.022013986, -0.026133562, 0.013839202, -0.029403476, -0.03995989, -0.030356128, 0.0035821004, 0.032055452, -0.0041678525, 0.026700005, -0.011270903, -0.027060468, -0.01838361, -0.012159187, -0.012938044, 0.012146314, 0.014881969, -0.01712199, 0.034449957, -0.00069759233, -0.025695857, -0.008239153, -0.015281053, -0.009854799, -0.030999811, 0.017765673, 0.025309647, -0.019593734, 0.0379001, -0.032544654, -0.009030884, 0.002050133, -0.004470384, 0.026442531, -0.005606486, 0.03823482, 0.027086215, -0.011689298, -0.0038073896, 0.014225412, 0.023108248, -0.04135025, 0.017598316, 0.0175082, -0.015924737, -0.03323983, -0.0035595715, -0.012551834, -0.043281298, 0.034192484, 0.03161775, 8.046048e-05, -0.024987806, 0.0073701795, -7.090579e-05, 0.020340407, 0.023713311, -0.02153766, 0.037076186, -0.00388785, -0.00048437205, -0.04212267, 0.018190505, -0.033111095, -0.0023880668, -0.013073218, -0.005168781, 0.04142749, 0.0058575226, -0.0044896947, 0.023417218, 0.020778114, -0.0012801262, -0.024318375, 0.004187163, 0.020263165, 0.009623073, -0.014276907, -0.005725567, 0.047478117, -0.0024250788, 0.032055452, 0.012590455, 0.022245713, -0.009005137, 0.014083802, -0.031283032, -0.0090952525, -0.017379463, 0.040397596, -0.025219532, -0.00977112, 0.003907161, -0.003578882, 0.011103545, 0.009642383, 0.012307234, -0.022013986, 0.0033729032, -0.018087516, -0.022335827, -0.0071320166, 0.046679948, 0.0032071546, -0.02703472, -0.0042740605, 0.055305313, 0.008612489, -0.031077053, -0.032003958, 0.019773966, -0.03390926, 0.008393637, 0.03560859, -0.008644673, -0.020443397, 0.0010966762, 0.01988983, 0.0011497802, -0.0026246207, -0.052318618, -0.010929751, 0.031128548, 0.009552267, 0.0325704, -0.047297888, -0.014650243, 0.0046119946, -0.040294606, 0.053863462, -0.0029158876, 0.031849474, -0.016607042, -0.0320812, -0.023133995, -0.012616202, 0.032029707, -0.0081747845, 0.04433694, -0.020237418]"
        ],
        [
         "3",
         "3",
         "our research.\n†Work performed while at Google Brain.\n‡Work performed while at Google Research.\n31st Conference on Neural Information Processing Systems (NIPS 2017), Long Beach, CA, USA.\narXiv:1706.03762v7  [cs.CL]  2 Aug 2023",
         "./PDFs/attention.pdf",
         "",
         "1",
         "[-0.0035893978, 0.024139408, -0.009138941, 0.007077952, -0.0073300605, -0.048228394, -0.010279733, -0.0004246456, -0.070287906, 0.008804897, 0.0069518974, 0.012170548, -0.02836223, -0.015239971, 0.0003283322, -0.00767671, 0.008029662, -0.04399297, 0.010765041, 0.019248499, -0.009643158, -0.023206607, 0.037690252, -0.024240252, 0.037614617, -0.029421085, 0.03274892, 0.011880622, 0.018353514, -0.027101686, -0.030908527, -0.033631302, -0.033706933, -0.014433223, -0.020962838, 0.047346015, 0.0006349988, -0.010620079, -0.032648075, 0.023231817, 0.011792384, -0.048404872, -0.014950046, 0.050270475, -0.006762816, 0.018605622, -0.025727693, -0.028261386, 0.008855318, 0.07215351, -0.02437891, -0.0014582913, -0.016008902, -0.010317548, -0.048909087, 0.0061955713, 0.015971087, -0.0028330716, 0.027353793, 0.015479474, -0.021467056, -0.02474447, 0.034816213, -0.015340814, -0.039807964, -0.02131579, -0.058085844, -0.0012219393, 0.031437956, 0.011994071, 0.008445642, 0.016916495, -0.00784058, -0.008590604, 0.014181115, -0.013147469, -0.017445922, 0.036959134, 0.017773664, -0.01709297, -0.0010501903, 0.018492173, 0.03158922, -0.056926146, -0.052035235, -0.036908712, -0.022677178, -0.047648545, -0.11465904, 0.021366213, -0.014483645, -0.023761244, -0.03398425, 0.008439339, 0.024719259, 0.0009320144, 0.051682282, -0.0017899718, 0.019639269, 0.028311808, -0.0141180875, -0.01941237, -0.005622024, -0.030505152, 0.015706372, 0.023181396, 0.004723887, -0.008886832, -0.026143672, 0.013260918, -0.045556042, -0.038396154, 0.0017568825, 0.035219587, 0.03234555, -0.02129058, -0.034664948, -0.015454263, 0.009176757, 0.026219305, -0.0042889994, -0.0031671156, -0.0012274543, -0.016424881, -0.0047396435, -0.0112755615, 0.04631237, -0.03474058, -0.027631113, -0.024076382, 0.003126148, -0.025677271, 0.098574504, -0.013588659, -0.023143578, -0.021668743, -0.0108847935, 0.049665414, -0.03448847, -0.036429707, 0.021101499, 0.0023777003, 0.0005900919, 0.022097327, -0.035143953, 0.02755548, -0.023408294, 0.012857544, 0.03890037, 0.034614526, -0.00955492, -0.011496156, -0.0002521087, -0.011420524, -0.05531265, -0.032900184, -0.008426733, 0.08455726, -0.019740112, -0.010683106, 0.04469887, 0.013714713, 0.01737029, -0.022941891, -0.00017539281, 0.028286597, -0.016777834, 0.0017553068, -0.060707774, -0.009807029, -0.0025100573, -0.022210777, -0.03353046, 0.007985543, 0.009643158, -0.006340534, 0.0013787195, 0.0025951439, -0.041925676, -0.027051264, -0.024706652, 0.021605715, -0.049917523, 0.019235894, -0.016752623, -0.012889057, 0.058438797, 0.013891189, -0.031160636, -0.0012061825, 0.03476579, 0.03590028, 0.053951263, 0.031463165, 0.019122446, -0.042656794, 0.021051077, -0.018920759, -0.028740391, -0.014357591, 0.023294844, 0.04439634, -0.0033089267, 0.026143672, 0.063783504, -0.0408164, 0.017597187, -0.013349156, -0.030757261, -0.008760777, 0.03559775, -0.0009320144, 0.03796757, 0.012340721, -0.02664789, -0.0489343, -0.02200909, 0.024315884, 0.003926593, 0.028689971, -0.005061082, -0.004821579, 0.01180499, 0.05707741, 0.022941891, 0.040387813, 0.011508762, -0.042682003, 0.011319681, -0.060304403, 0.10306204, 0.0556656, 0.0023603677, -0.025362136, 0.0050012064, 0.028538706, 0.040236548, -0.024240252, -0.0020515346, -0.061766632, 0.013714713, 0.021214947, 0.015517291, 0.0076830126, 0.0043551777, 0.025576428, -0.01333655, 0.032194283, 0.029093344, 0.0040463447, -0.020193907, -0.0038352036, -0.0023477622, -0.04111893, -0.0054077315, -0.031412743, -0.009151546, 0.041925676, -0.0029386422, 0.017748453, -0.02984967, -0.005795349, 0.0059592193, -0.010651593, 0.004556865, -0.018366119, -0.040135704, 0.07991846, 0.003945501, -0.014143298, -2.31551e-05, -0.011174718, 0.026320148, -0.00969358, -0.07401911, 0.022462886, 0.016324038, 0.041018087, -0.03910206, 0.013260918, 0.01723163, 0.048581347, 0.03622802, -0.015605529, -0.038950793, 0.036354076, -0.03758941, 0.0034381323, -0.06025398, 0.0014173236, 0.015895454, -0.01433238, 0.0108280685, -0.030883316, 0.008105295, 0.022878865, 0.039505433, 0.010695712, 0.023345266, -0.033001028, -0.006914081, 0.008893134, 0.050472163, 0.012510895, -0.041673567, 0.03650534, -0.03819447, 0.02328224, 0.033379193, -0.0051713795, -0.020118274, -0.007859489, -0.026572257, -0.0025919925, -0.043866914, -0.030202622, 0.042127363, -0.004496989, 0.028513495, -0.030908527, -0.0030741505, -0.022689784, -0.0075191422, 0.01535342, -0.0059529166, 0.057228677, -0.0014047181, 0.0030930587, 0.0045694704, -0.04926204, 0.037236456, 0.016576147, 0.053749576, -0.0081179, -0.022021696, -0.042757634, -0.011206232, 0.03234555, 0.020357778, -0.03995923, -0.04686701, -0.0338582, -0.04003486, -0.009762909, 0.011237745, -0.014975257, -0.018076194, -0.024694048, 0.007342666, 0.0048184274, -0.0072103087, -0.030000936, 0.017962744, -0.03590028, 0.0063027176, -0.0004482808, 0.034085095, -0.032320336, -0.0040179826, 0.018908152, -0.056421928, 0.0067313025, -0.0069771083, 0.0646911, 0.008269166, -0.0027637416, -0.04439634, -0.00688887, 0.02247549, -0.030076569, -0.02866476, 0.018088799, 0.0030442125, -0.025248686, -0.024202436, 0.005209196, -0.040740766, 0.031034581, -0.005057931, 0.033631302, -0.020899812, 0.00041991856, -0.046463635, -0.04051387, -0.011130599, -0.006201874, -0.0006062426, 0.0054518506, -0.017244235, -0.03186654, 0.0071914005, -0.021656137, -0.04177441, -0.0045505622, -0.0148996245, 0.005483364, 0.024164619, -0.03821968, 0.03741293, 0.024366306, -0.0010935215, -0.026143672, -0.0036177598, -0.0084330365, 0.0046514054, 0.0357238, 0.007185098, 0.042782847, 0.020256935, 0.0093784435, -0.00528798, -0.048783034, 0.017458528, 0.0009651036, 0.011584395, -0.0034003162, -0.008949859, 0.05480843, -0.02010567, 0.06630459, 0.047976285, 0.01665178, -0.058943015, -0.017723242, -0.020118274, 0.045959417, 0.050623428, -0.054203372, 0.06922905, -0.052942827, -0.02836223, 0.026547046, 0.02521087, -0.019147657, -0.020912416, -0.021164525, 0.015366025, 0.0834984, -0.05904386, 0.010928912, -0.013865978, -0.018240064, -0.057783313, 0.018466963, 0.017017337, 0.034059886, -0.02662268, 0.01215164, -0.026017617, -0.039833173, -0.0042732423, -0.01057596, 0.05324536, 0.006788027, -0.032194283, -0.035471693, 0.060506087, -0.025526006, 0.020206513, 0.016248405, 0.008861621, -0.05455632, -0.020156091, 0.026597468, 0.039606277, 0.0062491447, -0.01720642, 0.028715182, 0.02952193, 0.0064981016, 0.01665178, -0.016109746, -0.039757542, -0.03771546, -0.044219866, 0.0019333586, -0.021769587, -0.00035275522, 0.014534066, -0.009951991, 0.004884606, -0.00029406117, 0.0045915297, 0.036984347, 0.038673475, 0.019967008, 0.02984967, 0.023231817, 0.017181208, -0.009403654, -0.0030473638, 0.012214666, 0.05707741, -0.013903795, 0.016008902, -0.0018277881, -0.005183985, -0.002221708, -0.036606185, 0.0060632145, 0.030580785, -0.03214386, 0.0065926425, -0.009573828, 0.017420711, 0.029471507, -0.0071914005, 0.02924461, 0.0010580687, -0.005035871, 0.040791187, 0.027631113, 0.041648358, -0.013374367, -0.0062333876, 0.029093344, 0.017534161, 0.00955492, 0.0020389291, 0.020609887, 0.0034412837, 0.007033833, -0.043085378, -0.033454824, 0.008269166, -0.032673288, -0.032068226, -0.10860843, -0.033555668, -0.0032301426, 0.010021321, -0.029950514, 0.014609699, -0.004604135, -0.034866635, -0.006964503, 0.008281771, -0.05193439, -0.05042174, -0.011754569, 0.028891657, 0.011634816, -0.0017379744, -0.028311808, -0.0066619725, 0.029143766, 0.018744282, -0.009775515, -0.004991752, 0.046438422, 0.028790813, -0.012031888, 0.043892127, 0.009517103, -0.0024738167, 0.015555107, 0.031387534, -0.027252952, 0.006895173, 0.03214386, 0.02010567, -0.020836784, -0.0023194, 0.0038950795, -0.01695431, -0.0020184454, 0.012523499, -0.028715182, 0.03423636, -0.0024990274, -0.0073489686, 0.0014433223, 0.003258505, -0.010941518, 0.025122631, -0.011250351, -0.04283327, 0.023685612, -0.029118555, 0.008893134, -0.02330745, -0.045883782, -0.04147188, 0.021265369, 0.000107146196, 0.037765883, 0.03683308, -0.018340908, -0.035572536, 0.004260637, 0.037463352, -0.007185098, -0.006554826, -0.03158922, 0.0029039772, -0.02753027, 0.010985637, -0.0047837626, -0.034690157, 0.032900184, -0.011023453, -0.012996203, 0.0020105669, 0.016702201, -0.006510707, 0.0015709524, -0.019488003, -0.00015441659, 0.005650386, -0.022223381, 0.031160636, 0.016853467, 0.029471507, -0.01568116, -0.04495098, -0.031034581, -0.012378537, 0.0050642337, 0.023874694, -0.021366213, 0.0044560214, -0.03474058, 0.0039013822, -0.007525445, -0.0016985824, 0.009756607, -0.012851241, -0.05193439, -0.019500608, -0.0051146555, 0.0015473171, 0.012555013, 0.02609325, -0.01858041, -0.009422563, -0.024404122, 0.0045915297, 0.03010178, 0.008281771, -0.04230384, -0.0078468835, -0.011426827, 0.0023446109, -0.017521555, 0.0076830126, -0.007720829, -0.0043520266, 0.00491612, -0.02084939, -0.007556958, -0.056875724, -0.052892406, 0.01449625, 0.011370103, 0.008785988, -0.018933363, -0.019639269, -0.014697937, 0.026799155, -0.02695042, -0.031715274, 0.022261199, 0.0063342312, -0.010897399, -0.032017805, 0.030328676, 0.035194375, -0.0036524248, 0.038446575, 0.022135144, -0.010720923, 0.025752904, 0.07326279, -0.000987951, 0.013815557, -0.019752717, -0.011533973, 0.0005341553, 0.025236081, 0.007411996, 0.0043835402, 0.023673007, -0.028059699, -0.018177038, 0.01841654, -0.0009989807, 0.0075128395, 0.023584768, -0.008035965, -0.015378631, 0.0066178534, -0.0060978793, -0.005514878, 0.002648717, -0.0066430643, -0.015529896, -0.0026282333, 0.005558997, -0.021656137, -0.08687666, -0.03857263, 0.014206326, 0.007405693, -0.0056157215, 0.0064981016, -0.011376405, 0.019765323, -0.0039801663, 0.016941704, -0.0027936795, -0.008212441, -0.007475023, -0.019979615, 0.016437488, -0.011420524, -0.0068384483, 0.037614617, 0.06690965, 0.012498289, -0.06413645, -0.040614713, 0.0054518506, 0.009189363, -0.016916495, 0.0089057395, -0.038673475, -0.04232905, -0.0010241916, -0.04608547, 0.010071742, 0.0121957585, -0.0023477622, 0.0034791, -0.010935215, 0.037312087, 0.00016938553, -0.041875254, 0.004998055, -0.0021744375, -0.0012030312, -0.01463491, -0.020798968, -0.003100937, 0.03279934, 0.025110027, 0.014571883, -0.01982835, 0.004415054, 0.0033057753, -0.006580037, -0.007739737, 0.008956161, 0.009328022, 0.019349342, 0.0029512474, 0.0052123475, -0.008584301, -0.024555387, 0.046236735, -0.01966448, 0.011842806, 0.01999222, 0.0029796096, 0.028009277, 0.014382801, -0.018567806, 0.008086387, -0.028286597, -0.02200909, 0.027757168, 0.032244705, -0.021996485, 0.012082309, 0.023194, 0.036026333, 0.009851147, -0.0058993436, 0.034891844, 0.025475584, 0.027076475, 0.006031701, -0.0055936617, 0.013992033, -0.032622866, -0.025752904, -0.037816305, -0.004938179, -0.05188397, -0.006939292, -0.046438422, -0.055161383, 0.005981279, -1.256235e-05, -0.0063531394, 0.015592923, 0.020534255, -0.012794517, -0.07462417, -0.011546578, 0.009863753, 0.0048625465, -0.0073048496, -0.023433505, 0.012737792, 0.010109559, 0.0008689872, -0.00964946, 0.05188397, -0.020672914, -0.007897305, 0.034589313, 0.039606277, -0.025223475, 0.013273523, -0.025299108, 0.0030599693, 0.010487722, -0.026723523, 0.006983411, 0.030782472, 0.03857263, -0.046186313, -0.027984066, 0.008779686, 0.012750397, -0.0155677125, 0.00029740948, -0.019488003, -0.053799998, -0.00038367792, 0.041623145, -0.026572257, 0.02131579, -0.033429615, -0.0065296153, -0.00048176397, 0.024177225, 0.0023698218, -0.037816305, 0.03678266, 0.024643626, 0.015870243, -0.0035988516, 0.035118744, -0.024152014, 0.0073930877, 0.0396567, 0.03857263, -0.022488097, 0.023899905, -0.007033833, -0.014307169, -0.008281771, 0.008092689, -0.0036555761, 0.025803326, 0.024454543, 0.021807402, 0.03209344, -0.021139314, 0.0162358, -0.018101405, 0.016034113, 0.025160449, 0.009781818, 0.0015717401, -0.012643252, -0.031816117, 0.021404028, -0.00064602855, 0.021832613, 0.016160168, -0.009718791, 0.018240064, 0.008067478, -0.020786362, -0.022273803, 0.052085657, -0.0022674026, -0.02187043, -0.005795349, -0.01957624, -0.01164112, 0.011218837, -0.024920946, -0.021000655, 0.0022343134, 0.078557074, 0.009151546, 0.0084330365, -0.010916307, 0.019538425, 0.01347521, -0.017685425, 0.017609794, 0.0257403, 0.020811573, 0.028614338, 0.03819447, -0.04106851, 0.027757168, -0.03161443, -0.020395594, 0.0126684625, 0.0040022256, 0.005577905, -0.013815557, 0.020798968, 0.019311527, -0.027933644, -0.029395875, 0.018908152, 0.0030741505, 0.0146475155, 0.0060033384, 0.0107461335, 0.0037280575, -0.018063588, -0.016424881, -0.001150246, 0.024454543, 0.0007425389, -0.023105763, 0.016941704, -0.0027858012, -0.0130592305, -0.017067758, 0.00607582, -0.0056882026, -0.00482473, 0.022374647, 0.00037658738, 0.0018388178, 0.00031296932, 0.03627844, -0.0060380036, 0.042127363, -0.017849296, -0.044194654, 0.00030745444, 0.012403748, -0.009769212, -0.01764761, -0.043665227, 0.019198077, 0.0012447867, 0.014445828, 0.026698312, -0.033253137, -0.020962838, 0.008622117, -0.0050484766, 0.036379285, 0.019916587, -0.005202893, -0.0121957585, 0.040942453, -0.0066808807, 0.017874507, 0.007481326, -0.019677084, 0.0045032916, -0.027429426, -0.03912727, -0.030933738, -0.035749014, 0.021404028, -0.025009183, -0.020345172, 0.037438143, 0.050093997, 0.021933457, 0.018378725, 0.008206138, -0.0060285493, 0.016878678, 0.019046813, 0.032597654, -0.011861715, -0.040639922, 0.009075914, 0.031740487, 0.005587359, -0.012901663, 0.012309208, 0.00045773486, 0.039555855, -0.019374553, 0.020660307, -0.01129447, 0.06302717, -0.014811386, -0.008861621, 0.017458528, 0.01521476, -0.028563917, -0.030757261, 0.017105576, 0.031437956, -0.042152576, -0.010790252, 0.010840674, 0.0016056173, 0.013109652, -0.020055247, -0.023219211, -0.011130599, 0.0014858657, 0.054253794, 0.005483364, 0.04053908, 0.0023162486, 0.017408106, 0.0012321813, 0.008968767, 0.005883587, -0.025841141, 0.024504965, -0.015504685, -0.04227863, 0.016424881, -0.0046955245, 0.018567806, -0.012851241, -0.0016639174, -0.022929287, 0.005726019, 0.027000843, 0.017798875, 0.009718791, 0.0040022256, 0.027101686, -0.0027259253, 0.0041408855, -0.019702295, 0.0018010015, 0.020647703, 0.01013477, 0.037513774, 0.014849203, -0.019008996, 0.0031765697, -0.01108648, 0.0076388936, 0.024996579, 0.0009981929, -0.011584395, 0.009523407, 0.03012699, 0.047724176, 0.040917244, -0.02026954, -0.018164432, -0.0007464781, 0.027883222, -0.0023556408, 0.021051077, 0.035875067, 0.027580692, 0.0014953198, -0.05385042, 0.046110682, 0.008168322, 0.003740663, -0.00784058, 0.0064791935, 0.0065422207, -0.016664386, -0.00510205, -0.0047207354, -0.0045726215, -0.0015614983, -0.03383299, 0.010008715, 0.021076288, 0.003838355, -0.016298827, -0.045606464, -0.03249681, 0.011288167, 0.03597591, -0.004109372, -0.041018087, -0.039354168, -0.0034160728, 0.030152202, 0.0005400641, -0.023862088, 0.006107333, -0.009170454, -0.00085716957, -0.03332877, -0.0067313025, -0.024139408, 0.002825193, 0.016601358, 0.021404028, 0.0038194468, 0.008010754, -0.0031781453, 0.008691448, 0.054657165, 0.014420617, -0.01013477, -0.07417038, -0.021580504, -0.0060947277, -0.0049287253, -0.0021917701, 0.032824554, 0.024429332, 0.021164525, -0.001818334, 0.012599132, -0.04578294, -0.021832613, -0.02245028, 0.008035965, 0.019815745, 0.01750895, 0.04376607, 0.009870056, -0.010481419, 0.027126897, 0.008073782, -0.006693486, -0.0050925957, -0.012491986, -0.010033926, -0.013790346, -0.0073111523, -0.01966448, 0.025601638, -0.016903888, 0.011899531, -0.028337019, 0.020042641, 0.030379098, 0.005313191, 0.011836504, 0.019513214, -0.026294937, 0.037538987, 0.0178619, -0.00619242, 0.024315884, -0.01894597, 0.06786766, -0.0051871366, -0.0034791, -0.0154290525, -0.009063308, 0.06549784, -0.011798687, -0.015302998, 0.004960239, -0.0046388, -0.009012886, 0.021429239, -0.006315323, 0.0087103555, 0.027908433, -0.00978812, -0.006129393, 0.0014433223, -0.020698125, 0.002908704, 0.011149507, 0.04106851, 0.0072166114, -0.043236643, 0.056674037, 0.019979615, 0.001277876, 0.02344611, 0.029647984, 0.043085378, -0.0071094655, -0.025752904, -0.032068226, 0.025046999, -0.0116096055, 0.024278069, -0.032068226, 0.031387534, 0.0018986936, -0.011489854, 0.019765323, 0.005817408, 0.03683308, -0.009466682, -0.002718047, -0.032269914, 0.014382801, 0.015945876, -0.010979334, -0.010947821, 0.0032159616, -0.009863753, 0.02984967, -0.012523499, -0.026471414, 0.016286222, 0.012693673, 0.04207694, 0.032017805, 0.025362136, -0.024706652, 0.0028346472, -0.025967196, -0.007947727, -0.0041251285, -0.031664852, -0.03627844, -0.0017631853, 0.025362136, -0.01273149, -0.011237745, 0.013248312, 0.024063775, -0.024391517, -0.0032175374, 0.030832894, 0.02474447, 0.018265275, 0.001656039, 0.027933644, -0.026294937, 0.0029811854, 0.032622866, -0.023067946, -0.0076830126, -0.019008996, 0.0068825674, -0.015920665, -0.037841517, 0.014206326, -0.037513774, 0.008716659, -0.0020184454, 0.03542127, -0.0067502107, 0.0041692476, -0.0371104, -0.027404215, 0.030933738, -0.0072166114, -0.034992687, -0.012996203, -0.02521087, 0.0015520442, 0.017521555, -0.0012439989, -0.05853964, -0.02493355, -0.017622398, 0.022273803, 0.016223194, 0.03912727, 0.028185753, 0.011029756, 0.009409958, 0.020584676, -0.01505089, 0.004172399, -0.033404402, -0.032043017, -0.002579387, -0.019223288, -0.008912043, -0.030681629, 0.0052407095, -0.014218931, 0.036026333, -0.034362417, 0.024152014, -0.020433411, -0.0051871366, 0.014433223, -0.0071914005, 0.032320336, 0.032874975, 0.016336644, 0.007601077, -0.033454824, -0.019374553, -0.017546766, -0.0046514054, 0.038749106, -0.009220876, 0.020231724, 0.032925397, -0.0054676076, 0.007916213, -0.034513682, 0.002919734, 0.0059056464, -0.01331134, -0.017445922, -0.044824928, 0.03597591, 0.02984967, -0.004103069, 0.008174624, -0.040236548, 0.0025462979, -0.019097235, -0.0313119, -0.03685829, -0.0064539826, 0.002811012, 0.05848922, -0.023320055, 0.0039013822, -0.017282052, -0.006844751, -0.014206326, 0.020118274, 0.018706465, 0.00948559, 0.0045032916, 0.011181021, -0.036933925, -0.011105388, -0.007720829, -0.006699789, 0.025551217, -0.010191495, -0.018895548, 0.02344611, -0.014004638, -0.03209344, 0.0060443063, 0.009088519, 0.010620079, 0.016853467, -0.038446575, -0.017735846, -0.0021255915, 0.0011297622, 0.025135238, 0.020244328, 0.045303933, 0.019538425, 0.06574995, 0.0066808807, 0.008439339, 0.023521742, -0.0011660027, -0.023899905, 0.00076853763, 0.012410051, 0.020067852, 0.037438143, 0.006368896, -0.05193439, -0.017143391, -0.012907965, -0.014962652, 0.027404215, 0.01521476, -0.018782098, 0.00090601563, -0.012290299, 0.02405117, -0.029143766, -0.0018923909, 0.023332661, -0.036404498, -0.0078847, 0.015063495, -0.018063588, 0.025273897, 0.025727693, 0.008458247, -0.0077145263, 0.0070590437, -0.021240158, -0.039858386, -0.0022374648, -0.01748374, 0.01869386, -0.0475477, -0.020433411, 0.023042735, -0.0033624999, 0.011105388, -0.0065674316, -7.637121e-05, 0.003444435, 0.01621059, -0.014559277, 0.04026176, 0.003444435, 0.005351007, -0.026547046, 0.002859858, -0.043236643, 0.02490834, -0.028816024, -0.0039990745, 0.018933363, 0.0014346561, 0.046715744, 0.012220969, 0.034917057, -0.0037343602, -0.008691448, 0.0006806935, 0.025992407, -0.0010738255, 0.014836597, 0.011319681, 0.0028582823, 0.02360998, -0.01607193, 0.017962744, 0.0013180558, 0.026496625, -0.032522023, -0.017155997, 0.013840768, 0.010141073, 0.00244703, 0.024983972, 0.013790346, -0.050245263, 0.016903888, -0.024958761, 0.004014831, -0.020483833, 0.027051264, 0.0092397835, -0.010185191, -0.0010052834, 0.03416073, 0.0150382845, -0.014017244, 0.010279733, -0.0001307814, -0.03191696, -0.008168322, -0.021378817, -0.0033089267, -0.037740674, 0.011042361, 0.036076754, -0.014987863, 0.0019112991, 0.016601358, 0.0026502928, 0.014281958, 0.06701049, 6.9625334e-05, 0.022815838, 0.010966728, -0.0064004096, -0.034564104, 0.031160636, 0.01282603, 0.012718884, 0.025311714, 0.013147469, 0.013046625, 0.03648013, -0.0018325151, 0.005710262, 0.0068006325, -0.013210496, 0.014534066, 0.02347132, 0.010336457, -0.018151827, -0.013399578, 0.014130693, 0.03398425, -0.0008374736, 0.011571789, -0.017962744, 0.008136808, 0.026042828, -0.009057005, -0.01108648, 0.0047396435, -0.004276394, 0.03416073, -0.022639362, 0.01177978, -0.008294377, -0.01449625, 0.004181853, 0.03070684, 0.03279934, -0.020773757, 0.023824273, -0.008332193, -0.01579461, 0.01361387, 0.01748374, 0.010670501, 0.020773757, -0.017294656, 0.03882474, -0.0028677364, -0.0018955423, -0.0102986405, 0.015529896, -0.04169878, 0.008641026, 0.0092397835, -0.015340814, 0.0044024484, 0.014092877, -0.005420337, 0.012214666, 0.00095801306, -0.016613964, -0.021656137, -0.008199835, 0.0078468835, 0.011773476, -0.024315884, -0.034664948, 0.014546672, -0.0016970068, 0.050093997, -0.0077334344, 0.027858011, -0.004134583, 0.0068825674, -0.0117482655, -0.009075914, 0.05004358, 0.012536105, -0.0026124765, -0.027404215]"
        ],
        [
         "4",
         "4",
         "1 Introduction\nRecurrent neural networks, long short-term memory [13] and gated recurrent [7] neural networks\nin particular, have been firmly established as state of the art approaches in sequence modeling and\ntransduction problems such as language modeling and machine translation [ 35, 2, 5]. Numerous\nefforts have since continued to push the boundaries of recurrent language models and encoder-decoder\narchitectures [38, 24, 15].\nRecurrent models typically factor computation along the symbol positions of the input and output\nsequences. Aligning the positions to steps in computation time, they generate a sequence of hidden\nstates ht, as a function of the previous hidden state ht−1 and the input for position t. This inherently\nsequential nature precludes parallelization within training examples, which becomes critical at longer\nsequence lengths, as memory constraints limit batching across examples. Recent work has achieved",
         "./PDFs/attention.pdf",
         "",
         "2",
         "[-0.014979424, -0.00016362563, 0.019091422, -0.019125313, -0.007286371, 0.01020092, 0.006122811, 0.027835067, -0.0513322, 0.056076817, 0.01728395, -0.04685871, -0.020029048, 0.021520212, -0.016696522, -0.06656016, 0.031721134, 0.016402807, 0.027563946, 0.034138627, 0.008297426, -0.03967401, -0.037098363, 0.014742193, 0.029258452, 0.00013688422, 0.008766239, 0.05657387, 0.024671992, -0.03614944, 0.0042390865, -0.03237634, -0.044283062, -0.0006361454, -0.0086363265, 0.038928427, 0.014629226, 0.009607843, -0.014414589, 0.07523602, 0.031856693, -0.04053256, -0.017803598, 0.030229969, -0.018458808, 0.048620995, -0.06547567, -0.013872347, -0.012087469, 0.05689018, -0.04035181, 0.00031771968, -0.041458886, -0.034025658, -0.0019331477, -0.020989267, 0.03596869, -0.013205842, 0.017024126, -0.0297781, 0.03169854, -0.045028646, -0.029868474, -0.008240942, -0.02652465, 0.013284919, -0.02824175, 0.025169047, -0.029868474, 0.012403776, -0.021260388, -0.03328008, 0.013522149, -0.0097998865, -0.004168482, -0.008365206, -0.014312918, 0.0427919, 0.027044298, 0.01944162, 0.028128782, -0.026569838, 0.030320343, -0.049615104, -0.02040184, -0.004614702, 0.0024090211, -0.014979424, -0.018537885, -0.008020657, -0.012652304, 0.048575807, -0.0427919, 0.036849834, 0.036307592, 0.0075518438, 0.008122327, -0.0066311625, 0.021136126, 0.019452916, 0.005411119, -0.025033487, 0.020627774, -0.049886227, -0.010590656, -0.02080852, -0.008630678, -0.00039150123, -0.04979585, -0.015725005, -0.0017086258, -0.014019204, -0.014572742, -0.009850722, 0.022390058, -0.028264342, 0.003439845, -0.0029484385, 0.021712257, 0.038386185, 0.01061325, 0.0110820625, 0.0032195593, -0.06841281, -0.008370854, -0.0029089001, 0.03384491, -0.0027507464, 0.014312918, 0.018571774, 0.01101993, -0.016673928, -0.020616477, -0.012708787, -0.069045424, -0.037911724, -0.0530493, -0.01971274, -0.030952957, 0.011771161, 0.03576535, -0.0008797305, -0.05960139, 0.033528604, 0.009573953, 0.032873396, -0.01399661, 0.024649398, -0.023881223, 0.04432825, -0.025214234, 0.0018766642, -0.018594367, 0.009958041, -0.038205437, -0.07297668, -0.052326314, 0.06529492, 0.011172436, -0.037572823, 0.008094085, 0.02173485, 0.04407972, 0.044441216, -0.007947228, 0.039176956, -0.08409263, 0.018198984, -0.024152344, -0.032941177, 0.008240942, -0.024830146, -0.03922214, 0.0006396756, 0.0018992577, 0.012889534, -0.069768414, -0.03495199, -0.025078673, -0.02050351, -0.011782458, 0.020944081, -0.0708529, 0.014776083, -0.017634148, -0.014053094, -0.023881223, 0.022751553, -0.00092562335, -0.020424433, -0.023700476, 0.028196562, 0.043695632, 0.03208263, 0.007212943, -0.023677882, 0.057974663, -0.007800371, -0.006026789, -0.06475268, 0.022435246, -0.009545711, -0.07275075, -0.041436296, 0.035991285, -0.04035181, 0.02412975, 0.051738884, -0.04455418, -0.019023642, -0.0014304445, -0.021260388, 0.011714677, -0.012437666, -0.018537885, -0.0022847576, -0.038069878, -0.0253272, 0.050292905, 0.0010844831, -0.0026843783, -0.004538449, -0.008890502, 0.031766318, -0.03350601, 0.016741708, 0.03316711, -0.015894456, 0.020300169, -0.0055438555, 0.043379325, -0.026886145, 0.011827645, -0.05151295, 0.0195094, 0.0122343255, 0.0039990316, -0.03337045, 0.0013690188, -0.028964737, -0.009122085, 0.016560962, 0.014301621, 0.013612523, 0.018255467, 0.046180908, -0.032195594, -0.01961107, 0.03515533, 0.028106188, -0.009963689, -0.0109408535, -0.0068909866, 0.025236826, -0.0073428545, 0.010771403, 0.001179093, 0.015713708, -0.02957476, -0.008235294, -0.0084951185, 0.0019486807, 0.04419269, 0.017961752, 0.0041430644, -0.03382232, -0.02365529, 0.0219043, 0.04134592, -0.047220204, 0.012245622, -0.07726943, -0.0027225045, 0.008263536, -0.04292746, -0.026840959, 0.030681835, -0.028964737, -0.0030614056, 0.03090777, -0.03289599, 0.009573953, 0.081381425, 0.0010851892, -0.03515533, 0.022582103, -0.020447027, -0.0037533285, -0.021508915, -0.03734689, 0.01793916, -0.046316467, -0.012482853, -0.05910433, 0.0058178003, 0.007037844, 0.0033438231, 0.05151295, 0.0153974015, -0.048349876, -0.0043407567, -0.02485274, -0.012290809, 0.014504963, -0.059872508, 0.03409344, -0.058607277, -0.005264262, 0.035132736, 0.023926409, -0.012957314, 0.0011508513, 0.018921971, 0.005315097, -0.023226015, 0.007941579, 0.041910756, -0.08242072, 0.03192447, -0.03104333, -0.0006075506, -0.052416686, 0.03404825, -0.0018201807, -0.0049140644, 0.050202534, -0.012607117, 0.015510368, 0.0023652464, -0.008133624, 0.004888647, 0.026366496, -0.0014431534, 0.011872832, -0.0012729969, 0.0067893164, -0.0458646, 0.05042847, 0.029168079, 0.024446057, -0.06859356, -0.02492052, -0.0066876463, 0.021452432, -0.012607117, 0.0462035, -0.030117001, 0.019983862, 0.029100299, 0.0035895263, -0.007246833, -0.031947065, 0.04432825, -0.045932382, 0.007636569, -0.010104897, 0.013160655, 0.023361575, 0.024220124, 0.006518196, -0.051151454, 0.035900913, -0.0016097797, 0.03111111, -0.01478738, -0.00941015, -0.035471637, 0.021949487, -0.022751553, -0.006360042, -0.0060493825, -0.0023454772, -0.025146453, 0.058381345, -0.043560073, -0.0048942952, 0.0028213507, -0.0458646, 0.0026420157, 0.06362301, -0.0025431695, -0.0010590656, 0.0043887678, -0.046903897, 0.0036064715, 0.017012829, -0.030614056, -0.04412491, -0.037708383, 0.012584523, 8.953517e-05, 0.010008876, -0.0028524166, 0.057884287, 0.034726053, -0.008732349, -0.0007766481, 0.005942064, 0.03468087, 0.024039377, 0.021362059, -0.015758896, -0.021915598, -0.029190673, 0.024604212, 0.006970064, 0.03840878, 0.054585654, 0.03337045, -0.021045752, 0.01704672, 0.008178811, -0.00042856854, 0.012844347, 0.008201404, -0.016176874, -0.023316387, -0.0015575325, 0.04984104, 0.02187041, 0.039922535, -0.038431372, -0.08824982, -0.02492052, -0.007885097, -0.019034939, 0.0031913177, -0.0073202616, -0.024400871, -0.029394012, -0.028964737, 0.002099774, 0.013262325, -0.041323327, 0.025440168, 0.031608164, 0.03899621, 0.054269344, -0.013183248, -0.030388122, 0.05350117, -0.011336238, -0.06863875, -0.010737513, 0.006574679, 0.0201985, -0.06380376, -0.017577665, -0.015227951, -0.025485354, 0.024265312, -0.007969822, 0.036036473, 0.009314129, -0.005665295, -0.01567982, 0.07365448, 0.0042390865, 0.0448479, -0.017588962, 0.02300008, -0.013838457, -0.0075179534, -0.019735334, 0.0256661, -0.00800936, 0.0017298071, -0.018978456, 0.033076737, -0.009997579, 0.01731784, 0.010308239, 0.032489307, -0.04080368, -0.00455257, 0.013985314, 0.049750663, -0.011997095, -0.009026063, -0.0142564345, -0.015623336, -0.0058347452, 0.011409666, 0.0016267247, -0.020819817, 0.060595497, 0.010511579, -0.035991285, 0.0028467684, 0.0029597352, 0.018198984, -0.010635843, -0.02283063, -0.008788832, 0.018571774, -0.0047869766, -0.010935205, -0.037956912, 0.005261438, -0.0037843944, 0.0035076253, 0.0015956588, -0.011014282, 0.0028976034, -0.013183248, 0.016753005, -0.010681029, 0.040509965, -0.0005962539, 0.033664163, 0.032579683, -0.01133059, -0.0017453401, 0.009782942, 0.04206891, 0.015453885, -0.05363673, 0.016786896, -0.01595094, 0.011070766, 0.047943193, 0.004908416, -0.0025742354, 0.0004956427, 0.008416041, -0.019882191, 0.01714839, -0.078986526, 0.028467683, -0.018684741, 0.032534495, 0.02080852, -0.005778262, 0.019622367, -0.013047688, -0.010342129, -0.025733883, 0.0034483175, -0.055941258, -0.036804646, -0.026005002, 0.030162187, 0.028535463, 0.010743162, -0.037256517, 0.0033014605, -0.0005690713, -0.035471637, -0.009816832, 0.025846848, -0.004360526, -0.010737513, -0.010240458, -0.056212377, -0.029665133, -0.0040724603, 0.014945533, 0.0067723715, -0.016628742, -0.008235294, 0.0013859639, -0.023033971, -0.00032530964, -0.0026999111, -0.014222545, 0.014877753, -0.0033438231, -0.056980554, -0.0013880819, -0.051061083, -0.016289841, -0.048033565, 0.058562092, -0.02751876, -0.032240782, -0.0012659364, -0.016041314, 0.03056887, 0.017555071, 0.015205357, -0.006088921, -0.027066892, 0.0010075244, -0.042814493, -0.032534495, 0.002180263, -0.048937302, 0.013251029, -0.013601227, 0.038047284, 0.059375454, -0.017668039, 0.013985314, -0.008399096, -0.060640685, -0.00876059, -0.005332042, -0.013465666, -0.03477124, 0.051467765, 0.0053687566, 0.0032901638, -0.022649882, -0.021576697, 0.014312918, 0.00026600197, -0.027699508, 0.0020404663, -0.019249575, -0.018198984, 0.021203905, 0.01708061, 0.018549182, -0.027270233, -0.024468651, 0.008037602, -0.018458808, -0.0153974015, 0.043582667, 0.010568063, 0.04351489, 0.0017622851, 0.04839506, -0.032624867, 0.016594851, -0.00026053013, -0.025779068, -0.027089486, -0.022570806, -0.044305656, 0.013036392, -0.013872347, 0.017950457, -0.03813766, -0.02266118, 0.012008391, -0.0002698852, -0.0002614127, 0.006535141, -0.053862665, -0.031721134, -0.026366496, -0.028851772, -0.0029795044, 0.010014524, 0.00058389816, -0.027021706, -0.0026194223, -0.0097998865, -0.0067554265, -0.041955944, -0.050880335, 0.044915676, -0.0014572742, 0.0068457997, -0.0151262805, 0.013273622, -0.008540305, 0.020379245, -0.017024126, -0.02632131, -0.008517711, -0.025417574, 0.024084564, -0.022683773, 0.009122085, 0.016335027, 0.022672476, 0.019001048, -0.031675946, -0.03350601, 0.013138061, 0.040238842, -0.0059703058, -0.0142564345, -0.015634632, -0.004806746, -0.03196966, -0.0074671186, -0.007822964, -0.028467683, 0.041842975, -0.038453966, -0.006574679, 0.0131041715, 0.02745098, 0.0041769547, -0.031856693, 0.021599289, -0.013307512, 0.00910514, -0.020898893, -0.010449447, -0.0022014442, 0.020108126, -0.003905834, -0.0021689662, 0.053591542, -0.022853224, -0.034726053, -0.014188655, 0.038770273, -0.046022754, -0.019678852, 0.03501977, -0.03750504, -0.0338901, 0.032014847, 0.018809006, -0.012799161, -0.009573953, 0.0033155812, 0.026886145, 0.012652304, -0.015476478, -0.022344872, 0.01061325, 0.029823286, 0.0010922496, -0.012245622, -0.055444203, 0.019690147, 0.0033974824, -0.008963931, -0.013578633, -0.018018236, -0.034116033, 0.0015038732, -0.036172032, 0.012866941, 0.018255467, 0.017860083, 0.02197208, -0.006958767, -0.028173968, 0.013341403, -0.04672315, -0.024107156, 0.0013647826, -0.019023642, -0.024242718, -0.02187041, -0.0626289, 0.049163237, 0.03337045, 0.015612039, 0.05291374, 0.047039457, 0.030139595, -0.05164851, -0.06841281, 0.0061623496, -0.000919975, 0.0070943274, -0.011313644, -0.0065012504, 0.02210764, -0.009133382, -0.03316711, -0.013770677, -0.008574195, 0.0115282815, -0.0072750747, -0.0055240863, 0.017374324, -0.02686355, 0.008766239, 0.012347293, -0.039719194, 0.03960623, 0.0014939886, -0.021599289, -0.00071804645, -0.0018484225, 0.018221576, 0.01040426, 0.031178892, 0.045503106, -0.013115468, 0.045164205, -0.0012136892, -0.0049790205, 0.022367464, 0.0044028885, -0.02286452, -0.0020602355, -0.029755507, -0.0019670378, -0.0069022835, -0.04466715, -0.0069474704, 0.024242718, 0.018357137, 0.020887598, -0.0039030097, -0.006766723, -0.0067554265, -0.093536675, -0.005326394, 0.029665133, -0.0047926246, 0.01817639, -0.017204873, -0.03063665, -0.020706851, 0.024378277, -0.03504236, -0.009658678, 0.0021110708, 0.004250383, -0.001663439, 0.036646493, -0.01721617, -0.012415073, -0.023971597, 0.008856612, -0.027496167, -0.0029343178, 0.0023129992, 0.041752603, 0.00011287874, -0.012731381, -3.7993977e-05, -0.003134834, -0.02765432, -0.032060035, 0.05490196, -0.03090777, -0.026818365, -0.024016783, 0.050066974, -0.0060493825, -0.0032647462, 0.00811103, -0.021350762, -0.001598483, -0.0033155812, -0.010008876, -0.029597353, 0.043085612, -0.041910756, 0.019927379, -0.01800694, 0.008771887, -0.018221576, -0.0086363265, 0.021113532, -0.010127491, 0.010449447, -0.0102348095, -0.010477689, -0.0028199386, 0.021136126, -0.012166546, 0.0013718429, 0.04911805, -0.0032365045, 0.0021223675, 0.03761801, -0.00022099169, 0.03208263, -0.01375938, -0.03987735, 0.05078996, 0.059239894, -0.025553135, -0.048078753, 0.007348503, 0.017250061, -0.0677802, 0.0002522341, 0.026795771, 0.020989267, -0.004705075, 0.05051884, -0.014030501, 0.009833777, 0.03298636, 0.013770677, -0.06488824, 0.0033494714, 0.008438635, 0.0030811748, -0.0014502138, 0.01382716, -0.0044791414, 0.04299524, 0.028738804, -0.014685709, -0.012584523, 0.010426854, 0.011211975, -0.03434197, 0.005538207, -0.02652465, 0.015340918, 0.0076478655, 0.056935366, 0.038182843, -0.045254577, -0.016730413, 0.026818365, -0.02197208, 0.020718148, 0.022367464, -0.0005556564, -0.0077777775, 0.003648834, -0.0019091422, 0.0074219317, -0.00859114, -0.008862261, 0.018673444, 0.05508271, 0.011624304, 0.009607843, -0.007071734, -0.017464697, -0.009845073, -0.008472525, 0.021746147, -0.021147422, -0.040848866, 0.004422658, 0.031224078, -0.014934237, -0.039719194, 0.008003712, -0.00135631, -0.009285887, 0.0225934, -0.03196966, 0.05390785, 0.0053038006, 0.036872428, -0.026592432, 0.020898893, 0.0027013232, -0.023745663, -0.005896877, 0.0012320463, 0.0119406115, -0.022706367, -0.0077890744, -0.005267086, -0.0061115143, -0.0074388767, 0.027089486, -0.006924877, 0.0017481643, 0.0077890744, 0.0014685709, -0.011449205, 0.0052247234, -0.030952957, 0.019193092, 0.051422577, 0.0142564345, 0.01567982, -0.013431775, 0.008303074, 0.021000564, -0.017566368, -0.03196966, 0.0075800857, -0.042136688, 0.00083948596, -0.012076172, -0.0136690065, 0.010568063, 0.054088596, 0.010054063, 0.009438393, 0.0147196, 0.0077608326, 0.0064334706, 0.010652788, 0.029100299, 0.030410714, -0.016097797, -0.0107827, 0.026343903, -0.0017114499, -0.011036876, -0.026095375, 0.017645445, 0.03264746, 0.0028185265, -0.011132898, 3.561108e-05, 0.013702896, 0.022435246, -0.024265312, 0.0027394497, -0.023542322, -0.0174534, -0.017792301, -0.058110222, 0.009816832, 0.017543774, -0.02485274, -0.027360607, 0.018684741, 0.0023285323, -0.020209795, -0.025282014, 0.01831195, 0.03242153, -0.0044141854, -0.0076309205, 0.012256919, 0.004292746, -0.003877592, 0.006167998, -0.005196482, -0.030252561, -0.0003539044, -0.03908658, -0.024039377, -0.051558137, -0.0090599535, 0.012731381, 0.027383199, -0.016109094, 0.021011861, -0.0011014282, -0.017193576, 0.014369402, -0.021170015, 0.015374809, 0.028987331, 0.02598241, 0.012437666, 0.018549182, -0.00746147, 0.021203905, 0.0026702574, 0.019825708, -0.00022381586, -0.011132898, -0.03779876, 0.002647664, 0.00245562, -0.012550633, 0.029145485, 0.022073751, -0.013635117, 0.009150326, 0.014708303, 0.009048657, -0.009991931, 0.026840959, -0.0061115143, 0.008416041, 0.028151376, 0.04527717, 0.0103760185, 0.002630719, 0.01478738, 0.028512869, -0.016075203, 0.007924635, -0.04053256, -0.021237796, -0.011884128, -0.0029738562, 0.022480432, 0.0016069555, 0.03409344, 0.014279028, 0.004705075, -0.013849754, 0.007037844, -0.0013993786, 0.0052275476, 0.010681029, -0.013092875, -0.017193576, -0.024084564, 0.00448479, -0.030862583, 0.02153151, 0.0013167715, -0.007664811, 0.010342129, 0.045570888, -0.02878399, -0.0074727666, 0.023113048, 0.006021141, -0.011070766, -0.015182764, 0.0023129992, 0.013702896, 8.803482e-05, 0.0074162832, -0.036126845, 0.019961268, 0.012855644, 0.005953361, -0.009749052, 0.018436214, 0.015273138, -0.016956346, -0.038431372, -0.008178811, -0.02289841, -0.044508997, 0.0072524813, 0.026886145, 0.022175422, 0.014312918, -0.002197208, 0.018153796, -0.025507947, -0.011200678, -0.01362382, -0.0012242799, 0.011488743, -0.010054063, 0.010726216, 0.00021181312, -0.022028564, 0.040261436, -0.040555153, -9.964042e-05, 0.04466715, 0.0128104575, 0.008992173, -0.015081094, 0.008568547, -0.0015857742, 0.015363512, 0.013928831, -0.01375938, 0.0041571856, 0.0072750747, 0.020650366, 0.0029427903, -0.00015109335, 0.008850964, -0.028106188, 0.021893004, 0.001726983, -0.0027027354, 0.033731945, 0.0013803155, 0.029213265, 0.0049677235, -0.025010893, 0.0008634915, -0.04771726, 0.02638909, 0.014132171, -0.005204954, -0.022446543, -0.0018526587, 0.009432744, 0.042633746, -0.026637617, -0.014301621, 0.008930041, -0.006591624, -0.029168079, 0.014312918, -0.004651416, -0.0005337691, 0.013420479, 0.04200113, -0.0076761073, 0.007958525, -0.029891066, -0.0015787138, -0.034454934, 0.009613492, 0.0059477123, 0.02149762, -0.02276285, -0.050112158, -0.04740095, 0.035652384, -0.0105059305, 0.04898249, -0.016843379, 0.004617526, -0.042565964, 0.022118937, 0.020379245, 0.028896958, -0.0016436698, -0.010556766, 0.028603243, -0.005428064, -0.0032732186, -0.01372549, 0.0019218511, 0.020593883, -0.011268457, -0.0016253126, 0.0031884934, -0.009534415, 0.026208343, -0.010054063, -0.029303638, -0.01567982, 0.00749536, 0.006151053, -0.033731945, 0.012019688, -0.015476478, -0.002146373, 0.01133059, -0.024604212, -0.034500122, -0.008342613, -0.0073541515, 0.027541354, -0.015465181, -0.027089486, -0.0042560315, 0.026840959, 0.01920439, 0.04907286, -0.0033974824, 0.017837489, 0.0065803276, 0.063487455, 0.01256193, -0.019622367, -0.03793432, -0.008286129, 0.006083273, 0.014617929, 0.015250544, -0.021847816, -0.017882675, 0.019486807, -0.020763334, 0.0036855482, 0.017995642, -0.0024414991, 0.024513839, -0.0057754377, -0.033912692, -0.008240942, -0.021249091, 0.017860083, 0.0037928668, -0.022288388, -0.010296942, -0.014606632, -0.039719194, 0.015555555, -0.046271283, 0.011251513, -0.0086250305, 0.0090599535, -0.0011741507, -0.02998144, 0.043288954, 0.01865085, -0.008828371, -0.034884207, -0.034206405, -0.013160655, 0.008291777, -0.04193335, 0.006907932, -0.019814411, 0.022457838, -0.003990559, -0.0063205035, -0.022017268, -0.0033071088, -0.020006455, 0.010805293, -0.05675462, -0.011347535, 0.015883159, -0.013251029, -0.003004922, 0.033008955, 0.023135642, -0.014979424, -0.015691116, 0.0004776386, 0.007591382, 0.041232955, -0.003050109, -0.0024259663, 0.03298636, 0.032127813, 0.0116694905, 0.022028564, 0.016832082, -0.015148874, -0.025937222, -0.010810941, 0.002551642, -0.03989994, 0.015691116, -0.0038295812, -0.034116033, 0.011042524, -0.024694586, 0.010296942, -0.02991366, -0.01578149, 0.026005002, 0.008856612, 0.016459292, 0.04407972, 0.009099492, -0.009348019, 0.014233842, -0.01246026, 0.001146615, 0.012290809, -0.009065601, 0.0029653837, 0.013736786, -0.0074671186, -0.02745098, 0.0075687887, -0.0012009804, 0.015600742, -0.005812152, 0.00042750948, 0.032489307, 0.03648834, -0.015035907, -0.033799727, 0.0016111918, -0.01807472, 0.01372549, -0.008370854, 0.012641007, 0.0054647783, 0.0038041635, -0.007794723, 0.0014685709, -0.012290809, -0.002373719, 0.027722102, 0.038250625, 0.022943597, 0.012720084, -0.010895667, 0.004679658, -0.010630194, 0.0012581699, 0.010827887, 0.012223029, 0.0097998865, 0.007410635, 0.00345679, -0.019283466, -0.000371379, -0.017532477, 0.00035584604, -0.014629226, -0.01037037, -0.0139627205, 0.013861051, -0.018165093, -0.022051157, -0.012912127, -0.025078673, 0.015148874, 0.011449205, 0.021407247, -0.00982248, 0.032150406, -0.01256193, -0.024604212, -0.007834261, 0.03793432, 0.037143547, -0.03269265, 0.01821028, 0.03847656, 0.0022310982, -0.004360526, -0.0051908335, 0.007851206, 0.004730493, 0.018537885, 0.009297184, 0.02187041, 0.03933511, -0.017690632, 0.0045610424, 0.01920439, 0.01961107, -0.0061454047, -0.036081657, 0.025440168, -0.0128104575, -0.00034543188, -0.006156701, -0.020187203, 0.0011840353, -0.03942548, 0.023361575, -0.0032365045, 0.026140563, -0.015589446, -0.024671992, -0.008817074, -0.022751553, -0.024943113, 0.02149762, 0.014448479, 0.0001607132, 0.026705397, -0.0037053174, -0.015691116, 0.00845558, 0.006648108, -0.010438151, -0.010488986, -0.018458808, -0.030614056, -0.0012228678, 0.0042080204, 0.028964737, -0.02525942, 0.014233842, -0.046113126, -0.0042870976, -0.022220608, 0.04767207, -0.010054063, -0.002599653, 0.006416525, 0.025530541, 0.019046236, -0.004504559, 0.011805051, 0.050880335, -0.0035330427, 0.00036396555, 0.016651336, -0.019012345, 0.017340435, 0.014764787, 0.021271685, -0.027405793, 0.029484386, 0.030229969, 0.01136448, 0.00045257402, 0.03077221, -0.009088195, 0.013815864, 0.011031227, -0.000790769, -0.023056563, -0.0071338657, -0.012753974, 0.0029738562, 0.014809974, -0.0030642299, 0.03755023, 0.016030017, -0.02485274, 0.057839103, 0.001695917, -0.003987735, -0.03343823, 0.030320343, 0.09154845, -0.0040300977, 0.0061905915, 0.023271201, 0.03655612, 0.008015009, 0.036601305, 0.004990317, 0.020345356, 0.0011925078, -0.018741224, -0.029303638, 0.02060518, 0.018605664, 0.053184863, 0.0014022029, -0.028286936, -0.0074727666, 0.0023553618, -0.014866456, 0.008026305, -0.022152828, -0.030388122, -0.01875252, 0.008517711, 0.010918261, -0.0030416364, 0.006410877, 0.008472525, -0.017035423, 0.015996126, 0.03203744, -0.00018657206, -0.023451949, -0.012223029, -0.009235052, -0.0029484385, -0.009472283, 0.04048737, -0.016560962, 0.02478496, -0.008195756, 0.016922455, -0.03375454, -0.0054873717, 0.0038493504, -0.017543774, 0.039696604, 0.022005972, 0.00948358, -0.025507947, -0.00629791, -0.028896958, -0.00494513, -0.0059872507, -0.017272653, 0.021542806, -0.045570888, -0.009387557, -0.04398935, -0.00516824, 0.028196562, -0.010618898, 0.021452432, 0.013974017]"
        ]
       ],
       "shape": {
        "columns": 6,
        "rows": 5
       }
      },
      "text/html": [
       "<div>\n",
       "<style scoped>\n",
       "    .dataframe tbody tr th:only-of-type {\n",
       "        vertical-align: middle;\n",
       "    }\n",
       "\n",
       "    .dataframe tbody tr th {\n",
       "        vertical-align: top;\n",
       "    }\n",
       "\n",
       "    .dataframe thead th {\n",
       "        text-align: right;\n",
       "    }\n",
       "</style>\n",
       "<table border=\"1\" class=\"dataframe\">\n",
       "  <thead>\n",
       "    <tr style=\"text-align: right;\">\n",
       "      <th></th>\n",
       "      <th>id</th>\n",
       "      <th>text</th>\n",
       "      <th>source</th>\n",
       "      <th>title</th>\n",
       "      <th>page_label</th>\n",
       "      <th>embedding</th>\n",
       "    </tr>\n",
       "  </thead>\n",
       "  <tbody>\n",
       "    <tr>\n",
       "      <th>0</th>\n",
       "      <td>0</td>\n",
       "      <td>Provided proper attribution is provided, Googl...</td>\n",
       "      <td>./PDFs/attention.pdf</td>\n",
       "      <td></td>\n",
       "      <td>1</td>\n",
       "      <td>[0.024030453, 0.008008195, -0.030085, 0.018222...</td>\n",
       "    </tr>\n",
       "    <tr>\n",
       "      <th>1</th>\n",
       "      <td>1</td>\n",
       "      <td>based solely on attention mechanisms, dispensi...</td>\n",
       "      <td>./PDFs/attention.pdf</td>\n",
       "      <td></td>\n",
       "      <td>1</td>\n",
       "      <td>[0.0071760574, 0.012750796, 0.031213759, -0.00...</td>\n",
       "    </tr>\n",
       "    <tr>\n",
       "      <th>2</th>\n",
       "      <td>2</td>\n",
       "      <td>∗Equal contribution. Listing order is random. ...</td>\n",
       "      <td>./PDFs/attention.pdf</td>\n",
       "      <td></td>\n",
       "      <td>1</td>\n",
       "      <td>[0.016491178, -0.021936744, -0.0035917556, -0....</td>\n",
       "    </tr>\n",
       "    <tr>\n",
       "      <th>3</th>\n",
       "      <td>3</td>\n",
       "      <td>our research.\\n†Work performed while at Google...</td>\n",
       "      <td>./PDFs/attention.pdf</td>\n",
       "      <td></td>\n",
       "      <td>1</td>\n",
       "      <td>[-0.0035893978, 0.024139408, -0.009138941, 0.0...</td>\n",
       "    </tr>\n",
       "    <tr>\n",
       "      <th>4</th>\n",
       "      <td>4</td>\n",
       "      <td>1 Introduction\\nRecurrent neural networks, lon...</td>\n",
       "      <td>./PDFs/attention.pdf</td>\n",
       "      <td></td>\n",
       "      <td>2</td>\n",
       "      <td>[-0.014979424, -0.00016362563, 0.019091422, -0...</td>\n",
       "    </tr>\n",
       "  </tbody>\n",
       "</table>\n",
       "</div>"
      ],
      "text/plain": [
       "   id                                               text  \\\n",
       "0   0  Provided proper attribution is provided, Googl...   \n",
       "1   1  based solely on attention mechanisms, dispensi...   \n",
       "2   2  ∗Equal contribution. Listing order is random. ...   \n",
       "3   3  our research.\\n†Work performed while at Google...   \n",
       "4   4  1 Introduction\\nRecurrent neural networks, lon...   \n",
       "\n",
       "                 source title page_label  \\\n",
       "0  ./PDFs/attention.pdf                1   \n",
       "1  ./PDFs/attention.pdf                1   \n",
       "2  ./PDFs/attention.pdf                1   \n",
       "3  ./PDFs/attention.pdf                1   \n",
       "4  ./PDFs/attention.pdf                2   \n",
       "\n",
       "                                           embedding  \n",
       "0  [0.024030453, 0.008008195, -0.030085, 0.018222...  \n",
       "1  [0.0071760574, 0.012750796, 0.031213759, -0.00...  \n",
       "2  [0.016491178, -0.021936744, -0.0035917556, -0....  \n",
       "3  [-0.0035893978, 0.024139408, -0.009138941, 0.0...  \n",
       "4  [-0.014979424, -0.00016362563, 0.019091422, -0...  "
      ]
     },
     "execution_count": 25,
     "metadata": {},
     "output_type": "execute_result"
    }
   ],
   "source": [
    "df_with_embedding.head()"
   ]
  },
  {
   "cell_type": "code",
   "execution_count": 17,
   "metadata": {},
   "outputs": [],
   "source": [
    "texts = [chunk.page_content for chunk in chunks]\n"
   ]
  },
  {
   "cell_type": "code",
   "execution_count": null,
   "metadata": {},
   "outputs": [],
   "source": [
    "# texts = [\n",
    "#     \"Qdrant is the best vector search engine!\",\n",
    "#     \"Loved by Enterprises and everyone building for low latency, high performance, and scale.\",\n",
    "# ]"
   ]
  },
  {
   "cell_type": "code",
   "execution_count": null,
   "metadata": {},
   "outputs": [],
   "source": [
    "qdrant_client = qdrant_client.QdrantClient(\"http://localhost:6333\", timeout=600)"
   ]
  },
  {
   "cell_type": "code",
   "execution_count": 22,
   "metadata": {},
   "outputs": [],
   "source": [
    "points = [\n",
    "    PointStruct(\n",
    "        id=idx,\n",
    "        vector=data.embedding,\n",
    "        payload={\n",
    "            \"text\": chunk.page_content,\n",
    "            \"page\": chunk.metadata[\"page\"],\n",
    "            \"source\": chunk.metadata[\"source\"],\n",
    "        },\n",
    "    )\n",
    "    for idx, (data, chunk) in enumerate(zip(result.data, chunks), start=1)\n",
    "]"
   ]
  },
  {
   "cell_type": "code",
   "execution_count": 23,
   "metadata": {},
   "outputs": [
    {
     "data": {
      "text/plain": [
       "UpdateResult(operation_id=0, status=<UpdateStatus.COMPLETED: 'completed'>)"
      ]
     },
     "execution_count": 23,
     "metadata": {},
     "output_type": "execute_result"
    }
   ],
   "source": [
    "collection_name = \"example_collection_3\"\n",
    "\n",
    "qdrant_client.create_collection(\n",
    "    collection_name,\n",
    "    vectors_config=VectorParams(\n",
    "        size=1536,\n",
    "        distance=Distance.COSINE,\n",
    "    ),\n",
    ")\n",
    "qdrant_client.upsert(collection_name, points)"
   ]
  },
  {
   "cell_type": "code",
   "execution_count": null,
   "metadata": {},
   "outputs": [],
   "source": []
  }
 ],
 "metadata": {
  "kernelspec": {
   "display_name": ".venv",
   "language": "python",
   "name": "python3"
  },
  "language_info": {
   "codemirror_mode": {
    "name": "ipython",
    "version": 3
   },
   "file_extension": ".py",
   "mimetype": "text/x-python",
   "name": "python",
   "nbconvert_exporter": "python",
   "pygments_lexer": "ipython3",
   "version": "3.12.4"
  }
 },
 "nbformat": 4,
 "nbformat_minor": 2
}
