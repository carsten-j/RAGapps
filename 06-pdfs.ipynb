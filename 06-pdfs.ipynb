{
 "cells": [
  {
   "cell_type": "code",
   "execution_count": null,
   "metadata": {},
   "outputs": [],
   "source": [
    "import os\n",
    "\n",
    "from langchain_community.document_loaders import PyPDFDirectoryLoader\n",
    "from langchain_openai import OpenAIEmbeddings\n",
    "from langchain_text_splitters import RecursiveCharacterTextSplitter\n",
    "from qdrant_client import QdrantClient\n",
    "from qdrant_client.http.models import Distance, VectorParams"
   ]
  },
  {
   "cell_type": "code",
   "execution_count": 2,
   "metadata": {},
   "outputs": [],
   "source": [
    "openai_api_key = os.environ.get(\"OPENAI_API_KEY\")"
   ]
  },
  {
   "cell_type": "code",
   "execution_count": 3,
   "metadata": {},
   "outputs": [
    {
     "data": {
      "text/plain": [
       "1772"
      ]
     },
     "execution_count": 3,
     "metadata": {},
     "output_type": "execute_result"
    }
   ],
   "source": [
    "loader = PyPDFDirectoryLoader(\n",
    "    path=\"/Users/carsten/Documents/Science/LLM\",\n",
    "    glob=\"**/[!.]*.pdf\",\n",
    "    silent_errors=False,\n",
    "    load_hidden=False,\n",
    "    recursive=False,\n",
    "    extract_images=False,\n",
    "    password=None,\n",
    "    mode=\"page\",\n",
    "    # images_to_text=None,\n",
    "    headers=None,\n",
    "    extraction_mode=\"plain\",\n",
    "    # extraction_kwargs = None,\n",
    ")\n",
    "docs = loader.load()\n",
    "len(docs)"
   ]
  },
  {
   "cell_type": "code",
   "execution_count": 4,
   "metadata": {},
   "outputs": [
    {
     "data": {
      "text/plain": [
       "9438"
      ]
     },
     "execution_count": 4,
     "metadata": {},
     "output_type": "execute_result"
    }
   ],
   "source": [
    "text_splitter = RecursiveCharacterTextSplitter(\n",
    "    chunk_size=512, chunk_overlap=128, add_start_index=True\n",
    ")\n",
    "\n",
    "all_splits = text_splitter.split_documents(docs)\n",
    "\n",
    "len(all_splits)"
   ]
  },
  {
   "cell_type": "code",
   "execution_count": 5,
   "metadata": {},
   "outputs": [
    {
     "data": {
      "text/plain": [
       "Document(metadata={'producer': 'macOS Version 14.4.1 (Build 23E224) Quartz PDFContext', 'creator': 'PyPDF', 'creationdate': '2025-01-25T22:04:23+00:00', 'moddate': '2025-01-25T17:09:36-05:00', 'source': '/Users/carsten/Documents/Science/LLM/The Hundred-page Language Models Book.pdf', 'total_pages': 209, 'page': 1, 'page_label': '2', 'start_index': 0}, page_content='1')"
      ]
     },
     "execution_count": 5,
     "metadata": {},
     "output_type": "execute_result"
    }
   ],
   "source": [
    "all_splits[0]"
   ]
  },
  {
   "cell_type": "code",
   "execution_count": 6,
   "metadata": {},
   "outputs": [],
   "source": [
    "# Initialize the text embedding model from OpenAI\n",
    "text_embedding_model = OpenAIEmbeddings(model=\"text-embedding-3-small\")"
   ]
  },
  {
   "cell_type": "code",
   "execution_count": 7,
   "metadata": {},
   "outputs": [],
   "source": [
    "collection_name = \"pdfs\""
   ]
  },
  {
   "cell_type": "code",
   "execution_count": 8,
   "metadata": {},
   "outputs": [],
   "source": [
    "client = QdrantClient(\"http://localhost:6333\", timeout=600)\n"
   ]
  },
  {
   "cell_type": "code",
   "execution_count": null,
   "metadata": {},
   "outputs": [
    {
     "data": {
      "text/plain": [
       "True"
      ]
     },
     "execution_count": 10,
     "metadata": {},
     "output_type": "execute_result"
    }
   ],
   "source": [
    "client.create_collection(\n",
    "    collection_name,\n",
    "    vectors_config={\n",
    "        \"vector\": VectorParams(\n",
    "            size=384,\n",
    "            distance=Distance.COSINE,\n",
    "        ),\n",
    "    },\n",
    ")"
   ]
  },
  {
   "cell_type": "code",
   "execution_count": 11,
   "metadata": {},
   "outputs": [],
   "source": [
    "documents = []\n",
    "for split in all_splits:\n",
    "    documents.append(split.page_content)"
   ]
  },
  {
   "cell_type": "code",
   "execution_count": 12,
   "metadata": {},
   "outputs": [
    {
     "data": {
      "text/plain": [
       "\"the journey from lin-ear algebra basics to the implementation of transformers.”  ― Florian Douetteau, Co-founder and CEO at Dataiku “Andriy's book is an incredibly concise, clear, and accessible introduc-tion to machine learning.”  ― Andre Zayarni, Co-founder and CEO at Qdrant “This is one of the most comprehensive yet concise handbooks out there for truly understanding how LLMs work under the hood.”  ― Jerry Liu, Co-founder and CEO at LlamaIndex    Featuring a foreword by Tomáš Mikolov and back cover text\""
      ]
     },
     "execution_count": 12,
     "metadata": {},
     "output_type": "execute_result"
    }
   ],
   "source": [
    "documents[2]"
   ]
  },
  {
   "cell_type": "code",
   "execution_count": 13,
   "metadata": {},
   "outputs": [],
   "source": [
    "points = []"
   ]
  },
  {
   "cell_type": "code",
   "execution_count": 14,
   "metadata": {},
   "outputs": [
    {
     "ename": "AssertionError",
     "evalue": "Collection have incompatible vector params: {'vector': VectorParams(size=1536, distance=<Distance.COSINE: 'Cosine'>, hnsw_config=None, quantization_config=None, on_disk=None, datatype=None, multivector_config=None)}, expected fast-bge-small-en",
     "output_type": "error",
     "traceback": [
      "\u001b[31m---------------------------------------------------------------------------\u001b[39m",
      "\u001b[31mAssertionError\u001b[39m                            Traceback (most recent call last)",
      "\u001b[36mCell\u001b[39m\u001b[36m \u001b[39m\u001b[32mIn[14]\u001b[39m\u001b[32m, line 10\u001b[39m\n\u001b[32m      1\u001b[39m index = \u001b[32m1\u001b[39m\n\u001b[32m      2\u001b[39m \u001b[38;5;28;01mfor\u001b[39;00m split \u001b[38;5;129;01min\u001b[39;00m all_splits:\n\u001b[32m      3\u001b[39m     \u001b[38;5;66;03m# dense_embeddings = text_embedding_model.embed_query(split.page_content)\u001b[39;00m\n\u001b[32m      4\u001b[39m     \u001b[38;5;66;03m# foo = len(dense_embeddings)\u001b[39;00m\n\u001b[32m   (...)\u001b[39m\u001b[32m      8\u001b[39m     \u001b[38;5;66;03m#     payload={\"_id\": id},\u001b[39;00m\n\u001b[32m      9\u001b[39m     \u001b[38;5;66;03m# )\u001b[39;00m\n\u001b[32m---> \u001b[39m\u001b[32m10\u001b[39m     \u001b[43mclient\u001b[49m\u001b[43m.\u001b[49m\u001b[43madd\u001b[49m\u001b[43m(\u001b[49m\n\u001b[32m     11\u001b[39m \u001b[43m        \u001b[49m\u001b[43mcollection_name\u001b[49m\u001b[43m,\u001b[49m\n\u001b[32m     12\u001b[39m \u001b[43m        \u001b[49m\u001b[43mdocuments\u001b[49m\u001b[43m=\u001b[49m\u001b[43mdocuments\u001b[49m\u001b[43m,\u001b[49m\n\u001b[32m     13\u001b[39m \u001b[43m    \u001b[49m\u001b[43m)\u001b[49m\n\u001b[32m     14\u001b[39m     \u001b[38;5;66;03m# client.upload_points(\u001b[39;00m\n\u001b[32m     15\u001b[39m     \u001b[38;5;66;03m#     collection_name,\u001b[39;00m\n\u001b[32m     16\u001b[39m     \u001b[38;5;66;03m#     points=[point],\u001b[39;00m\n\u001b[32m     17\u001b[39m     \u001b[38;5;66;03m# )\u001b[39;00m\n\u001b[32m     18\u001b[39m     \u001b[38;5;66;03m# index += 1\u001b[39;00m\n",
      "\u001b[36mFile \u001b[39m\u001b[32m~/Dev/RAGapps/.venv/lib/python3.12/site-packages/qdrant_client/qdrant_fastembed.py:656\u001b[39m, in \u001b[36mQdrantFastembedMixin.add\u001b[39m\u001b[34m(self, collection_name, documents, metadata, ids, batch_size, parallel, **kwargs)\u001b[39m\n\u001b[32m    649\u001b[39m     \u001b[38;5;28mself\u001b[39m.create_collection(\n\u001b[32m    650\u001b[39m         collection_name=collection_name,\n\u001b[32m    651\u001b[39m         vectors_config=\u001b[38;5;28mself\u001b[39m.get_fastembed_vector_params(),\n\u001b[32m    652\u001b[39m         sparse_vectors_config=\u001b[38;5;28mself\u001b[39m.get_fastembed_sparse_vector_params(),\n\u001b[32m    653\u001b[39m     )\n\u001b[32m    654\u001b[39m     collection_info = \u001b[38;5;28mself\u001b[39m.get_collection(collection_name=collection_name)\n\u001b[32m--> \u001b[39m\u001b[32m656\u001b[39m \u001b[38;5;28;43mself\u001b[39;49m\u001b[43m.\u001b[49m\u001b[43m_validate_collection_info\u001b[49m\u001b[43m(\u001b[49m\u001b[43mcollection_info\u001b[49m\u001b[43m)\u001b[49m\n\u001b[32m    658\u001b[39m inserted_ids: \u001b[38;5;28mlist\u001b[39m = []\n\u001b[32m    660\u001b[39m points = \u001b[38;5;28mself\u001b[39m._points_iterator(\n\u001b[32m    661\u001b[39m     ids=ids,\n\u001b[32m    662\u001b[39m     metadata=metadata,\n\u001b[32m   (...)\u001b[39m\u001b[32m    665\u001b[39m     sparse_vectors=encoded_sparse_docs,\n\u001b[32m    666\u001b[39m )\n",
      "\u001b[36mFile \u001b[39m\u001b[32m~/Dev/RAGapps/.venv/lib/python3.12/site-packages/qdrant_client/qdrant_fastembed.py:500\u001b[39m, in \u001b[36mQdrantFastembedMixin._validate_collection_info\u001b[39m\u001b[34m(self, collection_info)\u001b[39m\n\u001b[32m    494\u001b[39m \u001b[38;5;66;03m# Check if collection has compatible vector params\u001b[39;00m\n\u001b[32m    495\u001b[39m \u001b[38;5;28;01massert\u001b[39;00m \u001b[38;5;28misinstance\u001b[39m(\n\u001b[32m    496\u001b[39m     collection_info.config.params.vectors, \u001b[38;5;28mdict\u001b[39m\n\u001b[32m    497\u001b[39m ), \u001b[33mf\u001b[39m\u001b[33m\"\u001b[39m\u001b[33mCollection have incompatible vector params: \u001b[39m\u001b[38;5;132;01m{\u001b[39;00mcollection_info.config.params.vectors\u001b[38;5;132;01m}\u001b[39;00m\u001b[33m\"\u001b[39m\n\u001b[32m    499\u001b[39m \u001b[38;5;28;01massert\u001b[39;00m (\n\u001b[32m--> \u001b[39m\u001b[32m500\u001b[39m     vector_field_name \u001b[38;5;129;01min\u001b[39;00m collection_info.config.params.vectors\n\u001b[32m    501\u001b[39m ), \u001b[33mf\u001b[39m\u001b[33m\"\u001b[39m\u001b[33mCollection have incompatible vector params: \u001b[39m\u001b[38;5;132;01m{\u001b[39;00mcollection_info.config.params.vectors\u001b[38;5;132;01m}\u001b[39;00m\u001b[33m, expected \u001b[39m\u001b[38;5;132;01m{\u001b[39;00mvector_field_name\u001b[38;5;132;01m}\u001b[39;00m\u001b[33m\"\u001b[39m\n\u001b[32m    503\u001b[39m vector_params = collection_info.config.params.vectors[vector_field_name]\n\u001b[32m    505\u001b[39m \u001b[38;5;28;01massert\u001b[39;00m (\n\u001b[32m    506\u001b[39m     embeddings_size == vector_params.size\n\u001b[32m    507\u001b[39m ), \u001b[33mf\u001b[39m\u001b[33m\"\u001b[39m\u001b[33mEmbedding size mismatch: \u001b[39m\u001b[38;5;132;01m{\u001b[39;00membeddings_size\u001b[38;5;132;01m}\u001b[39;00m\u001b[33m != \u001b[39m\u001b[38;5;132;01m{\u001b[39;00mvector_params.size\u001b[38;5;132;01m}\u001b[39;00m\u001b[33m\"\u001b[39m\n",
      "\u001b[31mAssertionError\u001b[39m: Collection have incompatible vector params: {'vector': VectorParams(size=1536, distance=<Distance.COSINE: 'Cosine'>, hnsw_config=None, quantization_config=None, on_disk=None, datatype=None, multivector_config=None)}, expected fast-bge-small-en"
     ]
    }
   ],
   "source": [
    "index = 1\n",
    "for split in all_splits:\n",
    "    # dense_embeddings = text_embedding_model.embed_query(split.page_content)\n",
    "    # foo = len(dense_embeddings)\n",
    "    # point = PointStruct(\n",
    "    #     id=int(index),\n",
    "    #     vector={\"vector\": dense_embeddings},\n",
    "    #     payload={\"_id\": id},\n",
    "    # )\n",
    "    client.add(\n",
    "        collection_name,\n",
    "        documents=documents,\n",
    "    )\n",
    "    # client.upload_points(\n",
    "    #     collection_name,\n",
    "    #     points=[point],\n",
    "    # )\n",
    "    # index += 1"
   ]
  },
  {
   "cell_type": "code",
   "execution_count": null,
   "metadata": {},
   "outputs": [],
   "source": []
  }
 ],
 "metadata": {
  "kernelspec": {
   "display_name": ".venv",
   "language": "python",
   "name": "python3"
  },
  "language_info": {
   "codemirror_mode": {
    "name": "ipython",
    "version": 3
   },
   "file_extension": ".py",
   "mimetype": "text/x-python",
   "name": "python",
   "nbconvert_exporter": "python",
   "pygments_lexer": "ipython3",
   "version": "3.12.8"
  }
 },
 "nbformat": 4,
 "nbformat_minor": 2
}
