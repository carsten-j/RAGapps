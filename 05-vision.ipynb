{
 "cells": [
  {
   "cell_type": "code",
   "execution_count": 2,
   "metadata": {},
   "outputs": [],
   "source": [
    "import json\n",
    "import os\n",
    "\n",
    "import requests\n"
   ]
  },
  {
   "cell_type": "code",
   "execution_count": 3,
   "metadata": {},
   "outputs": [],
   "source": [
    "API_KEY = os.environ.get(\"VISION_AGENT_API\")"
   ]
  },
  {
   "cell_type": "code",
   "execution_count": 4,
   "metadata": {},
   "outputs": [],
   "source": [
    "url = \"https://api.va.landing.ai/v1/tools/agentic-document-analysis\""
   ]
  },
  {
   "cell_type": "code",
   "execution_count": 5,
   "metadata": {},
   "outputs": [],
   "source": [
    "files = {\n",
    "    \"image\": open(\"./images/kol.jpg\", \"rb\")\n",
    "    # OR, for PDF\n",
    "    # \"pdf\": open(\"./PDFs/attention.pdf\", \"rb\")\n",
    "}"
   ]
  },
  {
   "cell_type": "code",
   "execution_count": 6,
   "metadata": {},
   "outputs": [],
   "source": [
    "headers = {\n",
    "    \"Authorization\": f\"Basic {API_KEY}\",\n",
    "}"
   ]
  },
  {
   "cell_type": "code",
   "execution_count": 7,
   "metadata": {},
   "outputs": [],
   "source": [
    "response = requests.post(url, files=files, headers=headers)"
   ]
  },
  {
   "cell_type": "code",
   "execution_count": 8,
   "metadata": {},
   "outputs": [
    {
     "name": "stdout",
     "output_type": "stream",
     "text": [
      "{\n",
      "  \"data\": {\n",
      "    \"markdown\": \"# N\\u00e5r vi kan chatte med guidelines <!-- title, from page 0 (l=0.037,t=0.040,r=0.624,b=0.124), with ID 6d12aae5-2c70-4a35-8217-24154f386252 -->\\n\\n## RAG-AI og KOL-forebyggelsens / -behandlingens n\\u00e6ste skridt <!-- text, from page 0 (l=0.036,t=0.140,r=0.589,b=0.182), with ID 852e671d-196d-4444-837b-bb97fc5c7dd6 -->\\n\\n## KOL Index\\n\\nImplementering af et Retrieval-Augmented Generation (RAG) AI-system til optimering af behandlingen af kronisk obstruktiv lungesygdom (KOL) giver betydelige fordele for flere interessenter.\\n\\nVed at udnytte vektor-database og en LLM-gr\\u00e6nseflade kan vi skabe en platform, der ikke kun uddanner, men ogs\\u00e5 indsamler v\\u00e6rdifulde data for at forbedre h\\u00e5ndtering af KOL\\n\\nKOL viden?  \\nKOL Self management? <!-- text, from page 0 (l=0.229,t=0.295,r=0.553,b=0.819), with ID 55292c54-fac2-4a15-a16e-0519905eb227 -->\\n\\n## Description\\n\\nThe image is a diagram illustrating a conceptual model involving a vector database and its interaction with PubMed. \\n\\n- **Central Element**: \\n  - A database icon is depicted at the center, labeled as \\\"Vector Database.\\\"\\n\\n- **Surrounding Elements**: \\n  - The central database is connected to five circular nodes arranged in a hexagonal pattern. Each node is connected to the central database with a line.\\n  - Each node has a small circle inside, with a dot in the center, resembling a power button symbol. None of these buttons are filled.\\n\\n- **Text and Labels**:\\n  - The label \\\"Vector Database\\\" is placed above the central database icon.\\n  - The PubMed logo is positioned to the left of the diagram, indicating a connection or relationship with the vector database.\\n\\n- **Arrows**:\\n  - A large curved arrow is present on the right side of the diagram, pointing upwards, suggesting a flow or direction of data or process.\\n\\nThis diagram likely represents a system where a vector database interacts with PubMed, possibly for data retrieval or storage, with the nodes indicating different processes or components involved in this interaction. <!-- figure, from page 0 (l=0.008,t=0.287,r=0.220,b=0.792), with ID 27497116-bda5-413f-930c-9f4f7fa22d60 -->\\n\\n## Arbejdsmarkedstilknytning for 30-64-\\u00e5rige personer med og uden KOL i 2023\\n\\n### Description\\n\\nThis chart illustrates the labor market attachment for individuals aged 30-64 with and without Chronic Obstructive Pulmonary Disease (KOL) in 2023. It compares the employment status of two groups: \\\"Personer med KOL\\\" (People with KOL) and \\\"Kontrolpersoner\\\" (Control persons).\\n\\n### Chart Details\\n\\n- **Personer med KOL**:\\n  - 41% are in the ordinary labor market.\\n  - 15% are temporarily out of the labor market.\\n  - 44% are permanently out of the labor market.\\n\\n- **Kontrolpersoner**:\\n  - 79% are in the ordinary labor market.\\n  - 8% are temporarily out of the labor market.\\n  - 13% are permanently out of the labor market.\\n\\n### Additional Information\\n\\n- **Antallet af personer i Danmark med KOL er**: 159,850\\n- **59%** of people with KOL are either temporarily or permanently out of the labor market.\\n- The lower labor market participation of KOL patients corresponds to the removal of **14,359 full-time employees** from the workforce.\\n\\n### Source\\n\\n- **Kilde**: Dansk Erhverv pba. Sundhedsstyrelsen. <!-- table, from page 0 (l=0.590,t=0.269,r=0.966,b=0.914), with ID fdacc7d8-0d94-448a-876a-61cea547d5fe -->\",\n",
      "    \"chunks\": [\n",
      "      {\n",
      "        \"text\": \"# N\\u00e5r vi kan chatte med guidelines\",\n",
      "        \"grounding\": [\n",
      "          {\n",
      "            \"box\": {\n",
      "              \"l\": 0.03688561377971858,\n",
      "              \"t\": 0.039999999999999994,\n",
      "              \"r\": 0.6240320232896651,\n",
      "              \"b\": 0.12375\n",
      "            },\n",
      "            \"page\": 0\n",
      "          }\n",
      "        ],\n",
      "        \"chunk_type\": \"title\",\n",
      "        \"chunk_id\": \"6d12aae5-2c70-4a35-8217-24154f386252\"\n",
      "      },\n",
      "      {\n",
      "        \"text\": \"## RAG-AI og KOL-forebyggelsens / -behandlingens n\\u00e6ste skridt\",\n",
      "        \"grounding\": [\n",
      "          {\n",
      "            \"box\": {\n",
      "              \"l\": 0.035676249393498304,\n",
      "              \"t\": 0.13999999999999999,\n",
      "              \"r\": 0.5889604560892769,\n",
      "              \"b\": 0.1825\n",
      "            },\n",
      "            \"page\": 0\n",
      "          }\n",
      "        ],\n",
      "        \"chunk_type\": \"text\",\n",
      "        \"chunk_id\": \"852e671d-196d-4444-837b-bb97fc5c7dd6\"\n",
      "      },\n",
      "      {\n",
      "        \"text\": \"## KOL Index\\n\\nImplementering af et Retrieval-Augmented Generation (RAG) AI-system til optimering af behandlingen af kronisk obstruktiv lungesygdom (KOL) giver betydelige fordele for flere interessenter.\\n\\nVed at udnytte vektor-database og en LLM-gr\\u00e6nseflade kan vi skabe en platform, der ikke kun uddanner, men ogs\\u00e5 indsamler v\\u00e6rdifulde data for at forbedre h\\u00e5ndtering af KOL\\n\\nKOL viden?  \\nKOL Self management?\",\n",
      "        \"grounding\": [\n",
      "          {\n",
      "            \"box\": {\n",
      "              \"l\": 0.22917455118874333,\n",
      "              \"t\": 0.295,\n",
      "              \"r\": 0.5532842066957787,\n",
      "              \"b\": 0.81875\n",
      "            },\n",
      "            \"page\": 0\n",
      "          }\n",
      "        ],\n",
      "        \"chunk_type\": \"text\",\n",
      "        \"chunk_id\": \"55292c54-fac2-4a15-a16e-0519905eb227\"\n",
      "      },\n",
      "      {\n",
      "        \"text\": \"## Description\\n\\nThe image is a diagram illustrating a conceptual model involving a vector database and its interaction with PubMed. \\n\\n- **Central Element**: \\n  - A database icon is depicted at the center, labeled as \\\"Vector Database.\\\"\\n\\n- **Surrounding Elements**: \\n  - The central database is connected to five circular nodes arranged in a hexagonal pattern. Each node is connected to the central database with a line.\\n  - Each node has a small circle inside, with a dot in the center, resembling a power button symbol. None of these buttons are filled.\\n\\n- **Text and Labels**:\\n  - The label \\\"Vector Database\\\" is placed above the central database icon.\\n  - The PubMed logo is positioned to the left of the diagram, indicating a connection or relationship with the vector database.\\n\\n- **Arrows**:\\n  - A large curved arrow is present on the right side of the diagram, pointing upwards, suggesting a flow or direction of data or process.\\n\\nThis diagram likely represents a system where a vector database interacts with PubMed, possibly for data retrieval or storage, with the nodes indicating different processes or components involved in this interaction.\",\n",
      "        \"grounding\": [\n",
      "          {\n",
      "            \"box\": {\n",
      "              \"l\": 0.007860868510431829,\n",
      "              \"t\": 0.2875,\n",
      "              \"r\": 0.2201043182920912,\n",
      "              \"b\": 0.7925\n",
      "            },\n",
      "            \"page\": 0\n",
      "          }\n",
      "        ],\n",
      "        \"chunk_type\": \"figure\",\n",
      "        \"chunk_id\": \"27497116-bda5-413f-930c-9f4f7fa22d60\"\n",
      "      },\n",
      "      {\n",
      "        \"text\": \"## Arbejdsmarkedstilknytning for 30-64-\\u00e5rige personer med og uden KOL i 2023\\n\\n### Description\\n\\nThis chart illustrates the labor market attachment for individuals aged 30-64 with and without Chronic Obstructive Pulmonary Disease (KOL) in 2023. It compares the employment status of two groups: \\\"Personer med KOL\\\" (People with KOL) and \\\"Kontrolpersoner\\\" (Control persons).\\n\\n### Chart Details\\n\\n- **Personer med KOL**:\\n  - 41% are in the ordinary labor market.\\n  - 15% are temporarily out of the labor market.\\n  - 44% are permanently out of the labor market.\\n\\n- **Kontrolpersoner**:\\n  - 79% are in the ordinary labor market.\\n  - 8% are temporarily out of the labor market.\\n  - 13% are permanently out of the labor market.\\n\\n### Additional Information\\n\\n- **Antallet af personer i Danmark med KOL er**: 159,850\\n- **59%** of people with KOL are either temporarily or permanently out of the labor market.\\n- The lower labor market participation of KOL patients corresponds to the removal of **14,359 full-time employees** from the workforce.\\n\\n### Source\\n\\n- **Kilde**: Dansk Erhverv pba. Sundhedsstyrelsen.\",\n",
      "        \"grounding\": [\n",
      "          {\n",
      "            \"box\": {\n",
      "              \"l\": 0.5901698204754973,\n",
      "              \"t\": 0.26875,\n",
      "              \"r\": 0.9662821445900048,\n",
      "              \"b\": 0.91375\n",
      "            },\n",
      "            \"page\": 0\n",
      "          }\n",
      "        ],\n",
      "        \"chunk_type\": \"table\",\n",
      "        \"chunk_id\": \"fdacc7d8-0d94-448a-876a-61cea547d5fe\"\n",
      "      }\n",
      "    ]\n",
      "  }\n",
      "}\n"
     ]
    }
   ],
   "source": [
    "json_formatted_str = json.dumps(response.json(), indent=2)\n",
    "print(json_formatted_str)"
   ]
  }
 ],
 "metadata": {
  "kernelspec": {
   "display_name": ".venv",
   "language": "python",
   "name": "python3"
  },
  "language_info": {
   "codemirror_mode": {
    "name": "ipython",
    "version": 3
   },
   "file_extension": ".py",
   "mimetype": "text/x-python",
   "name": "python",
   "nbconvert_exporter": "python",
   "pygments_lexer": "ipython3",
   "version": "3.12.4"
  }
 },
 "nbformat": 4,
 "nbformat_minor": 2
}
